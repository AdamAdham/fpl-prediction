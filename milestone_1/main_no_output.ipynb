{
 "cells": [
  {
   "cell_type": "markdown",
   "id": "ea8a2319",
   "metadata": {
    "papermill": {
     "duration": 0.028184,
     "end_time": "2025-10-23T23:28:14.333436",
     "exception": false,
     "start_time": "2025-10-23T23:28:14.305252",
     "status": "completed"
    },
    "tags": []
   },
   "source": [
    "# Imports\n"
   ]
  },
  {
   "cell_type": "code",
   "execution_count": null,
   "id": "346e65d3",
   "metadata": {
    "execution": {
     "iopub.execute_input": "2025-10-23T23:28:14.385054Z",
     "iopub.status.busy": "2025-10-23T23:28:14.384589Z",
     "iopub.status.idle": "2025-10-23T23:28:20.451433Z",
     "shell.execute_reply": "2025-10-23T23:28:20.450345Z"
    },
    "papermill": {
     "duration": 6.094206,
     "end_time": "2025-10-23T23:28:20.453276",
     "exception": false,
     "start_time": "2025-10-23T23:28:14.359070",
     "status": "completed"
    },
    "tags": []
   },
   "outputs": [],
   "source": [
    "!pip install pandas numpy matplotlib seaborn shap lime"
   ]
  },
  {
   "cell_type": "markdown",
   "id": "cb39d807",
   "metadata": {
    "papermill": {
     "duration": 0.024639,
     "end_time": "2025-10-23T23:28:20.502922",
     "exception": false,
     "start_time": "2025-10-23T23:28:20.478283",
     "status": "completed"
    },
    "tags": []
   },
   "source": [
    "pip install pandas numpy matplotlib seaborn shap lime\n"
   ]
  },
  {
   "cell_type": "code",
   "execution_count": null,
   "id": "31e4d759",
   "metadata": {
    "execution": {
     "iopub.execute_input": "2025-10-23T23:28:20.552925Z",
     "iopub.status.busy": "2025-10-23T23:28:20.552534Z",
     "iopub.status.idle": "2025-10-23T23:28:24.946609Z",
     "shell.execute_reply": "2025-10-23T23:28:24.945368Z"
    },
    "papermill": {
     "duration": 4.421909,
     "end_time": "2025-10-23T23:28:24.948637",
     "exception": false,
     "start_time": "2025-10-23T23:28:20.526728",
     "status": "completed"
    },
    "tags": []
   },
   "outputs": [],
   "source": [
    "import pandas as pd\n",
    "import numpy as np\n",
    "import matplotlib.pyplot as plt\n",
    "import seaborn as sns\n",
    "import warnings\n",
    "\n",
    "pd.set_option(\"display.max_columns\", None)\n",
    "pd.set_option(\"display.max_rows\", 200)"
   ]
  },
  {
   "cell_type": "code",
   "execution_count": null,
   "id": "d259c950",
   "metadata": {
    "execution": {
     "iopub.execute_input": "2025-10-23T23:28:24.998779Z",
     "iopub.status.busy": "2025-10-23T23:28:24.998307Z",
     "iopub.status.idle": "2025-10-23T23:28:25.003933Z",
     "shell.execute_reply": "2025-10-23T23:28:25.002335Z"
    },
    "papermill": {
     "duration": 0.032995,
     "end_time": "2025-10-23T23:28:25.005884",
     "exception": false,
     "start_time": "2025-10-23T23:28:24.972889",
     "status": "completed"
    },
    "tags": []
   },
   "outputs": [],
   "source": [
    "# path_global = \"/kaggle/input/fantasy-football/cleaned_merged_seasons.csv\"\n",
    "path_global = \"./data/cleaned_merged_seasons.csv\""
   ]
  },
  {
   "cell_type": "code",
   "execution_count": null,
   "id": "007bd12b",
   "metadata": {
    "execution": {
     "iopub.execute_input": "2025-10-23T23:28:25.058745Z",
     "iopub.status.busy": "2025-10-23T23:28:25.058428Z",
     "iopub.status.idle": "2025-10-23T23:28:25.850336Z",
     "shell.execute_reply": "2025-10-23T23:28:25.849090Z"
    },
    "papermill": {
     "duration": 0.819274,
     "end_time": "2025-10-23T23:28:25.851888",
     "exception": false,
     "start_time": "2025-10-23T23:28:25.032614",
     "status": "completed"
    },
    "tags": []
   },
   "outputs": [],
   "source": [
    "df = pd.read_csv(path_global)\n",
    "print(df.shape)\n",
    "df.head()"
   ]
  },
  {
   "cell_type": "code",
   "execution_count": null,
   "id": "d5dda271",
   "metadata": {
    "execution": {
     "iopub.execute_input": "2025-10-23T23:28:25.906753Z",
     "iopub.status.busy": "2025-10-23T23:28:25.906415Z",
     "iopub.status.idle": "2025-10-23T23:28:25.919206Z",
     "shell.execute_reply": "2025-10-23T23:28:25.917477Z"
    },
    "papermill": {
     "duration": 0.043624,
     "end_time": "2025-10-23T23:28:25.921790",
     "exception": false,
     "start_time": "2025-10-23T23:28:25.878166",
     "status": "completed"
    },
    "tags": []
   },
   "outputs": [],
   "source": [
    "df_original = (\n",
    "    df.copy()\n",
    ")  # keep a copy of the original dataframe for visualizations at least"
   ]
  },
  {
   "cell_type": "markdown",
   "id": "850269bf",
   "metadata": {
    "papermill": {
     "duration": 0.02497,
     "end_time": "2025-10-23T23:28:25.975071",
     "exception": false,
     "start_time": "2025-10-23T23:28:25.950101",
     "status": "completed"
    },
    "tags": []
   },
   "source": [
    "# EDA\n"
   ]
  },
  {
   "cell_type": "code",
   "execution_count": null,
   "id": "727f001f",
   "metadata": {
    "execution": {
     "iopub.execute_input": "2025-10-23T23:28:26.031562Z",
     "iopub.status.busy": "2025-10-23T23:28:26.031163Z",
     "iopub.status.idle": "2025-10-23T23:28:26.044172Z",
     "shell.execute_reply": "2025-10-23T23:28:26.042818Z"
    },
    "papermill": {
     "duration": 0.045178,
     "end_time": "2025-10-23T23:28:26.046277",
     "exception": false,
     "start_time": "2025-10-23T23:28:26.001099",
     "status": "completed"
    },
    "tags": []
   },
   "outputs": [],
   "source": [
    "df.columns"
   ]
  },
  {
   "cell_type": "code",
   "execution_count": null,
   "id": "4a3e6784",
   "metadata": {
    "execution": {
     "iopub.execute_input": "2025-10-23T23:28:26.101935Z",
     "iopub.status.busy": "2025-10-23T23:28:26.101574Z",
     "iopub.status.idle": "2025-10-23T23:28:26.172537Z",
     "shell.execute_reply": "2025-10-23T23:28:26.171014Z"
    },
    "papermill": {
     "duration": 0.100851,
     "end_time": "2025-10-23T23:28:26.174355",
     "exception": false,
     "start_time": "2025-10-23T23:28:26.073504",
     "status": "completed"
    },
    "tags": []
   },
   "outputs": [],
   "source": [
    "df.info()"
   ]
  },
  {
   "cell_type": "markdown",
   "id": "b32d788a",
   "metadata": {
    "papermill": {
     "duration": 0.028001,
     "end_time": "2025-10-23T23:28:26.229192",
     "exception": false,
     "start_time": "2025-10-23T23:28:26.201191",
     "status": "completed"
    },
    "tags": []
   },
   "source": [
    "Only null values in team_x -> will be handled in Data Cleaning\n"
   ]
  },
  {
   "cell_type": "code",
   "execution_count": null,
   "id": "ff450d43",
   "metadata": {
    "execution": {
     "iopub.execute_input": "2025-10-23T23:28:26.283655Z",
     "iopub.status.busy": "2025-10-23T23:28:26.283308Z",
     "iopub.status.idle": "2025-10-23T23:28:26.306408Z",
     "shell.execute_reply": "2025-10-23T23:28:26.305325Z"
    },
    "papermill": {
     "duration": 0.053184,
     "end_time": "2025-10-23T23:28:26.308053",
     "exception": false,
     "start_time": "2025-10-23T23:28:26.254869",
     "status": "completed"
    },
    "tags": []
   },
   "outputs": [],
   "source": [
    "duplicate_rows = df[df.duplicated(subset=[\"element\", \"kickoff_time\"], keep=False)]\n",
    "\n",
    "\n",
    "num_duplicates = len(duplicate_rows)\n",
    "print(f\"Number of rows with duplicate (element, kickoff_time): {num_duplicates}\")"
   ]
  },
  {
   "cell_type": "markdown",
   "id": "ddc28696",
   "metadata": {
    "papermill": {
     "duration": 0.026557,
     "end_time": "2025-10-23T23:28:26.360752",
     "exception": false,
     "start_time": "2025-10-23T23:28:26.334195",
     "status": "completed"
    },
    "tags": []
   },
   "source": [
    "No duplicate entries\n"
   ]
  },
  {
   "cell_type": "markdown",
   "id": "a452e0ca",
   "metadata": {
    "papermill": {
     "duration": 0.026569,
     "end_time": "2025-10-23T23:28:26.413844",
     "exception": false,
     "start_time": "2025-10-23T23:28:26.387275",
     "status": "completed"
    },
    "tags": []
   },
   "source": [
    "#### Minutes Analysis\n"
   ]
  },
  {
   "cell_type": "code",
   "execution_count": null,
   "id": "ab7deb16",
   "metadata": {
    "execution": {
     "iopub.execute_input": "2025-10-23T23:28:26.466441Z",
     "iopub.status.busy": "2025-10-23T23:28:26.466109Z",
     "iopub.status.idle": "2025-10-23T23:28:26.842246Z",
     "shell.execute_reply": "2025-10-23T23:28:26.841125Z"
    },
    "papermill": {
     "duration": 0.404821,
     "end_time": "2025-10-23T23:28:26.844258",
     "exception": false,
     "start_time": "2025-10-23T23:28:26.439437",
     "status": "completed"
    },
    "tags": []
   },
   "outputs": [],
   "source": [
    "df[(df[\"position\"] != \"GK\")][\"minutes\"].hist()"
   ]
  },
  {
   "cell_type": "code",
   "execution_count": null,
   "id": "c56243be",
   "metadata": {
    "execution": {
     "iopub.execute_input": "2025-10-23T23:28:26.899769Z",
     "iopub.status.busy": "2025-10-23T23:28:26.899431Z",
     "iopub.status.idle": "2025-10-23T23:28:27.101738Z",
     "shell.execute_reply": "2025-10-23T23:28:27.100741Z"
    },
    "papermill": {
     "duration": 0.232818,
     "end_time": "2025-10-23T23:28:27.103752",
     "exception": false,
     "start_time": "2025-10-23T23:28:26.870934",
     "status": "completed"
    },
    "tags": []
   },
   "outputs": [],
   "source": [
    "df[(df[\"position\"] != \"GK\") & (df[\"minutes\"] > 0) & (df[\"minutes\"] < 80)][\n",
    "    \"minutes\"\n",
    "].hist()"
   ]
  },
  {
   "cell_type": "markdown",
   "id": "b0d461b9",
   "metadata": {
    "papermill": {
     "duration": 0.027044,
     "end_time": "2025-10-23T23:28:27.157927",
     "exception": false,
     "start_time": "2025-10-23T23:28:27.130883",
     "status": "completed"
    },
    "tags": []
   },
   "source": [
    "90 and 0 minutes are the most common minutes per match by multiple magnitudes.\n"
   ]
  },
  {
   "cell_type": "markdown",
   "id": "4c057737",
   "metadata": {
    "papermill": {
     "duration": 0.027132,
     "end_time": "2025-10-23T23:28:27.213032",
     "exception": false,
     "start_time": "2025-10-23T23:28:27.185900",
     "status": "completed"
    },
    "tags": []
   },
   "source": [
    "#### Teams Check\n"
   ]
  },
  {
   "cell_type": "code",
   "execution_count": null,
   "id": "1bc0ad3b",
   "metadata": {
    "execution": {
     "iopub.execute_input": "2025-10-23T23:28:27.268513Z",
     "iopub.status.busy": "2025-10-23T23:28:27.268178Z",
     "iopub.status.idle": "2025-10-23T23:28:27.279576Z",
     "shell.execute_reply": "2025-10-23T23:28:27.278519Z"
    },
    "papermill": {
     "duration": 0.040824,
     "end_time": "2025-10-23T23:28:27.281279",
     "exception": false,
     "start_time": "2025-10-23T23:28:27.240455",
     "status": "completed"
    },
    "tags": []
   },
   "outputs": [],
   "source": [
    "df[\"team_x\"].unique()"
   ]
  },
  {
   "cell_type": "code",
   "execution_count": null,
   "id": "f2795d94",
   "metadata": {
    "execution": {
     "iopub.execute_input": "2025-10-23T23:28:27.337191Z",
     "iopub.status.busy": "2025-10-23T23:28:27.336832Z",
     "iopub.status.idle": "2025-10-23T23:28:27.349307Z",
     "shell.execute_reply": "2025-10-23T23:28:27.348243Z"
    },
    "papermill": {
     "duration": 0.042157,
     "end_time": "2025-10-23T23:28:27.350961",
     "exception": false,
     "start_time": "2025-10-23T23:28:27.308804",
     "status": "completed"
    },
    "tags": []
   },
   "outputs": [],
   "source": [
    "df[\"opp_team_name\"].unique()"
   ]
  },
  {
   "cell_type": "markdown",
   "id": "3784e3f2",
   "metadata": {
    "papermill": {
     "duration": 0.026339,
     "end_time": "2025-10-23T23:28:27.404199",
     "exception": false,
     "start_time": "2025-10-23T23:28:27.377860",
     "status": "completed"
    },
    "tags": []
   },
   "source": [
    "## Checking for numerical outliers\n"
   ]
  },
  {
   "cell_type": "code",
   "execution_count": null,
   "id": "705c6cd3",
   "metadata": {
    "execution": {
     "iopub.execute_input": "2025-10-23T23:28:27.462682Z",
     "iopub.status.busy": "2025-10-23T23:28:27.462336Z",
     "iopub.status.idle": "2025-10-23T23:28:29.998933Z",
     "shell.execute_reply": "2025-10-23T23:28:29.997760Z"
    },
    "papermill": {
     "duration": 2.569379,
     "end_time": "2025-10-23T23:28:30.002204",
     "exception": false,
     "start_time": "2025-10-23T23:28:27.432825",
     "status": "completed"
    },
    "tags": []
   },
   "outputs": [],
   "source": [
    "# --- 1. Identify numerical columns automatically ---\n",
    "numeric_cols = df.select_dtypes(include=[\"int64\", \"float64\"]).columns.tolist()\n",
    "\n",
    "print(f\"Numeric columns found ({len(numeric_cols)}):\")\n",
    "print(numeric_cols)\n",
    "\n",
    "# --- 2. Set visualization style ---\n",
    "sns.set(style=\"whitegrid\", font_scale=1.0)\n",
    "plt.figure(figsize=(16, len(numeric_cols) * 0.6))\n",
    "\n",
    "# --- 3. Draw boxplots for all numeric columns ---\n",
    "# We'll melt the DataFrame so Seaborn can plot all columns in one figure\n",
    "melted_df = df[numeric_cols].melt(var_name=\"Feature\", value_name=\"Value\")\n",
    "\n",
    "sns.boxplot(\n",
    "    data=melted_df,\n",
    "    x=\"Value\",\n",
    "    y=\"Feature\",\n",
    "    orient=\"h\",\n",
    "    fliersize=3,  # smaller dots for outliers\n",
    "    linewidth=0.7,\n",
    ")\n",
    "\n",
    "plt.title(\n",
    "    \"Boxplots of All Numerical Columns (Outlier Detection)\", fontsize=14, weight=\"bold\"\n",
    ")\n",
    "plt.xlabel(\"Value\")\n",
    "plt.ylabel(\"Feature\")\n",
    "plt.tight_layout()\n",
    "plt.show()"
   ]
  },
  {
   "cell_type": "code",
   "execution_count": null,
   "id": "d2c251af",
   "metadata": {
    "execution": {
     "iopub.execute_input": "2025-10-23T23:28:30.064119Z",
     "iopub.status.busy": "2025-10-23T23:28:30.063721Z",
     "iopub.status.idle": "2025-10-23T23:28:30.375883Z",
     "shell.execute_reply": "2025-10-23T23:28:30.374809Z"
    },
    "papermill": {
     "duration": 0.345653,
     "end_time": "2025-10-23T23:28:30.377686",
     "exception": false,
     "start_time": "2025-10-23T23:28:30.032033",
     "status": "completed"
    },
    "tags": []
   },
   "outputs": [],
   "source": [
    "counts = df.groupby([\"season_x\", \"element\"]).size()\n",
    "less_than = 34\n",
    "counts[counts <= less_than].hist(bins=less_than)"
   ]
  },
  {
   "cell_type": "markdown",
   "id": "9d8fa534",
   "metadata": {
    "papermill": {
     "duration": 0.030965,
     "end_time": "2025-10-23T23:28:30.440142",
     "exception": false,
     "start_time": "2025-10-23T23:28:30.409177",
     "status": "completed"
    },
    "tags": []
   },
   "source": [
    "## Basic EDA\n"
   ]
  },
  {
   "cell_type": "code",
   "execution_count": null,
   "id": "c54feee9",
   "metadata": {
    "execution": {
     "iopub.execute_input": "2025-10-23T23:28:30.504457Z",
     "iopub.status.busy": "2025-10-23T23:28:30.504132Z",
     "iopub.status.idle": "2025-10-23T23:28:30.523827Z",
     "shell.execute_reply": "2025-10-23T23:28:30.522355Z"
    },
    "papermill": {
     "duration": 0.053999,
     "end_time": "2025-10-23T23:28:30.525543",
     "exception": false,
     "start_time": "2025-10-23T23:28:30.471544",
     "status": "completed"
    },
    "tags": []
   },
   "outputs": [],
   "source": [
    "# Set plot style\n",
    "sns.set(style=\"whitegrid\", palette=\"viridis\", font_scale=1.1)\n",
    "plt.rcParams[\"figure.figsize\"] = (10, 5)\n",
    "\n",
    "\n",
    "# ---- 1. BASIC OVERVIEW ----\n",
    "def basic_overview(df):\n",
    "    print(\"\\n===== BASIC INFO =====\")\n",
    "    print(df.info())\n",
    "    print(\"\\n===== MISSING VALUES =====\")\n",
    "    print(df.isnull().sum().sort_values(ascending=False).head(10))\n",
    "    print(\"\\n===== DESCRIPTIVE STATS =====\")\n",
    "    display(df.describe(include=\"all\").T)\n",
    "\n",
    "\n",
    "# ---- 2. NUMERIC FEATURES ----\n",
    "def numeric_analysis(df):\n",
    "    numeric_cols = df.select_dtypes(include=[\"int64\", \"float64\"]).columns\n",
    "    print(f\"\\nNumeric features ({len(numeric_cols)}): {list(numeric_cols)}\")\n",
    "\n",
    "    # Histograms\n",
    "    df[numeric_cols].hist(\n",
    "        bins=30, figsize=(20, 15), color=\"steelblue\", edgecolor=\"black\"\n",
    "    )\n",
    "    plt.suptitle(\"Numeric Feature Distributions\", fontsize=16)\n",
    "    plt.show()\n",
    "\n",
    "    # Boxplots for outliers\n",
    "    for col in numeric_cols:\n",
    "        plt.figure(figsize=(8, 3))\n",
    "        sns.boxplot(x=df[col], color=\"lightgreen\")\n",
    "        plt.title(f\"Boxplot: {col}\")\n",
    "        plt.show()\n",
    "\n",
    "    # Correlation heatmap\n",
    "    plt.figure(figsize=(12, 8))\n",
    "    corr = df[numeric_cols].corr()\n",
    "    sns.heatmap(corr, cmap=\"coolwarm\", annot=False, linewidths=0.5)\n",
    "    plt.title(\"Correlation Heatmap (Numeric Features)\")\n",
    "    plt.show()\n",
    "\n",
    "\n",
    "# ---- 3. CATEGORICAL FEATURES ----\n",
    "def categorical_analysis(df):\n",
    "    cat_cols = df.select_dtypes(include=[\"object\", \"bool\"]).columns\n",
    "    print(f\"\\nCategorical features ({len(cat_cols)}): {list(cat_cols)}\")\n",
    "\n",
    "    for col in cat_cols:\n",
    "        plt.figure(figsize=(10, 4))\n",
    "        df[col].value_counts(normalize=True).head(10).plot(\n",
    "            kind=\"bar\", color=\"cornflowerblue\"\n",
    "        )\n",
    "        plt.title(f\"Distribution of {col} (Top 10)\")\n",
    "        plt.ylabel(\"Frequency\")\n",
    "        plt.xlabel(col)\n",
    "        plt.show()\n",
    "\n",
    "\n",
    "# ---- 4. FEATURE RELATIONSHIPS ----\n",
    "def feature_relationships(df):\n",
    "    # Example: relationship between total_points and other key stats\n",
    "    target = \"total_points\"\n",
    "    if target in df.columns:\n",
    "        num_cols = df.select_dtypes(include=[\"int64\", \"float64\"]).columns\n",
    "        top_corr = df[num_cols].corr()[target].sort_values(ascending=False)[1:11]\n",
    "        print(\"\\nTop correlations with total_points:\")\n",
    "        print(top_corr)\n",
    "\n",
    "        plt.figure(figsize=(8, 5))\n",
    "        sns.barplot(x=top_corr.values, y=top_corr.index, palette=\"viridis\")\n",
    "        plt.title(\"Top Features Correlated with Total Points\")\n",
    "        plt.show()\n",
    "\n",
    "        for col in top_corr.index[:5]:\n",
    "            plt.figure(figsize=(7, 4))\n",
    "            sns.scatterplot(x=df[col], y=df[target], alpha=0.4)\n",
    "            plt.title(f\"{col} vs Total Points\")\n",
    "            plt.show()\n",
    "\n",
    "\n",
    "# ---- 5. TIME / SEASON ANALYSIS ----\n",
    "def time_analysis(df):\n",
    "    if \"kickoff_time\" in df.columns:\n",
    "        try:\n",
    "            df[\"kickoff_time\"] = pd.to_datetime(df[\"kickoff_time\"], errors=\"coerce\")\n",
    "            df[\"year\"] = df[\"kickoff_time\"].dt.year\n",
    "            df[\"month\"] = df[\"kickoff_time\"].dt.month\n",
    "\n",
    "            plt.figure(figsize=(10, 4))\n",
    "            df[\"year\"].value_counts().sort_index().plot(\n",
    "                kind=\"bar\", color=\"lightseagreen\"\n",
    "            )\n",
    "            plt.title(\"Games per Year\")\n",
    "            plt.xlabel(\"Year\")\n",
    "            plt.ylabel(\"Count\")\n",
    "            plt.show()\n",
    "\n",
    "            plt.figure(figsize=(10, 4))\n",
    "            df[\"month\"].value_counts().sort_index().plot(kind=\"bar\", color=\"orange\")\n",
    "            plt.title(\"Games per Month\")\n",
    "            plt.xlabel(\"Month\")\n",
    "            plt.ylabel(\"Count\")\n",
    "            plt.show()\n",
    "        except Exception as e:\n",
    "            print(\"Time analysis skipped:\", e)\n",
    "\n",
    "\n",
    "# ---- 6. FULL EDA PIPELINE ----\n",
    "def full_eda(df):\n",
    "    basic_overview(df)\n",
    "    numeric_analysis(df)\n",
    "    categorical_analysis(df)\n",
    "    feature_relationships(df)\n",
    "    time_analysis(df)\n",
    "    print(\"\\n✅ EDA Completed.\")"
   ]
  },
  {
   "cell_type": "code",
   "execution_count": null,
   "id": "68167ffb",
   "metadata": {
    "execution": {
     "iopub.execute_input": "2025-10-23T23:28:30.651729Z",
     "iopub.status.busy": "2025-10-23T23:28:30.651411Z",
     "iopub.status.idle": "2025-10-23T23:28:30.655852Z",
     "shell.execute_reply": "2025-10-23T23:28:30.654780Z"
    },
    "papermill": {
     "duration": 0.039882,
     "end_time": "2025-10-23T23:28:30.657761",
     "exception": false,
     "start_time": "2025-10-23T23:28:30.617879",
     "status": "completed"
    },
    "tags": []
   },
   "outputs": [],
   "source": [
    "full_eda(df)"
   ]
  },
  {
   "cell_type": "markdown",
   "id": "634a3494",
   "metadata": {
    "papermill": {
     "duration": 0.030604,
     "end_time": "2025-10-23T23:28:30.718810",
     "exception": false,
     "start_time": "2025-10-23T23:28:30.688206",
     "status": "completed"
    },
    "tags": []
   },
   "source": [
    "team_x does not have equal frequencies due to missing values\n"
   ]
  },
  {
   "cell_type": "code",
   "execution_count": null,
   "id": "011f63bb",
   "metadata": {
    "execution": {
     "iopub.execute_input": "2025-10-23T23:28:30.783879Z",
     "iopub.status.busy": "2025-10-23T23:28:30.783578Z",
     "iopub.status.idle": "2025-10-23T23:28:30.810078Z",
     "shell.execute_reply": "2025-10-23T23:28:30.808897Z"
    },
    "papermill": {
     "duration": 0.060989,
     "end_time": "2025-10-23T23:28:30.811575",
     "exception": false,
     "start_time": "2025-10-23T23:28:30.750586",
     "status": "completed"
    },
    "tags": []
   },
   "outputs": [],
   "source": [
    "df_trial = df[df.groupby([\"season_x\", \"element\"])[\"minutes\"].transform(\"sum\") > 0]\n",
    "\n",
    "print(\"after_filter\", len(df_trial), \"b4\", len(df))"
   ]
  },
  {
   "cell_type": "code",
   "execution_count": null,
   "id": "3ab858bd",
   "metadata": {
    "execution": {
     "iopub.execute_input": "2025-10-23T23:28:30.882952Z",
     "iopub.status.busy": "2025-10-23T23:28:30.882591Z",
     "iopub.status.idle": "2025-10-23T23:28:30.887548Z",
     "shell.execute_reply": "2025-10-23T23:28:30.886354Z"
    },
    "papermill": {
     "duration": 0.045145,
     "end_time": "2025-10-23T23:28:30.889504",
     "exception": false,
     "start_time": "2025-10-23T23:28:30.844359",
     "status": "completed"
    },
    "tags": []
   },
   "outputs": [],
   "source": [
    "full_eda(df_trial)"
   ]
  },
  {
   "cell_type": "markdown",
   "id": "2dc31501",
   "metadata": {
    "papermill": {
     "duration": 0.035052,
     "end_time": "2025-10-23T23:28:30.956360",
     "exception": false,
     "start_time": "2025-10-23T23:28:30.921308",
     "status": "completed"
    },
    "tags": []
   },
   "source": [
    "No difference in the outliers of assists, bonus, bps, clean_sheets, creativity, goals_conceded, goals_scored, ict_index, influence, own goals, penalties_missed, penalties_saved, red_cards, saves, team_a_score, team_h_score, threat, total_points, value, yellow cards. <br>\n",
    "\n",
    "Mostly all features contain mostly outliers. However these values are legitimate and not anomalies.\n"
   ]
  },
  {
   "cell_type": "markdown",
   "id": "08c36561",
   "metadata": {
    "papermill": {
     "duration": 0.030205,
     "end_time": "2025-10-23T23:28:31.018421",
     "exception": false,
     "start_time": "2025-10-23T23:28:30.988216",
     "status": "completed"
    },
    "tags": []
   },
   "source": [
    "## Inconsistencies Check\n"
   ]
  },
  {
   "cell_type": "code",
   "execution_count": null,
   "id": "e15f6fcb",
   "metadata": {
    "execution": {
     "iopub.execute_input": "2025-10-23T23:28:31.081085Z",
     "iopub.status.busy": "2025-10-23T23:28:31.080619Z",
     "iopub.status.idle": "2025-10-23T23:28:31.246053Z",
     "shell.execute_reply": "2025-10-23T23:28:31.244865Z"
    },
    "papermill": {
     "duration": 0.199094,
     "end_time": "2025-10-23T23:28:31.248299",
     "exception": false,
     "start_time": "2025-10-23T23:28:31.049205",
     "status": "completed"
    },
    "tags": []
   },
   "outputs": [],
   "source": [
    "for team in df[\"team_x\"].unique():\n",
    "    if pd.isna(team):\n",
    "        print(\"Was NaN pass\")\n",
    "        continue\n",
    "\n",
    "    if team not in df[\"opp_team_name\"].unique():\n",
    "        print(f\"Team {team} was in teams but not opp_teams\")"
   ]
  },
  {
   "cell_type": "markdown",
   "id": "848f4d1b",
   "metadata": {
    "papermill": {
     "duration": 0.030496,
     "end_time": "2025-10-23T23:28:31.309975",
     "exception": false,
     "start_time": "2025-10-23T23:28:31.279479",
     "status": "completed"
    },
    "tags": []
   },
   "source": [
    "All teams are consistently spelled\n"
   ]
  },
  {
   "cell_type": "code",
   "execution_count": null,
   "id": "dbf147dc",
   "metadata": {
    "execution": {
     "iopub.execute_input": "2025-10-23T23:28:31.492726Z",
     "iopub.status.busy": "2025-10-23T23:28:31.491510Z",
     "iopub.status.idle": "2025-10-23T23:28:31.508021Z",
     "shell.execute_reply": "2025-10-23T23:28:31.506974Z"
    },
    "papermill": {
     "duration": 0.16932,
     "end_time": "2025-10-23T23:28:31.510163",
     "exception": false,
     "start_time": "2025-10-23T23:28:31.340843",
     "status": "completed"
    },
    "tags": []
   },
   "outputs": [],
   "source": [
    "df[\"position\"].value_counts()"
   ]
  },
  {
   "cell_type": "markdown",
   "id": "8251ea03",
   "metadata": {
    "papermill": {
     "duration": 0.030206,
     "end_time": "2025-10-23T23:28:31.571141",
     "exception": false,
     "start_time": "2025-10-23T23:28:31.540935",
     "status": "completed"
    },
    "tags": []
   },
   "source": [
    "Goalkeepers are inconsistent (GKP & GK)\n"
   ]
  },
  {
   "cell_type": "markdown",
   "id": "a4652177",
   "metadata": {
    "papermill": {
     "duration": 0.030147,
     "end_time": "2025-10-23T23:28:31.631961",
     "exception": false,
     "start_time": "2025-10-23T23:28:31.601814",
     "status": "completed"
    },
    "tags": []
   },
   "source": [
    "#### Checking for inconsistent total_points\n"
   ]
  },
  {
   "cell_type": "markdown",
   "id": "55c6474c",
   "metadata": {
    "papermill": {
     "duration": 0.03203,
     "end_time": "2025-10-23T23:28:31.697863",
     "exception": false,
     "start_time": "2025-10-23T23:28:31.665833",
     "status": "completed"
    },
    "tags": []
   },
   "source": [
    "##### Constants & Function definitions\n"
   ]
  },
  {
   "cell_type": "code",
   "execution_count": null,
   "id": "f5613497",
   "metadata": {
    "execution": {
     "iopub.execute_input": "2025-10-23T23:28:31.762505Z",
     "iopub.status.busy": "2025-10-23T23:28:31.762204Z",
     "iopub.status.idle": "2025-10-23T23:28:31.771170Z",
     "shell.execute_reply": "2025-10-23T23:28:31.769464Z"
    },
    "papermill": {
     "duration": 0.044138,
     "end_time": "2025-10-23T23:28:31.773310",
     "exception": false,
     "start_time": "2025-10-23T23:28:31.729172",
     "status": "completed"
    },
    "tags": []
   },
   "outputs": [],
   "source": [
    "FPL_POINTS_MULTIPLIERS = {\n",
    "    \"GK\": {\n",
    "        \"played_up_to_60_mins\": 1,\n",
    "        \"played_60_plus_mins\": 2,\n",
    "        \"goal_scored\": 6,\n",
    "        \"assist\": 3,\n",
    "        \"clean_sheet\": 4,\n",
    "        \"penalty_save\": 5,\n",
    "        \"every_3_saves\": 1,\n",
    "        \"goals_conceded_per_2\": -1,\n",
    "        \"yellow_card\": -1,\n",
    "        \"red_card\": -3,\n",
    "        \"own_goal\": -2,\n",
    "        \"penalty_miss\": -2,\n",
    "        \"defensive_contributions_2pts\": 0,  # Does not apply for GK\n",
    "    },\n",
    "    \"DEF\": {\n",
    "        \"played_up_to_60_mins\": 1,\n",
    "        \"played_60_plus_mins\": 2,\n",
    "        \"goal_scored\": 6,\n",
    "        \"assist\": 3,\n",
    "        \"clean_sheet\": 4,\n",
    "        \"penalty_save\": 0,\n",
    "        \"every_3_saves\": 0,\n",
    "        \"goals_conceded_per_2\": -1,\n",
    "        \"yellow_card\": -1,\n",
    "        \"red_card\": -3,\n",
    "        \"own_goal\": -2,\n",
    "        \"penalty_miss\": -2,\n",
    "        \"defensive_contributions_2pts\": 2,  # For 10+ clearances/blocks/interceptions/tackles\n",
    "    },\n",
    "    \"MID\": {\n",
    "        \"played_up_to_60_mins\": 1,\n",
    "        \"played_60_plus_mins\": 2,\n",
    "        \"goal_scored\": 5,\n",
    "        \"assist\": 3,\n",
    "        \"clean_sheet\": 1,\n",
    "        \"penalty_save\": 0,\n",
    "        \"every_3_saves\": 0,\n",
    "        \"goals_conceded_per_2\": 0,\n",
    "        \"yellow_card\": -1,\n",
    "        \"red_card\": -3,\n",
    "        \"own_goal\": -2,\n",
    "        \"penalty_miss\": -2,\n",
    "        \"defensive_contributions_2pts\": 2,  # For 12+ clearances/blocks/interceptions/tackles/recoveries\n",
    "    },\n",
    "    \"FWD\": {\n",
    "        \"played_up_to_60_mins\": 1,\n",
    "        \"played_60_plus_mins\": 2,\n",
    "        \"goal_scored\": 4,\n",
    "        \"assist\": 3,\n",
    "        \"clean_sheet\": 0,\n",
    "        \"penalty_save\": 0,\n",
    "        \"every_3_saves\": 0,\n",
    "        \"goals_conceded_per_2\": 0,\n",
    "        \"yellow_card\": -1,\n",
    "        \"red_card\": -3,\n",
    "        \"own_goal\": -2,\n",
    "        \"penalty_miss\": -2,\n",
    "        \"defensive_contributions_2pts\": 2,  # For 12+ clearances/blocks/interceptions/tackles/recoveries\n",
    "    },\n",
    "}"
   ]
  },
  {
   "cell_type": "code",
   "execution_count": null,
   "id": "c744b579",
   "metadata": {
    "execution": {
     "iopub.execute_input": "2025-10-23T23:28:31.841672Z",
     "iopub.status.busy": "2025-10-23T23:28:31.841337Z",
     "iopub.status.idle": "2025-10-23T23:28:31.850229Z",
     "shell.execute_reply": "2025-10-23T23:28:31.848861Z"
    },
    "papermill": {
     "duration": 0.046814,
     "end_time": "2025-10-23T23:28:31.852350",
     "exception": false,
     "start_time": "2025-10-23T23:28:31.805536",
     "status": "completed"
    },
    "tags": []
   },
   "outputs": [],
   "source": [
    "def calculate_fpl_points(df, positions):\n",
    "    df_temp = df.copy()\n",
    "    for position in positions:\n",
    "        mask = df[\"position\"] == position\n",
    "        df_temp.loc[mask, \"fpl_points\"] = (\n",
    "            df_temp.loc[mask, \"assists\"] * FPL_POINTS_MULTIPLIERS[position][\"assist\"]\n",
    "            + df_temp.loc[mask, \"bonus\"]\n",
    "            + df_temp.loc[mask, \"clean_sheets\"]\n",
    "            * FPL_POINTS_MULTIPLIERS[position][\"clean_sheet\"]\n",
    "            + df_temp.loc[mask, \"goals_conceded\"]\n",
    "            // 2\n",
    "            * FPL_POINTS_MULTIPLIERS[position][\"goals_conceded_per_2\"]\n",
    "            + df_temp.loc[mask, \"goals_scored\"]\n",
    "            * FPL_POINTS_MULTIPLIERS[position][\"goal_scored\"]\n",
    "            + (df_temp.loc[mask, \"minutes\"] >= 60) * 2\n",
    "            + ((df_temp.loc[mask, \"minutes\"] > 0) & (df_temp.loc[mask, \"minutes\"] < 60))\n",
    "            * 1\n",
    "            + df_temp.loc[mask, \"own_goals\"]\n",
    "            * FPL_POINTS_MULTIPLIERS[position][\"own_goal\"]\n",
    "            + df_temp.loc[mask, \"penalties_missed\"]\n",
    "            * FPL_POINTS_MULTIPLIERS[position][\"penalty_miss\"]\n",
    "            + df_temp.loc[mask, \"penalties_saved\"]\n",
    "            * FPL_POINTS_MULTIPLIERS[position][\"penalty_save\"]\n",
    "            + df_temp.loc[mask, \"red_cards\"]\n",
    "            * FPL_POINTS_MULTIPLIERS[position][\"red_card\"]\n",
    "            + (df_temp.loc[mask, \"saves\"] // 3)\n",
    "            * FPL_POINTS_MULTIPLIERS[position][\"every_3_saves\"]\n",
    "            + df_temp.loc[mask, \"yellow_cards\"]\n",
    "            * FPL_POINTS_MULTIPLIERS[position][\"yellow_card\"]\n",
    "        )\n",
    "    return df_temp"
   ]
  },
  {
   "cell_type": "markdown",
   "id": "dda66de4",
   "metadata": {
    "papermill": {
     "duration": 0.030166,
     "end_time": "2025-10-23T23:28:31.918104",
     "exception": false,
     "start_time": "2025-10-23T23:28:31.887938",
     "status": "completed"
    },
    "tags": []
   },
   "source": [
    "##### Applying function\n"
   ]
  },
  {
   "cell_type": "code",
   "execution_count": null,
   "id": "814af71a",
   "metadata": {
    "execution": {
     "iopub.execute_input": "2025-10-23T23:28:31.985869Z",
     "iopub.status.busy": "2025-10-23T23:28:31.984912Z",
     "iopub.status.idle": "2025-10-23T23:28:32.106071Z",
     "shell.execute_reply": "2025-10-23T23:28:32.105058Z"
    },
    "papermill": {
     "duration": 0.158473,
     "end_time": "2025-10-23T23:28:32.107840",
     "exception": false,
     "start_time": "2025-10-23T23:28:31.949367",
     "status": "completed"
    },
    "tags": []
   },
   "outputs": [],
   "source": [
    "df_comparison_before = calculate_fpl_points(df, [\"GK\", \"DEF\", \"MID\", \"FWD\"])\n",
    "df_comparison_before[\n",
    "    df_comparison_before[\"fpl_points\"] != df_comparison_before[\"total_points\"]\n",
    "][\"name\"].value_counts()"
   ]
  },
  {
   "cell_type": "markdown",
   "id": "763a311c",
   "metadata": {
    "papermill": {
     "duration": 0.033675,
     "end_time": "2025-10-23T23:28:32.172244",
     "exception": false,
     "start_time": "2025-10-23T23:28:32.138569",
     "status": "completed"
    },
    "tags": []
   },
   "source": [
    "Example of a single match <br>\n",
    "In which if is a defender then the goals conceded should result in a -1 but it does not, leaving him with 2 points (>=60 minutes played)<br>\n",
    "Therefore this player was a MID on that season not a DEF\n"
   ]
  },
  {
   "cell_type": "code",
   "execution_count": null,
   "id": "3037e421",
   "metadata": {
    "execution": {
     "iopub.execute_input": "2025-10-23T23:28:32.241113Z",
     "iopub.status.busy": "2025-10-23T23:28:32.240747Z",
     "iopub.status.idle": "2025-10-23T23:28:32.262723Z",
     "shell.execute_reply": "2025-10-23T23:28:32.261503Z"
    },
    "papermill": {
     "duration": 0.061412,
     "end_time": "2025-10-23T23:28:32.265072",
     "exception": false,
     "start_time": "2025-10-23T23:28:32.203660",
     "status": "completed"
    },
    "tags": []
   },
   "outputs": [],
   "source": [
    "df_comparison_before[\n",
    "    (df_comparison_before[\"fpl_points\"] != df_comparison_before[\"total_points\"])\n",
    "    & (df[\"name\"] == \"Eric Dier\")\n",
    "].iloc[0]"
   ]
  },
  {
   "cell_type": "markdown",
   "id": "bb434836",
   "metadata": {
    "papermill": {
     "duration": 0.030468,
     "end_time": "2025-10-23T23:28:32.328704",
     "exception": false,
     "start_time": "2025-10-23T23:28:32.298236",
     "status": "completed"
    },
    "tags": []
   },
   "source": [
    "# Constants\n"
   ]
  },
  {
   "cell_type": "code",
   "execution_count": null,
   "id": "e4cfcc3d",
   "metadata": {
    "execution": {
     "iopub.execute_input": "2025-10-23T23:28:32.403301Z",
     "iopub.status.busy": "2025-10-23T23:28:32.401795Z",
     "iopub.status.idle": "2025-10-23T23:28:32.407426Z",
     "shell.execute_reply": "2025-10-23T23:28:32.406332Z"
    },
    "papermill": {
     "duration": 0.043462,
     "end_time": "2025-10-23T23:28:32.409361",
     "exception": false,
     "start_time": "2025-10-23T23:28:32.365899",
     "status": "completed"
    },
    "tags": []
   },
   "outputs": [],
   "source": [
    "last_number_gws = 4"
   ]
  },
  {
   "cell_type": "markdown",
   "id": "477fb0c3",
   "metadata": {
    "papermill": {
     "duration": 0.032593,
     "end_time": "2025-10-23T23:28:32.474320",
     "exception": false,
     "start_time": "2025-10-23T23:28:32.441727",
     "status": "completed"
    },
    "tags": []
   },
   "source": [
    "# Data Cleaning\n"
   ]
  },
  {
   "cell_type": "markdown",
   "id": "bb978be5",
   "metadata": {
    "papermill": {
     "duration": 0.032654,
     "end_time": "2025-10-23T23:28:32.540170",
     "exception": false,
     "start_time": "2025-10-23T23:28:32.507516",
     "status": "completed"
    },
    "tags": []
   },
   "source": [
    "#### Populating team_x for missing rows\n"
   ]
  },
  {
   "cell_type": "code",
   "execution_count": null,
   "id": "8a7d73c7",
   "metadata": {
    "execution": {
     "iopub.execute_input": "2025-10-23T23:28:32.604161Z",
     "iopub.status.busy": "2025-10-23T23:28:32.603786Z",
     "iopub.status.idle": "2025-10-23T23:28:33.693279Z",
     "shell.execute_reply": "2025-10-23T23:28:33.692389Z"
    },
    "papermill": {
     "duration": 1.12361,
     "end_time": "2025-10-23T23:28:33.694953",
     "exception": false,
     "start_time": "2025-10-23T23:28:32.571343",
     "status": "completed"
    },
    "tags": []
   },
   "outputs": [],
   "source": [
    "df_copy = df.copy()\n",
    "print(\"init_shape\", df_copy.shape)\n",
    "# force keys to be strings to make sure datatypes are compatible when joining\n",
    "for c in [\"season_x\", \"GW\", \"fixture\"]:\n",
    "    df_copy[c] = df_copy[c].astype(str)\n",
    "\n",
    "\n",
    "def teams_in_group(g):\n",
    "    return set(g[\"opp_team_name\"].dropna().astype(str).unique())\n",
    "\n",
    "\n",
    "fixture_teams = (\n",
    "    df_copy.groupby([\"season_x\", \"GW\", \"fixture\"])\n",
    "    # FIX: Added include_groups=False to silence the DeprecationWarning\n",
    "    .apply(teams_in_group, include_groups=False)\n",
    "    .reset_index(name=\"teams\")\n",
    ")\n",
    "\n",
    "# Keep only fixtures with exactly 2 distinct teams\n",
    "fixture_teams = fixture_teams[fixture_teams[\"teams\"].apply(lambda s: len(s) == 2)]\n",
    "\n",
    "fixture_teams[[\"team_a\", \"team_b\"]] = fixture_teams[\"teams\"].apply(\n",
    "    lambda s: pd.Series(sorted(list(s)))\n",
    ")\n",
    "\n",
    "\n",
    "df_merged = df_copy.merge(\n",
    "    fixture_teams[[\"season_x\", \"GW\", \"fixture\", \"team_a\", \"team_b\"]],\n",
    "    on=[\"season_x\", \"GW\", \"fixture\"],\n",
    "    how=\"left\",\n",
    ")\n",
    "\n",
    "# mask to manage only rows who have team_x as null\n",
    "mask_null_teamx = df_merged[\"team_x\"].isna() & df_merged[\"team_a\"].notna()\n",
    "\n",
    "# FIX: Initialize the column with a string-compatible dtype ('object')\n",
    "# to silence the FutureWarning when assigning team names (strings) later.\n",
    "df_merged[\"team_x_inferred\"] = np.nan\n",
    "df_merged[\"team_x_inferred\"] = df_merged[\"team_x_inferred\"].astype(\"object\")\n",
    "\n",
    "\n",
    "# where opponent == team_a -> set to team_b\n",
    "mask_a = mask_null_teamx & (\n",
    "    df_merged[\"opp_team_name\"].astype(str) == df_merged[\"team_a\"]\n",
    ")\n",
    "df_merged.loc[mask_a, \"team_x_inferred\"] = df_merged.loc[mask_a, \"team_b\"]\n",
    "\n",
    "# where opponent == team_b -> set to team_a\n",
    "mask_b = mask_null_teamx & (\n",
    "    df_merged[\"opp_team_name\"].astype(str) == df_merged[\"team_b\"]\n",
    ")\n",
    "df_merged.loc[mask_b, \"team_x_inferred\"] = df_merged.loc[mask_b, \"team_a\"]\n",
    "\n",
    "df_merged[\"team_x_filled\"] = df_merged[\"team_x\"].fillna(df_merged[\"team_x_inferred\"])\n",
    "\n",
    "df_result = df.copy()\n",
    "# replace nulls in original team_x with filled values\n",
    "df_result[\"team_x\"] = df_result[\"team_x\"].fillna(df_merged[\"team_x_filled\"])\n",
    "print(df_result.shape)\n",
    "df_result.head()"
   ]
  },
  {
   "cell_type": "markdown",
   "id": "ac9172bb",
   "metadata": {
    "papermill": {
     "duration": 0.031406,
     "end_time": "2025-10-23T23:28:33.759553",
     "exception": false,
     "start_time": "2025-10-23T23:28:33.728147",
     "status": "completed"
    },
    "tags": []
   },
   "source": [
    "#### Unify Goalkeeper representation\n"
   ]
  },
  {
   "cell_type": "code",
   "execution_count": null,
   "id": "33db18b2",
   "metadata": {
    "execution": {
     "iopub.execute_input": "2025-10-23T23:28:33.825289Z",
     "iopub.status.busy": "2025-10-23T23:28:33.824056Z",
     "iopub.status.idle": "2025-10-23T23:28:33.843383Z",
     "shell.execute_reply": "2025-10-23T23:28:33.841857Z"
    },
    "papermill": {
     "duration": 0.053561,
     "end_time": "2025-10-23T23:28:33.845314",
     "exception": false,
     "start_time": "2025-10-23T23:28:33.791753",
     "status": "completed"
    },
    "tags": []
   },
   "outputs": [],
   "source": [
    "df[\"position\"] = df[\"position\"].replace({\"GKP\": \"GK\"})"
   ]
  },
  {
   "cell_type": "markdown",
   "id": "ec83dfef",
   "metadata": {
    "papermill": {
     "duration": 0.030871,
     "end_time": "2025-10-23T23:28:33.908340",
     "exception": false,
     "start_time": "2025-10-23T23:28:33.877469",
     "status": "completed"
    },
    "tags": []
   },
   "source": [
    "Converted GKP to GK\n"
   ]
  },
  {
   "cell_type": "markdown",
   "id": "9b4e403f",
   "metadata": {
    "papermill": {
     "duration": 0.031922,
     "end_time": "2025-10-23T23:28:33.971352",
     "exception": false,
     "start_time": "2025-10-23T23:28:33.939430",
     "status": "completed"
    },
    "tags": []
   },
   "source": [
    "#### Handle Minimum Number of GWS\n"
   ]
  },
  {
   "cell_type": "code",
   "execution_count": null,
   "id": "b215befd",
   "metadata": {
    "execution": {
     "iopub.execute_input": "2025-10-23T23:28:34.036983Z",
     "iopub.status.busy": "2025-10-23T23:28:34.036503Z",
     "iopub.status.idle": "2025-10-23T23:28:34.074253Z",
     "shell.execute_reply": "2025-10-23T23:28:34.073073Z"
    },
    "papermill": {
     "duration": 0.072831,
     "end_time": "2025-10-23T23:28:34.076150",
     "exception": false,
     "start_time": "2025-10-23T23:28:34.003319",
     "status": "completed"
    },
    "tags": []
   },
   "outputs": [],
   "source": [
    "print(\"before_filter\", len(df))\n",
    "minimum_gws = 2  # Can change according to performance\n",
    "df = df[df.groupby([\"season_x\", \"element\"])[\"element\"].transform(\"size\") >= minimum_gws]\n",
    "print(\"after_filter\", len(df))"
   ]
  },
  {
   "cell_type": "markdown",
   "id": "c326ed2a",
   "metadata": {
    "papermill": {
     "duration": 0.031227,
     "end_time": "2025-10-23T23:28:34.139443",
     "exception": false,
     "start_time": "2025-10-23T23:28:34.108216",
     "status": "completed"
    },
    "tags": []
   },
   "source": [
    "Removed players that had less than `minimum_gws` gameweeks in a single season\n"
   ]
  },
  {
   "cell_type": "markdown",
   "id": "03c0d565",
   "metadata": {
    "papermill": {
     "duration": 0.031563,
     "end_time": "2025-10-23T23:28:34.202637",
     "exception": false,
     "start_time": "2025-10-23T23:28:34.171074",
     "status": "completed"
    },
    "tags": []
   },
   "source": [
    "#### Fixing players with incorrect FPL point (wrong positions)\n"
   ]
  },
  {
   "cell_type": "markdown",
   "id": "67354f83",
   "metadata": {
    "papermill": {
     "duration": 0.031102,
     "end_time": "2025-10-23T23:28:34.265028",
     "exception": false,
     "start_time": "2025-10-23T23:28:34.233926",
     "status": "completed"
    },
    "tags": []
   },
   "source": [
    "##### Constant and Function Definitions\n"
   ]
  },
  {
   "cell_type": "code",
   "execution_count": null,
   "id": "a4ec110f",
   "metadata": {
    "execution": {
     "iopub.execute_input": "2025-10-23T23:28:34.329503Z",
     "iopub.status.busy": "2025-10-23T23:28:34.329178Z",
     "iopub.status.idle": "2025-10-23T23:28:34.335890Z",
     "shell.execute_reply": "2025-10-23T23:28:34.334816Z"
    },
    "papermill": {
     "duration": 0.040968,
     "end_time": "2025-10-23T23:28:34.337504",
     "exception": false,
     "start_time": "2025-10-23T23:28:34.296536",
     "status": "completed"
    },
    "tags": []
   },
   "outputs": [],
   "source": [
    "# Define all position updates in one place\n",
    "position_updates = [\n",
    "    {\n",
    "        \"names\": [\"Jeffrey Schlupp\", \"Jairo Riedewald\", \"Declan Rice\"],\n",
    "        \"seasons\": [\"2016-17\", \"2017-18\"],\n",
    "        \"position\": \"DEF\",\n",
    "    },\n",
    "    {\n",
    "        \"names\": [\"James Milner\"],\n",
    "        \"seasons\": [\"2017-18\"],\n",
    "        \"position\": \"DEF\",\n",
    "    },\n",
    "    {\n",
    "        \"names\": [\n",
    "            \"Eric Dier\",\n",
    "            \"Fernando Luiz Rosa\",\n",
    "            \"Ashley Young\",\n",
    "            \"Daniel Amartey\",\n",
    "            \"Robert Kenedy Nunes do Nascimento\",\n",
    "            \"Ainsley Maitland-Niles\",\n",
    "            \"Aaron Wan-Bissaka\",\n",
    "            \"Oleksandr Zinchenko\",\n",
    "            \"Anthony Martial\",\n",
    "            \"Michail Antonio\",\n",
    "            \"Richarlison de Andrade\",\n",
    "        ],\n",
    "        \"seasons\": [\"2016-17\", \"2017-18\"],\n",
    "        \"position\": \"MID\",\n",
    "    },\n",
    "    {\n",
    "        \"names\": [\"Roberto Firmino\", \"Jay Rodriguez\", \"Joshua King\"],\n",
    "        \"seasons\": [\"2016-17\"],\n",
    "        \"position\": \"MID\",\n",
    "    },\n",
    "    {\n",
    "        \"names\": [\"Marcus Rashford\", \"Ayoze Pérez\", \"Pierre-Emerick Aubameyang\"],\n",
    "        \"seasons\": [\"2016-17\", \"2017-18\"],\n",
    "        \"position\": \"FWD\",\n",
    "    },\n",
    "]\n"
   ]
  },
  {
   "cell_type": "code",
   "execution_count": null,
   "id": "2e465c4f",
   "metadata": {
    "execution": {
     "iopub.execute_input": "2025-10-23T23:28:34.404737Z",
     "iopub.status.busy": "2025-10-23T23:28:34.404418Z",
     "iopub.status.idle": "2025-10-23T23:28:34.409742Z",
     "shell.execute_reply": "2025-10-23T23:28:34.408893Z"
    },
    "papermill": {
     "duration": 0.04066,
     "end_time": "2025-10-23T23:28:34.411409",
     "exception": false,
     "start_time": "2025-10-23T23:28:34.370749",
     "status": "completed"
    },
    "tags": []
   },
   "outputs": [],
   "source": [
    "def apply_position_updates(df, updates):\n",
    "    df_temp = df.copy()\n",
    "    for update in updates:\n",
    "        condition = df[\"name\"].isin(update[\"names\"]) & df[\"season_x\"].isin(\n",
    "            update[\"seasons\"]\n",
    "        )\n",
    "        df_temp.loc[condition, \"position\"] = update[\"position\"]\n",
    "    return df_temp"
   ]
  },
  {
   "cell_type": "markdown",
   "id": "5f7bdc6b",
   "metadata": {
    "papermill": {
     "duration": 0.048429,
     "end_time": "2025-10-23T23:28:34.491639",
     "exception": false,
     "start_time": "2025-10-23T23:28:34.443210",
     "status": "completed"
    },
    "tags": []
   },
   "source": [
    "##### Applying function\n"
   ]
  },
  {
   "cell_type": "code",
   "execution_count": null,
   "id": "b0a02784",
   "metadata": {
    "execution": {
     "iopub.execute_input": "2025-10-23T23:28:34.557706Z",
     "iopub.status.busy": "2025-10-23T23:28:34.557373Z",
     "iopub.status.idle": "2025-10-23T23:28:34.635800Z",
     "shell.execute_reply": "2025-10-23T23:28:34.634874Z"
    },
    "papermill": {
     "duration": 0.113734,
     "end_time": "2025-10-23T23:28:34.637641",
     "exception": false,
     "start_time": "2025-10-23T23:28:34.523907",
     "status": "completed"
    },
    "tags": []
   },
   "outputs": [],
   "source": [
    "df_positions = apply_position_updates(df, position_updates)"
   ]
  },
  {
   "cell_type": "code",
   "execution_count": null,
   "id": "016e043a",
   "metadata": {
    "execution": {
     "iopub.execute_input": "2025-10-23T23:28:34.702275Z",
     "iopub.status.busy": "2025-10-23T23:28:34.701272Z",
     "iopub.status.idle": "2025-10-23T23:28:34.832170Z",
     "shell.execute_reply": "2025-10-23T23:28:34.830677Z"
    },
    "papermill": {
     "duration": 0.165231,
     "end_time": "2025-10-23T23:28:34.834136",
     "exception": false,
     "start_time": "2025-10-23T23:28:34.668905",
     "status": "completed"
    },
    "tags": []
   },
   "outputs": [],
   "source": [
    "df_comparison_after = calculate_fpl_points(df_positions, [\"GK\", \"DEF\", \"MID\", \"FWD\"])\n",
    "df_comparison_after[\n",
    "    df_comparison_after[\"fpl_points\"] != df_comparison_after[\"total_points\"]\n",
    "][\"name\"].value_counts()"
   ]
  },
  {
   "cell_type": "code",
   "execution_count": null,
   "id": "2ea3bfac",
   "metadata": {
    "execution": {
     "iopub.execute_input": "2025-10-23T23:28:34.898857Z",
     "iopub.status.busy": "2025-10-23T23:28:34.898546Z",
     "iopub.status.idle": "2025-10-23T23:28:34.943568Z",
     "shell.execute_reply": "2025-10-23T23:28:34.942437Z"
    },
    "papermill": {
     "duration": 0.079088,
     "end_time": "2025-10-23T23:28:34.945654",
     "exception": false,
     "start_time": "2025-10-23T23:28:34.866566",
     "status": "completed"
    },
    "tags": []
   },
   "outputs": [],
   "source": [
    "df = df_positions.copy()\n",
    "print(df.shape)\n",
    "df.head()"
   ]
  },
  {
   "cell_type": "markdown",
   "id": "54b91999",
   "metadata": {
    "papermill": {
     "duration": 0.031257,
     "end_time": "2025-10-23T23:28:35.009524",
     "exception": false,
     "start_time": "2025-10-23T23:28:34.978267",
     "status": "completed"
    },
    "tags": []
   },
   "source": [
    "After corrections in position -> Correct FPL points calculated\n"
   ]
  },
  {
   "cell_type": "markdown",
   "id": "8337836c",
   "metadata": {
    "papermill": {
     "duration": 0.031572,
     "end_time": "2025-10-23T23:28:35.073814",
     "exception": false,
     "start_time": "2025-10-23T23:28:35.042242",
     "status": "completed"
    },
    "tags": []
   },
   "source": [
    "# Data Engineering Questions\n"
   ]
  },
  {
   "cell_type": "code",
   "execution_count": null,
   "id": "b31c4a27",
   "metadata": {
    "execution": {
     "iopub.execute_input": "2025-10-23T23:28:35.140106Z",
     "iopub.status.busy": "2025-10-23T23:28:35.139658Z",
     "iopub.status.idle": "2025-10-23T23:28:35.144908Z",
     "shell.execute_reply": "2025-10-23T23:28:35.143828Z"
    },
    "papermill": {
     "duration": 0.040826,
     "end_time": "2025-10-23T23:28:35.146501",
     "exception": false,
     "start_time": "2025-10-23T23:28:35.105675",
     "status": "completed"
    },
    "tags": []
   },
   "outputs": [],
   "source": [
    "from IPython.display import display, Markdown\n",
    "import matplotlib as mpl"
   ]
  },
  {
   "cell_type": "code",
   "execution_count": null,
   "id": "26d89692",
   "metadata": {
    "execution": {
     "iopub.execute_input": "2025-10-23T23:28:35.214386Z",
     "iopub.status.busy": "2025-10-23T23:28:35.214070Z",
     "iopub.status.idle": "2025-10-23T23:28:36.084591Z",
     "shell.execute_reply": "2025-10-23T23:28:36.083476Z"
    },
    "papermill": {
     "duration": 0.907175,
     "end_time": "2025-10-23T23:28:36.086329",
     "exception": false,
     "start_time": "2025-10-23T23:28:35.179154",
     "status": "completed"
    },
    "tags": []
   },
   "outputs": [],
   "source": [
    "rename_map = {\n",
    "    \"season_x\": \"season\",\n",
    "    \"team_x\": \"team\",\n",
    "    \"round\": \"gameweek\",\n",
    "    \"name\": \"player_name\",\n",
    "}\n",
    "df_original.rename(\n",
    "    columns={k: v for k, v in rename_map.items() if k in df_original.columns},\n",
    "    inplace=True,\n",
    ")\n",
    "\n",
    "# ---------- PREPROCESS ----------\n",
    "for col in [\"season\", \"position\", \"player_name\", \"team\"]:\n",
    "    if col in df_original.columns:\n",
    "        df_original[col] = df_original[col].astype(str).str.strip()\n",
    "\n",
    "for c in [\"gameweek\", \"total_points\"]:\n",
    "    if c in df_original.columns:\n",
    "        df_original[c] = pd.to_numeric(df_original[c], errors=\"coerce\")\n",
    "\n",
    "# Compute `form` feature (rolling avg over past 4 GWs ÷ 10)\n",
    "df_original.sort_values([\"season\", \"player_name\", \"gameweek\"], inplace=True)\n",
    "df_original[\"form\"] = df_original.groupby([\"season\", \"player_name\"])[\n",
    "    \"total_points\"\n",
    "].transform(lambda s: s.rolling(window=4, min_periods=1).mean() / 10.0)"
   ]
  },
  {
   "cell_type": "code",
   "execution_count": null,
   "id": "02e71448",
   "metadata": {
    "execution": {
     "iopub.execute_input": "2025-10-23T23:28:36.160629Z",
     "iopub.status.busy": "2025-10-23T23:28:36.160300Z",
     "iopub.status.idle": "2025-10-23T23:28:36.170950Z",
     "shell.execute_reply": "2025-10-23T23:28:36.170071Z"
    },
    "papermill": {
     "duration": 0.053382,
     "end_time": "2025-10-23T23:28:36.172726",
     "exception": false,
     "start_time": "2025-10-23T23:28:36.119344",
     "status": "completed"
    },
    "tags": []
   },
   "outputs": [],
   "source": [
    "def show_position_insights(season_pos_avg_df, title=\"Insights\"):\n",
    "    # Focus on the four main positions\n",
    "    dfp = season_pos_avg_df[\n",
    "        season_pos_avg_df[\"position\"].isin([\"GK\", \"DEF\", \"MID\", \"FWD\"])\n",
    "    ].copy()\n",
    "    if dfp.empty:\n",
    "        display(Markdown(f\"### 🔎 {title}\\nNo data available for GK/DEF/MID/FWD.\"))\n",
    "        return\n",
    "\n",
    "    # Overall averages across seasons (who scores most on average?)\n",
    "    overall = (\n",
    "        dfp.groupby(\"position\")[\"avg_points_per_player\"]\n",
    "        .mean()\n",
    "        .sort_values(ascending=False)\n",
    "    )\n",
    "\n",
    "    # Rank positions within each season (1 = best)\n",
    "    ranks = dfp.assign(\n",
    "        rank=dfp.groupby(\"season\")[\"avg_points_per_player\"].rank(\n",
    "            ascending=False, method=\"min\"\n",
    "        )\n",
    "    )\n",
    "    top_by_season = (\n",
    "        ranks[ranks[\"rank\"] == 1]\n",
    "        .groupby(\"position\")\n",
    "        .size()\n",
    "        .sort_values(ascending=False)\n",
    "    )\n",
    "\n",
    "    # Best / worst season for the overall top position\n",
    "    best_line = worst_line = \"-\"\n",
    "    try:\n",
    "        top_pos = overall.index[0]\n",
    "        top_pos_rows = dfp[dfp[\"position\"] == top_pos]\n",
    "        best_row = top_pos_rows.sort_values(\n",
    "            \"avg_points_per_player\", ascending=False\n",
    "        ).iloc[0]\n",
    "        worst_row = top_pos_rows.sort_values(\n",
    "            \"avg_points_per_player\", ascending=True\n",
    "        ).iloc[0]\n",
    "        best_line = f\"**Best season for {top_pos}:** {best_row['season']} — {best_row['avg_points_per_player']:.1f}\"\n",
    "        worst_line = f\"**Lowest season for {top_pos}:** {worst_row['season']} — {worst_row['avg_points_per_player']:.1f}\"\n",
    "    except Exception:\n",
    "        pass\n",
    "\n",
    "    # Compose Markdown\n",
    "    lines = [\n",
    "        f\"### 🔎 {title}\",\n",
    "        f\"- **Overall order (avg points per player):** \"\n",
    "        + \", \".join([f\"{p} ({overall[p]:.1f})\" for p in overall.index]),\n",
    "        f\"- **Most often #1:** {top_by_season.index[0]} in {int(top_by_season.iloc[0])} of {dfp['season'].nunique()} seasons.\"\n",
    "        if len(top_by_season)\n",
    "        else \"- **Most often #1:** N/A\",\n",
    "        f\"- {best_line}\",\n",
    "        f\"- {worst_line}\",\n",
    "    ]\n",
    "    display(Markdown(\"\\n\".join(lines)))"
   ]
  },
  {
   "cell_type": "code",
   "execution_count": null,
   "id": "e4336eb1",
   "metadata": {
    "execution": {
     "iopub.execute_input": "2025-10-23T23:28:36.239921Z",
     "iopub.status.busy": "2025-10-23T23:28:36.239593Z",
     "iopub.status.idle": "2025-10-23T23:28:37.695157Z",
     "shell.execute_reply": "2025-10-23T23:28:37.693858Z"
    },
    "papermill": {
     "duration": 1.491096,
     "end_time": "2025-10-23T23:28:37.697291",
     "exception": false,
     "start_time": "2025-10-23T23:28:36.206195",
     "status": "completed"
    },
    "tags": []
   },
   "outputs": [],
   "source": [
    "display(\n",
    "    Markdown(\"## 🧮 Q(a): Which positions score the most on average — **per season**?\")\n",
    ")\n",
    "\n",
    "display(Markdown(\"## No filters (everyone included)\"))\n",
    "\n",
    "# 0) Normalize column types\n",
    "for c in [\"total_points\", \"minutes\"]:\n",
    "    if c in df_original.columns:\n",
    "        df_original[c] = pd.to_numeric(df_original[c], errors=\"coerce\")\n",
    "\n",
    "# 1) Normalize position labels so we don't lose GKP etc.\n",
    "pos_map = {\n",
    "    \"GKP\": \"GK\",\n",
    "    \"GK\": \"GK\",\n",
    "    \"DEF\": \"DEF\",\n",
    "    \"DF\": \"DEF\",\n",
    "    \"MID\": \"MID\",\n",
    "    \"MF\": \"MID\",\n",
    "    \"FWD\": \"FWD\",\n",
    "    \"FW\": \"FWD\",\n",
    "    \"ST\": \"FWD\",\n",
    "}\n",
    "df_original[\"position\"] = (\n",
    "    df_original[\"position\"]\n",
    "    .astype(str)\n",
    "    .str.strip()\n",
    "    .str.upper()\n",
    "    .map(pos_map)\n",
    "    .fillna(\"OTHER\")\n",
    ")\n",
    "\n",
    "# 2) Aggregate to player-season totals (sum per GW → season total)\n",
    "player_season = (\n",
    "    df_original.groupby([\"season\", \"position\", \"player_name\"], dropna=False)[\n",
    "        \"total_points\"\n",
    "    ]\n",
    "    .sum()\n",
    "    .reset_index(name=\"player_total_points\")\n",
    ")\n",
    "\n",
    "# 3) Average across players for each (season, position)\n",
    "season_pos_avg = (\n",
    "    player_season.groupby([\"season\", \"position\"], dropna=False)[\"player_total_points\"]\n",
    "    .mean()\n",
    "    .reset_index(name=\"avg_points_per_player\")\n",
    ")\n",
    "\n",
    "# 4) Plot — one chart per season (positions GK/DEF/MID/FWD shown if present)\n",
    "POS_COLORS = {\"GK\": \"#4C78A8\", \"DEF\": \"#F58518\", \"MID\": \"#54A24B\", \"FWD\": \"#E45756\"}\n",
    "pos_order = [\"GK\", \"DEF\", \"MID\", \"FWD\"]\n",
    "\n",
    "mpl.rcParams.update(\n",
    "    {\n",
    "        \"figure.dpi\": 120,\n",
    "        \"axes.spines.top\": False,\n",
    "        \"axes.spines.right\": False,\n",
    "        \"axes.titleweight\": \"bold\",\n",
    "        \"axes.grid\": True,\n",
    "        \"grid.alpha\": 0.25,\n",
    "        \"grid.linestyle\": \"--\",\n",
    "        \"grid.linewidth\": 0.6,\n",
    "    }\n",
    ")\n",
    "\n",
    "seasons = sorted(season_pos_avg[\"season\"].astype(str).unique())\n",
    "for s in seasons:\n",
    "    sdf = season_pos_avg[season_pos_avg[\"season\"].astype(str) == s].copy()\n",
    "\n",
    "    # Keep the 4 main positions if they exist; ignore \"OTHER\" in visuals\n",
    "    sdf = sdf[sdf[\"position\"].isin(pos_order)]\n",
    "    sdf[\"position\"] = pd.Categorical(\n",
    "        sdf[\"position\"], categories=pos_order, ordered=True\n",
    "    )\n",
    "    sdf = sdf.sort_values(\"position\")\n",
    "\n",
    "    positions = sdf[\"position\"].tolist()\n",
    "    values = sdf[\"avg_points_per_player\"].tolist()\n",
    "    colors = [POS_COLORS.get(p, \"#737373\") for p in positions]\n",
    "\n",
    "    fig, ax = plt.subplots(figsize=(8.5, 5.2))\n",
    "    bars = ax.bar(\n",
    "        range(len(positions)), values, edgecolor=\"black\", linewidth=0.6, alpha=0.95\n",
    "    )\n",
    "    for b, c in zip(bars, colors):\n",
    "        b.set_facecolor(c)\n",
    "\n",
    "    ymax = max(values) if values else 0\n",
    "    ax.set_ylim(0, ymax * 1.15 if ymax else 1)\n",
    "    ax.set_xticks(range(len(positions)))\n",
    "    ax.set_xticklabels(positions)\n",
    "    ax.set_ylabel(\"Average points per player (season total)\")\n",
    "    ax.set_title(f\"Season {s} — Avg Points per Player by Position (no filters)\")\n",
    "\n",
    "    for i, v in enumerate(values):\n",
    "        ax.text(\n",
    "            i,\n",
    "            v * 1.01 if ymax else 0.02,\n",
    "            f\"{v:.1f}\",\n",
    "            ha=\"center\",\n",
    "            va=\"bottom\",\n",
    "            fontsize=10,\n",
    "            fontweight=\"bold\",\n",
    "        )\n",
    "\n",
    "    fig.tight_layout()\n",
    "    plt.show()\n",
    "display(\n",
    "    Markdown(\n",
    "        \"✅ **Note:** Each chart shows, for that season, the mean of each player's **season-total** points within the position. \"\n",
    "        \"Equivalently: (sum of all players’ season-total points in the position) ÷ (number of players in the position).\"\n",
    "    )\n",
    ")\n",
    "show_position_insights(season_pos_avg, \"Insights — (No filters)\")"
   ]
  },
  {
   "cell_type": "code",
   "execution_count": null,
   "id": "45d6e423",
   "metadata": {
    "execution": {
     "iopub.execute_input": "2025-10-23T23:28:37.779425Z",
     "iopub.status.busy": "2025-10-23T23:28:37.778977Z",
     "iopub.status.idle": "2025-10-23T23:28:39.224683Z",
     "shell.execute_reply": "2025-10-23T23:28:39.223879Z"
    },
    "papermill": {
     "duration": 1.489121,
     "end_time": "2025-10-23T23:28:39.226366",
     "exception": false,
     "start_time": "2025-10-23T23:28:37.737245",
     "status": "completed"
    },
    "tags": []
   },
   "outputs": [],
   "source": [
    "display(\n",
    "    Markdown(\"## 🧮 Q(a): Which positions score the most on average — **per season**?\")\n",
    ")\n",
    "\n",
    "\n",
    "display(Markdown(\"## With filters (active players only, minutes > 0)\"))\n",
    "\n",
    "MIN_MINUTES = 0\n",
    "\n",
    "# 0) Normalize column types\n",
    "for c in [\"total_points\", \"minutes\", \"gameweek\"]:\n",
    "    if c in df_original.columns:\n",
    "        df_original[c] = pd.to_numeric(df_original[c], errors=\"coerce\")\n",
    "\n",
    "# 1) Normalize position labels\n",
    "pos_map = {\n",
    "    \"GKP\": \"GK\",\n",
    "    \"GK\": \"GK\",\n",
    "    \"DEF\": \"DEF\",\n",
    "    \"DF\": \"DEF\",\n",
    "    \"MID\": \"MID\",\n",
    "    \"MF\": \"MID\",\n",
    "    \"FWD\": \"FWD\",\n",
    "    \"FW\": \"FWD\",\n",
    "    \"ST\": \"FWD\",\n",
    "}\n",
    "df_original[\"position\"] = (\n",
    "    df_original[\"position\"]\n",
    "    .astype(str)\n",
    "    .str.strip()\n",
    "    .str.upper()\n",
    "    .map(pos_map)\n",
    "    .fillna(\"OTHER\")\n",
    ")\n",
    "\n",
    "# 2) Aggregate to player-season totals (sum per GW → season total)\n",
    "player_season = (\n",
    "    df_original.groupby([\"season\", \"position\", \"player_name\"], dropna=False)\n",
    "    .agg(\n",
    "        player_total_points=(\"total_points\", \"sum\"),\n",
    "        player_total_minutes=(\"minutes\", \"sum\"),\n",
    "    )\n",
    "    .reset_index()\n",
    ")\n",
    "\n",
    "# 3) FILTER: keep only players who actually played enough\n",
    "player_season_f = player_season[\n",
    "    player_season[\"player_total_minutes\"].fillna(0) > MIN_MINUTES\n",
    "]\n",
    "\n",
    "# 4) Average across players for each (season, position)\n",
    "season_pos_avg_f = (\n",
    "    player_season_f.groupby([\"season\", \"position\"], dropna=False)[\"player_total_points\"]\n",
    "    .mean()\n",
    "    .reset_index(name=\"avg_points_per_player\")\n",
    ")\n",
    "\n",
    "# 5) Plot — one chart per season\n",
    "POS_COLORS = {\"GK\": \"#4C78A8\", \"DEF\": \"#F58518\", \"MID\": \"#54A24B\", \"FWD\": \"#E45756\"}\n",
    "pos_order = [\"GK\", \"DEF\", \"MID\", \"FWD\"]\n",
    "\n",
    "mpl.rcParams.update(\n",
    "    {\n",
    "        \"figure.dpi\": 120,\n",
    "        \"axes.spines.top\": False,\n",
    "        \"axes.spines.right\": False,\n",
    "        \"axes.titleweight\": \"bold\",\n",
    "        \"axes.grid\": True,\n",
    "        \"grid.alpha\": 0.25,\n",
    "        \"grid.linestyle\": \"--\",\n",
    "        \"grid.linewidth\": 0.6,\n",
    "    }\n",
    ")\n",
    "\n",
    "seasons = sorted(season_pos_avg_f[\"season\"].astype(str).unique())\n",
    "for s in seasons:\n",
    "    sdf = season_pos_avg_f[season_pos_avg_f[\"season\"].astype(str) == s].copy()\n",
    "\n",
    "    # Keep only the 4 main positions\n",
    "    sdf = sdf[sdf[\"position\"].isin(pos_order)]\n",
    "    sdf[\"position\"] = pd.Categorical(\n",
    "        sdf[\"position\"], categories=pos_order, ordered=True\n",
    "    )\n",
    "    sdf = sdf.sort_values(\"position\")\n",
    "\n",
    "    positions = sdf[\"position\"].tolist()\n",
    "    values = sdf[\"avg_points_per_player\"].tolist()\n",
    "    colors = [POS_COLORS.get(p, \"#737373\") for p in positions]\n",
    "\n",
    "    fig, ax = plt.subplots(figsize=(8.5, 5.2))\n",
    "    bars = ax.bar(\n",
    "        range(len(positions)), values, edgecolor=\"black\", linewidth=0.6, alpha=0.95\n",
    "    )\n",
    "    for b, c in zip(bars, colors):\n",
    "        b.set_facecolor(c)\n",
    "\n",
    "    ymax = max(values) if values else 0\n",
    "    ax.set_ylim(0, ymax * 1.15 if ymax else 1)\n",
    "    ax.set_xticks(range(len(positions)))\n",
    "    ax.set_xticklabels(positions)\n",
    "    ax.set_ylabel(\"Average points per player (season total)\")\n",
    "    ax.set_title(\n",
    "        f\"Season {s} — Avg Points per Player by Position (minutes > {MIN_MINUTES})\"\n",
    "    )\n",
    "\n",
    "    for i, v in enumerate(values):\n",
    "        ax.text(\n",
    "            i,\n",
    "            v * 1.01 if ymax else 0.02,\n",
    "            f\"{v:.1f}\",\n",
    "            ha=\"center\",\n",
    "            va=\"bottom\",\n",
    "            fontsize=10,\n",
    "            fontweight=\"bold\",\n",
    "        )\n",
    "\n",
    "    fig.tight_layout()\n",
    "    plt.show()\n",
    "display(\n",
    "    Markdown(\n",
    "        \"✅ **Note:** Each chart shows, for that season, the mean of each player's **season-total** points within the position. \"\n",
    "        \"Equivalently: (sum of all players’ season-total points in the position) ÷ (number of players in the position).\"\n",
    "    )\n",
    ")\n",
    "show_position_insights(season_pos_avg_f, f\"Insights — (minutes > {MIN_MINUTES})\")"
   ]
  },
  {
   "cell_type": "code",
   "execution_count": null,
   "id": "b14e8017",
   "metadata": {
    "execution": {
     "iopub.execute_input": "2025-10-23T23:28:39.318742Z",
     "iopub.status.busy": "2025-10-23T23:28:39.318451Z",
     "iopub.status.idle": "2025-10-23T23:28:40.457131Z",
     "shell.execute_reply": "2025-10-23T23:28:40.456117Z"
    },
    "papermill": {
     "duration": 1.186468,
     "end_time": "2025-10-23T23:28:40.458899",
     "exception": false,
     "start_time": "2025-10-23T23:28:39.272431",
     "status": "completed"
    },
    "tags": []
   },
   "outputs": [],
   "source": [
    "# GW if present\n",
    "if \"GW\" in df_original.columns and \"gameweek\" not in df_original.columns:\n",
    "    df_original.rename(columns={\"GW\": \"gameweek\"}, inplace=True)\n",
    "\n",
    "# make numerics truly numeric and safe for rolling averages\n",
    "df_original[\"total_points\"] = pd.to_numeric(\n",
    "    df_original.get(\"total_points\"), errors=\"coerce\"\n",
    ").fillna(0)\n",
    "df_original[\"gameweek\"] = pd.to_numeric(df_original.get(\"gameweek\"), errors=\"coerce\")\n",
    "\n",
    "# drop dupes (helps both features and plots)\n",
    "df_original = df_original.drop_duplicates()\n",
    "\n",
    "df_original = df_original.sort_values([\"season\", \"player_name\", \"gameweek\"])\n",
    "\n",
    "# --- Recompute 'form' in case NaN handling changed ---\n",
    "df_original[\"form\"] = df_original.groupby([\"season\", \"player_name\"])[\n",
    "    \"total_points\"\n",
    "].transform(lambda s: s.rolling(window=4, min_periods=1).mean() / 10.0)\n",
    "\n",
    "# pick the 2022–23 season robustly (fallback to latest if not found)\n",
    "season_2223 = next(\n",
    "    (s for s in df_original[\"season\"].astype(str).unique() if \"22\" in s and \"23\" in s),\n",
    "    None,\n",
    ")\n",
    "if season_2223 is None:\n",
    "    season_2223 = sorted(df_original[\"season\"].astype(str).unique())[-1]\n",
    "\n",
    "df_original_2223 = df_original[df_original[\"season\"].astype(str) == season_2223].copy()\n",
    "\n",
    "# compute the two top-5 lists used by your small multiples ---\n",
    "# Top-5 by season total points\n",
    "season_totals = (\n",
    "    df_original_2223.groupby(\"player_name\")[\"total_points\"]\n",
    "    .sum()\n",
    "    .sort_values(ascending=False)\n",
    ")\n",
    "top5_total = season_totals.head(5).index.tolist()\n",
    "\n",
    "# Top-5 by average form\n",
    "avg_form = (\n",
    "    df_original_2223.groupby(\"player_name\")[\"form\"].mean().sort_values(ascending=False)\n",
    ")\n",
    "top5_form = avg_form.head(5).index.tolist()"
   ]
  },
  {
   "cell_type": "code",
   "execution_count": null,
   "id": "96e51e8a",
   "metadata": {
    "execution": {
     "iopub.execute_input": "2025-10-23T23:28:40.560790Z",
     "iopub.status.busy": "2025-10-23T23:28:40.560346Z",
     "iopub.status.idle": "2025-10-23T23:28:41.074828Z",
     "shell.execute_reply": "2025-10-23T23:28:41.073807Z"
    },
    "papermill": {
     "duration": 0.569128,
     "end_time": "2025-10-23T23:28:41.076633",
     "exception": false,
     "start_time": "2025-10-23T23:28:40.507505",
     "status": "completed"
    },
    "tags": []
   },
   "outputs": [],
   "source": [
    "# =======================================================\n",
    "# Q(b): Top-5 by Total Points — Form Evolution (One Graph)\n",
    "# =======================================================\n",
    "display(Markdown(\"## ⚽ Q(b): Form Evolution of Top-5 Players (2022–23)\"))\n",
    "\n",
    "import matplotlib.pyplot as plt\n",
    "import seaborn as sns\n",
    "\n",
    "sns.set(style=\"whitegrid\")\n",
    "\n",
    "fig, ax = plt.subplots(figsize=(11, 6))\n",
    "palette = sns.color_palette(\"Set2\", len(top5_total))\n",
    "\n",
    "for color, p in zip(palette, top5_total):\n",
    "    sub = (\n",
    "        df_original_2223[df_original_2223[\"player_name\"] == p]\n",
    "        .sort_values(\"gameweek\")[[\"gameweek\", \"form\"]]\n",
    "        .drop_duplicates(subset=\"gameweek\")\n",
    "    )\n",
    "\n",
    "    # line + markers for each player’s form\n",
    "    ax.plot(\n",
    "        sub[\"gameweek\"],\n",
    "        sub[\"form\"],\n",
    "        label=p,\n",
    "        linewidth=2.4,\n",
    "        color=color,\n",
    "        alpha=0.9,\n",
    "        marker=\"o\",\n",
    "        markersize=5,\n",
    "    )\n",
    "\n",
    "# --- formatting ---\n",
    "ax.set_title(\n",
    "    f\"Form Evolution — Top-5 Players by Total Points ({season_2223})\",\n",
    "    fontsize=15,\n",
    "    fontweight=\"bold\",\n",
    "    pad=12,\n",
    ")\n",
    "ax.set_xlabel(\"Gameweek\", fontsize=12)\n",
    "ax.set_ylabel(\"Form (rolling 4 GW avg ÷ 10)\", fontsize=12)\n",
    "ax.set_xlim(0, 38)\n",
    "ax.set_ylim(0, df_original_2223[\"form\"].max() + 0.2)\n",
    "ax.legend(title=\"Player\", frameon=False, fontsize=10)\n",
    "ax.grid(True, alpha=0.3)\n",
    "sns.despine()\n",
    "plt.tight_layout()\n",
    "plt.show()\n",
    "\n",
    "# ============================\n",
    "# Insights: Top Points vs Best Form\n",
    "# ============================\n",
    "\n",
    "from IPython.display import Markdown, display\n",
    "\n",
    "# --- compute season totals per player (use max since total_points is cumulative by GW) ---\n",
    "season_totals = (\n",
    "    df_original_2223.drop_duplicates(subset=[\"player_name\", \"gameweek\"])\n",
    "    .groupby(\"player_name\")[\"total_points\"]\n",
    "    .max()\n",
    ")\n",
    "\n",
    "# --- compute season-average form per player ---\n",
    "avg_form = (\n",
    "    df_original_2223.drop_duplicates(subset=[\"player_name\", \"gameweek\"])\n",
    "    .groupby(\"player_name\")[\"form\"]\n",
    "    .mean()\n",
    ")\n",
    "\n",
    "# --- info for players already in your top5_total list ---\n",
    "top5_total_series = season_totals.reindex(top5_total).sort_values(ascending=False)\n",
    "\n",
    "# --- top-5 by average form across the season ---\n",
    "top5_form_series = avg_form.sort_values(ascending=False).head(5)\n",
    "\n",
    "# --- sets for explicit comparison ---\n",
    "set_total = set(top5_total_series.index)\n",
    "set_form = set(top5_form_series.index)\n",
    "\n",
    "overlap = list(set_total & set_form)\n",
    "only_total = list(set_total - set_form)\n",
    "only_form = list(set_form - set_total)\n",
    "\n",
    "\n",
    "# markdown lists\n",
    "def md_list_from_series(title, s, unit=\"\"):\n",
    "    lines = [f\"**{title}**\"]\n",
    "    for i, (name, val) in enumerate(s.items(), start=1):\n",
    "        lines.append(f\"{i}. **{name}** — {val:.2f}{unit}\")\n",
    "    return \"\\n\".join(lines)\n",
    "\n",
    "\n",
    "insights_md = f\"\"\"\n",
    "## 🧠 Insights — Top Points vs. Best Form\n",
    "\n",
    "{md_list_from_series(\"Top-5 by Total Points (Season Total)\", top5_total_series, unit=\" pts\")}\n",
    "\n",
    "{md_list_from_series(\"Top-5 by Best Average Form (Season Avg.)\", top5_form_series, unit=\" form\")}\n",
    "\n",
    "**Comparison**\n",
    "- **Overlap (appear in both lists):** {\", \".join(overlap) if overlap else \"—\"}\n",
    "- **Only in Top-5 by Total Points:** {\", \".join(only_total) if only_total else \"—\"}\n",
    "- **Only in Top-5 by Best Average Form:** {\", \".join(only_form) if only_form else \"—\"}\n",
    "\n",
    "**Takeaway:** Players in both lists combined strong **short-term performance (form)** with sustained output, which typically translates into high **season totals**. Those appearing **only in form** may have had excellent bursts without matching the full-season accumulation; those **only in totals** likely accumulated consistently even if their average form wasn’t among the very top.\n",
    "\"\"\"\n",
    "\n",
    "display(\n",
    "    Markdown(f\"\"\"\n",
    "### 🔎 Interpretation \n",
    "- The plot shows how the **form (short-term average performance)** of the top five players by total season points changed across the 38 gameweeks of the 2022–23 FPL season.\n",
    "- Each line represents one player's form, calculated as the average of their last four gameweeks' total points divided by 10.\n",
    "- **Answer:** The top players **in form** are mostly the same as those with the highest total points — especially Haaland, Kane, Salah, and Ødegaard — indicating that consistent high form correlates strongly with high season totals.\n",
    "\"\"\")\n",
    ")\n",
    "\n",
    "display(Markdown(insights_md))"
   ]
  },
  {
   "cell_type": "code",
   "execution_count": null,
   "id": "73ba67ab",
   "metadata": {
    "execution": {
     "iopub.execute_input": "2025-10-23T23:28:41.190547Z",
     "iopub.status.busy": "2025-10-23T23:28:41.190254Z",
     "iopub.status.idle": "2025-10-23T23:28:41.196254Z",
     "shell.execute_reply": "2025-10-23T23:28:41.194964Z"
    },
    "papermill": {
     "duration": 0.06793,
     "end_time": "2025-10-23T23:28:41.198226",
     "exception": false,
     "start_time": "2025-10-23T23:28:41.130296",
     "status": "completed"
    },
    "tags": []
   },
   "outputs": [],
   "source": [
    "# # ======================= old =========================================\n",
    "# # =======================================================\n",
    "# # Q(a): Average total points by position across seasons\n",
    "# # =======================================================\n",
    "# display(Markdown(\"## 🧮 Q(a): Which positions score the most on average?\"))\n",
    "\n",
    "# pos_season_sum = (\n",
    "#     df.groupby([\"season\", \"position\"])[\"total_points\"]\n",
    "#       .sum()\n",
    "#       .reset_index()\n",
    "# )\n",
    "\n",
    "# pos_avg = (\n",
    "#     pos_season_sum.groupby(\"position\")[\"total_points\"]\n",
    "#       .mean()\n",
    "#       .sort_values(ascending=False)\n",
    "#       .reset_index()\n",
    "#       .rename(columns={\"total_points\": \"avg_total_points\"})\n",
    "# )\n",
    "\n",
    "# # --- Visualization: bars with labels inside ---\n",
    "# fig, ax = plt.subplots(figsize=(8, 5))\n",
    "# bar = sns.barplot(\n",
    "#     x=\"position\", y=\"avg_total_points\",\n",
    "#     data=pos_avg, palette=\"magma\", ax=ax\n",
    "# )\n",
    "\n",
    "\n",
    "# ymax = pos_avg[\"avg_total_points\"].max()\n",
    "# for i, row in pos_avg.iterrows():\n",
    "#     val = row[\"avg_total_points\"]\n",
    "\n",
    "#     color = \"white\" if val > 0.35 * ymax else \"black\"\n",
    "#     ax.text(\n",
    "#         i, val * 0.55, f\"{int(val):,}\",\n",
    "#         ha=\"center\", va=\"center\", fontsize=10, fontweight=\"bold\", color=color\n",
    "#     )\n",
    "\n",
    "# ax.set_title(\"Average Total Points by Position (Across Seasons)\", fontsize=14, fontweight=\"bold\")\n",
    "# ax.set_xlabel(\"Player Position\", fontsize=12)\n",
    "# ax.set_ylabel(\"Average Total Points (per season)\", fontsize=12)\n",
    "# plt.tight_layout()\n",
    "# plt.show()\n",
    "\n",
    "# display(Markdown(\"\"\"\n",
    "# ✅ **Insight:**\n",
    "# Midfielders and forwards generally contribute the highest total points on average,\n",
    "# while defenders and goalkeepers score lower due to fewer goal/assist opportunities.\n",
    "# \"\"\"))"
   ]
  },
  {
   "cell_type": "code",
   "execution_count": null,
   "id": "ec224da0",
   "metadata": {
    "execution": {
     "iopub.execute_input": "2025-10-23T23:28:41.308594Z",
     "iopub.status.busy": "2025-10-23T23:28:41.308263Z",
     "iopub.status.idle": "2025-10-23T23:28:41.313659Z",
     "shell.execute_reply": "2025-10-23T23:28:41.312835Z"
    },
    "papermill": {
     "duration": 0.062634,
     "end_time": "2025-10-23T23:28:41.315386",
     "exception": false,
     "start_time": "2025-10-23T23:28:41.252752",
     "status": "completed"
    },
    "tags": []
   },
   "outputs": [],
   "source": [
    "# # =======================================================\n",
    "# # Top-5 by Season Total Points (2022–23)\n",
    "# # Each subplot shows total points evolution\n",
    "# # =======================================================\n",
    "# display(Markdown(\"## ⚽ Q(b.1): Top-5 by Season Total Points (2022–23)\"))\n",
    "\n",
    "# import matplotlib.pyplot as plt\n",
    "# import seaborn as sns\n",
    "# sns.set(style=\"whitegrid\")\n",
    "\n",
    "# players = top5_total\n",
    "# n = len(players)\n",
    "\n",
    "# fig, axes = plt.subplots(n, 1, figsize=(11, 2.4*n), sharex=True, sharey=True)\n",
    "\n",
    "# for ax, p in zip(axes, players):\n",
    "#     sub = (\n",
    "#         df_2223[df_2223[\"player_name\"] == p]\n",
    "#         .sort_values(\"gameweek\")[[\"gameweek\", \"total_points\"]]\n",
    "#         .drop_duplicates(subset=\"gameweek\")\n",
    "#     )\n",
    "#     # line and scatter for total_points\n",
    "#     ax.plot(sub[\"gameweek\"], sub[\"total_points\"], color=\"#2ca02c\", linewidth=2.5)\n",
    "#     ax.scatter(sub[\"gameweek\"], sub[\"total_points\"], color=\"#2ca02c\", s=20, alpha=0.7)\n",
    "\n",
    "#     ax.set_ylabel(\"Total Points\", fontsize=10)\n",
    "#     ax.set_title(p, loc=\"left\", fontsize=12, fontweight=\"bold\")\n",
    "#     ax.grid(True, alpha=0.3)\n",
    "\n",
    "# axes[-1].set_xlabel(\"Gameweek\", fontsize=11)\n",
    "# axes[0].set_ylim(0, df_2223[\"total_points\"].max() + 2)\n",
    "# fig.suptitle(f\"Total Points by Gameweek — Top-5 Players ({season_2223})\",\n",
    "#              fontsize=14, fontweight=\"bold\", y=0.99)\n",
    "# fig.tight_layout(rect=[0, 0, 1, 0.98])\n",
    "# plt.show()"
   ]
  },
  {
   "cell_type": "code",
   "execution_count": null,
   "id": "347126f6",
   "metadata": {
    "execution": {
     "iopub.execute_input": "2025-10-23T23:28:41.421352Z",
     "iopub.status.busy": "2025-10-23T23:28:41.420978Z",
     "iopub.status.idle": "2025-10-23T23:28:41.426887Z",
     "shell.execute_reply": "2025-10-23T23:28:41.425861Z"
    },
    "papermill": {
     "duration": 0.06158,
     "end_time": "2025-10-23T23:28:41.428513",
     "exception": false,
     "start_time": "2025-10-23T23:28:41.366933",
     "status": "completed"
    },
    "tags": []
   },
   "outputs": [],
   "source": [
    "# # =======================================================\n",
    "# # Top-5 by Average Form (2022–23)\n",
    "# # =======================================================\n",
    "# display(Markdown(\"## ⚽ Q(b.2): Top-5 by Average Form (2022–23)\"))\n",
    "\n",
    "# sns.set(style=\"whitegrid\")\n",
    "\n",
    "# players = top5_form\n",
    "# n = len(players)\n",
    "\n",
    "# fig, axes = plt.subplots(n, 1, figsize=(11, 2.4*n), sharex=True, sharey=True)\n",
    "\n",
    "# for ax, p in zip(axes, players):\n",
    "#     sub = (\n",
    "#         df_2223[df_2223[\"player_name\"] == p]\n",
    "#         .sort_values(\"gameweek\")[[\"gameweek\", \"form\"]]\n",
    "#         .drop_duplicates(subset=\"gameweek\")\n",
    "#     )\n",
    "#     ax.plot(sub[\"gameweek\"], sub[\"form\"], color=\"#d62728\", linewidth=2.5)\n",
    "#     ax.scatter(sub[\"gameweek\"], sub[\"form\"], color=\"#d62728\", s=18, alpha=0.7)\n",
    "\n",
    "#     ax.set_ylabel(\"Form\", fontsize=10)\n",
    "#     ax.set_title(p, loc=\"left\", fontsize=12, fontweight=\"bold\")\n",
    "#     ax.grid(True, alpha=0.3)\n",
    "\n",
    "# axes[-1].set_xlabel(\"Gameweek\", fontsize=11)\n",
    "# fig.suptitle(f\"Form by Gameweek — Top-5 by Average Form ({season_2223})\",\n",
    "#              fontsize=14, fontweight=\"bold\", y=0.99)\n",
    "# fig.tight_layout(rect=[0, 0, 1, 0.98])\n",
    "# plt.show()\n",
    "# # --- Inline summary ---\n",
    "# overlap = sorted(set(top5_total) & set(top5_form))\n",
    "# display(Markdown(f\"\"\"\n",
    "# ✅ **Top-5 by Total Points:** {', '.join(top5_total)}\n",
    "# ✅ **Top-5 by Average Form:** {', '.join(top5_form)}\n",
    "# 🔁 **Overlap:** {', '.join(overlap) if overlap else 'None'}\n",
    "\n",
    "# **Interpretation:**\n",
    "# The overlap shows players like *{', '.join(overlap)}* maintained both high total points\n",
    "# and consistent form. Others (like short-term performers) peaked briefly but didn’t sustain\n",
    "# their performance across the season.\n",
    "# \"\"\"))"
   ]
  },
  {
   "cell_type": "markdown",
   "id": "4d854be3",
   "metadata": {
    "papermill": {
     "duration": 0.052954,
     "end_time": "2025-10-23T23:28:41.534846",
     "exception": false,
     "start_time": "2025-10-23T23:28:41.481892",
     "status": "completed"
    },
    "tags": []
   },
   "source": [
    "zeina's part\n"
   ]
  },
  {
   "cell_type": "markdown",
   "id": "8a16f6c7",
   "metadata": {
    "papermill": {
     "duration": 0.052136,
     "end_time": "2025-10-23T23:28:41.641220",
     "exception": false,
     "start_time": "2025-10-23T23:28:41.589084",
     "status": "completed"
    },
    "tags": []
   },
   "source": [
    "# Feature Engineering\n"
   ]
  },
  {
   "cell_type": "markdown",
   "id": "4d0a489c",
   "metadata": {
    "papermill": {
     "duration": 0.053094,
     "end_time": "2025-10-23T23:28:41.745877",
     "exception": false,
     "start_time": "2025-10-23T23:28:41.692783",
     "status": "completed"
    },
    "tags": []
   },
   "source": [
    "#### Adding upcoming_total_points column (y predict)\n"
   ]
  },
  {
   "cell_type": "code",
   "execution_count": null,
   "id": "0293161f",
   "metadata": {
    "execution": {
     "iopub.execute_input": "2025-10-23T23:28:41.858880Z",
     "iopub.status.busy": "2025-10-23T23:28:41.858420Z",
     "iopub.status.idle": "2025-10-23T23:28:41.934466Z",
     "shell.execute_reply": "2025-10-23T23:28:41.933452Z"
    },
    "papermill": {
     "duration": 0.134969,
     "end_time": "2025-10-23T23:28:41.936267",
     "exception": false,
     "start_time": "2025-10-23T23:28:41.801298",
     "status": "completed"
    },
    "tags": []
   },
   "outputs": [],
   "source": [
    "df.sort_values(by=[\"season_x\", \"element\", \"kickoff_time\"], inplace=True)\n",
    "df[\"upcoming_total_points\"] = df.groupby([\"season_x\", \"element\"])[\"total_points\"].shift(\n",
    "    -1\n",
    ")\n",
    "mask_gw_38 = df[\"GW\"] == 38\n",
    "df.loc[mask_gw_38, \"upcoming_total_points\"] = df.loc[mask_gw_38, \"total_points\"]\n",
    "print(df.shape)\n",
    "df.head()"
   ]
  },
  {
   "cell_type": "markdown",
   "id": "513ca61c",
   "metadata": {
    "papermill": {
     "duration": 0.053357,
     "end_time": "2025-10-23T23:28:42.044116",
     "exception": false,
     "start_time": "2025-10-23T23:28:41.990759",
     "status": "completed"
    },
    "tags": []
   },
   "source": [
    "#### Adding team_score & opponent_score columns\n"
   ]
  },
  {
   "cell_type": "code",
   "execution_count": null,
   "id": "4a97e555",
   "metadata": {
    "execution": {
     "iopub.execute_input": "2025-10-23T23:28:42.151926Z",
     "iopub.status.busy": "2025-10-23T23:28:42.151625Z",
     "iopub.status.idle": "2025-10-23T23:28:42.191422Z",
     "shell.execute_reply": "2025-10-23T23:28:42.190322Z"
    },
    "papermill": {
     "duration": 0.095211,
     "end_time": "2025-10-23T23:28:42.193090",
     "exception": false,
     "start_time": "2025-10-23T23:28:42.097879",
     "status": "completed"
    },
    "tags": []
   },
   "outputs": [],
   "source": [
    "def add_team_scores(df: pd.DataFrame) -> pd.DataFrame:\n",
    "    df = df.copy()\n",
    "\n",
    "    df[\"team_score\"] = np.where(df[\"was_home\"], df[\"team_h_score\"], df[\"team_a_score\"])\n",
    "    df[\"opponent_score\"] = np.where(\n",
    "        df[\"was_home\"], df[\"team_a_score\"], df[\"team_h_score\"]\n",
    "    )\n",
    "\n",
    "    return df\n",
    "\n",
    "\n",
    "df = add_team_scores(df)\n",
    "print(df.shape)\n",
    "df.head()"
   ]
  },
  {
   "cell_type": "markdown",
   "id": "91a7f83a",
   "metadata": {
    "papermill": {
     "duration": 0.053372,
     "end_time": "2025-10-23T23:28:42.300688",
     "exception": false,
     "start_time": "2025-10-23T23:28:42.247316",
     "status": "completed"
    },
    "tags": []
   },
   "source": [
    "Needed to infer wins, losses, and draws\n"
   ]
  },
  {
   "cell_type": "markdown",
   "id": "cdf44898",
   "metadata": {
    "papermill": {
     "duration": 0.053943,
     "end_time": "2025-10-23T23:28:42.410746",
     "exception": false,
     "start_time": "2025-10-23T23:28:42.356803",
     "status": "completed"
    },
    "tags": []
   },
   "source": [
    "#### Adding form column\n"
   ]
  },
  {
   "cell_type": "code",
   "execution_count": null,
   "id": "28c9b0ed",
   "metadata": {
    "execution": {
     "iopub.execute_input": "2025-10-23T23:28:42.523132Z",
     "iopub.status.busy": "2025-10-23T23:28:42.522634Z",
     "iopub.status.idle": "2025-10-23T23:28:53.691561Z",
     "shell.execute_reply": "2025-10-23T23:28:53.690610Z"
    },
    "papermill": {
     "duration": 11.225798,
     "end_time": "2025-10-23T23:28:53.693417",
     "exception": false,
     "start_time": "2025-10-23T23:28:42.467619",
     "status": "completed"
    },
    "tags": []
   },
   "outputs": [],
   "source": [
    "form_df = df.copy()\n",
    "\n",
    "form_df = form_df.sort_values(\n",
    "    by=[\"season_x\", \"element\", \"GW\", \"kickoff_time\"]\n",
    ").reset_index(drop=True)\n",
    "\n",
    "\n",
    "def calculate_form(group):\n",
    "    # Aggregate per GW (combine DGWs)\n",
    "    gw_points = group.groupby(\"GW\", as_index=False)[\"total_points\"].sum()\n",
    "\n",
    "    # Compute rolling sum of last 4 GWs (excluding current GW)\n",
    "    gw_points[\"form\"] = (\n",
    "        gw_points[\"total_points\"]\n",
    "        # .shift(1)  # exclude current GW\n",
    "        .rolling(window=4, min_periods=1)  # use up to 4 previous GWs\n",
    "        .sum()\n",
    "        .fillna(0)\n",
    "        / 10  # scale like FPL (divided by 10)\n",
    "    )\n",
    "\n",
    "    # Merge back so both DGW rows share same form\n",
    "    return group.merge(gw_points[[\"GW\", \"form\"]], on=\"GW\", how=\"left\")\n",
    "\n",
    "\n",
    "# Apply to each player (element) per season\n",
    "form_df = form_df.groupby([\"season_x\", \"element\"], group_keys=False).apply(\n",
    "    calculate_form\n",
    ")\n",
    "\n",
    "# Optional: fill NaN (shouldn’t appear except for first GW)\n",
    "form_df[\"form\"] = form_df[\"form\"].fillna(0)\n",
    "\n",
    "# Preview result\n",
    "print(form_df.shape)\n",
    "form_df.head()"
   ]
  },
  {
   "cell_type": "code",
   "execution_count": null,
   "id": "ee15428d",
   "metadata": {
    "execution": {
     "iopub.execute_input": "2025-10-23T23:28:53.804183Z",
     "iopub.status.busy": "2025-10-23T23:28:53.803831Z",
     "iopub.status.idle": "2025-10-23T23:28:53.878831Z",
     "shell.execute_reply": "2025-10-23T23:28:53.877855Z"
    },
    "papermill": {
     "duration": 0.131441,
     "end_time": "2025-10-23T23:28:53.880955",
     "exception": false,
     "start_time": "2025-10-23T23:28:53.749514",
     "status": "completed"
    },
    "tags": []
   },
   "outputs": [],
   "source": [
    "df = form_df.copy()\n",
    "df.head()"
   ]
  },
  {
   "cell_type": "markdown",
   "id": "b94bdd64",
   "metadata": {
    "papermill": {
     "duration": 0.056752,
     "end_time": "2025-10-23T23:28:53.999315",
     "exception": false,
     "start_time": "2025-10-23T23:28:53.942563",
     "status": "completed"
    },
    "tags": []
   },
   "source": [
    "#### Creating teams_df\n"
   ]
  },
  {
   "cell_type": "markdown",
   "id": "46411cc4",
   "metadata": {
    "papermill": {
     "duration": 0.055679,
     "end_time": "2025-10-23T23:28:54.113215",
     "exception": false,
     "start_time": "2025-10-23T23:28:54.057536",
     "status": "completed"
    },
    "tags": []
   },
   "source": [
    "A df which stores performance stats of teams\n"
   ]
  },
  {
   "cell_type": "code",
   "execution_count": null,
   "id": "272115bc",
   "metadata": {
    "execution": {
     "iopub.execute_input": "2025-10-23T23:28:54.232052Z",
     "iopub.status.busy": "2025-10-23T23:28:54.231695Z",
     "iopub.status.idle": "2025-10-23T23:28:54.243264Z",
     "shell.execute_reply": "2025-10-23T23:28:54.241359Z"
    },
    "papermill": {
     "duration": 0.075784,
     "end_time": "2025-10-23T23:28:54.245954",
     "exception": false,
     "start_time": "2025-10-23T23:28:54.170170",
     "status": "completed"
    },
    "tags": []
   },
   "outputs": [],
   "source": [
    "df.shape"
   ]
  },
  {
   "cell_type": "code",
   "execution_count": null,
   "id": "ce5f9718",
   "metadata": {
    "execution": {
     "iopub.execute_input": "2025-10-23T23:28:54.362672Z",
     "iopub.status.busy": "2025-10-23T23:28:54.362305Z",
     "iopub.status.idle": "2025-10-23T23:28:54.641343Z",
     "shell.execute_reply": "2025-10-23T23:28:54.640147Z"
    },
    "papermill": {
     "duration": 0.336169,
     "end_time": "2025-10-23T23:28:54.643317",
     "exception": false,
     "start_time": "2025-10-23T23:28:54.307148",
     "status": "completed"
    },
    "tags": []
   },
   "outputs": [],
   "source": [
    "# --- 2. Feature Engineering ---\n",
    "\n",
    "# Step A: Isolate team-match data and remove duplicates, include kickoff_time\n",
    "team_match_data = (\n",
    "    df[[\"season_x\", \"team_x\", \"GW\", \"kickoff_time\", \"team_score\", \"opponent_score\"]]\n",
    "    .drop_duplicates()\n",
    "    .copy()\n",
    ")\n",
    "\n",
    "# Step B: Sort values to ensure correct cumulative/rolling calculation order\n",
    "team_match_data = team_match_data.sort_values(\n",
    "    by=[\"season_x\", \"team_x\", \"kickoff_time\", \"GW\"]\n",
    ")\n",
    "\n",
    "# Step C: Determine win, loss, or draw for each individual match\n",
    "conditions = [\n",
    "    team_match_data[\"team_score\"] > team_match_data[\"opponent_score\"],\n",
    "    team_match_data[\"team_score\"] < team_match_data[\"opponent_score\"],\n",
    "    team_match_data[\"team_score\"] == team_match_data[\"opponent_score\"],\n",
    "]\n",
    "team_match_data[\"win\"] = np.select(conditions, [1, 0, 0], default=0)\n",
    "team_match_data[\"loss\"] = np.select(conditions, [0, 1, 0], default=0)\n",
    "team_match_data[\"draw\"] = np.select(conditions, [0, 0, 1], default=0)\n",
    "\n",
    "# --- Create the final DataFrame, starting with the base data ---\n",
    "teams_df = team_match_data.copy()\n",
    "\n",
    "# Step D: Calculate Cumulative Stats\n",
    "cols_to_sum = [\"team_score\", \"opponent_score\", \"win\", \"loss\", \"draw\"]\n",
    "cumulative_cols = [f\"cumulative_{col}\" for col in cols_to_sum]\n",
    "teams_df[cumulative_cols] = teams_df.groupby([\"season_x\", \"team_x\"])[\n",
    "    cols_to_sum\n",
    "].cumsum()\n",
    "\n",
    "# --- NEW STEP D.5: Identify which teams are active in each season ---\n",
    "active_teams_index = (\n",
    "    df.dropna(subset=[\"team_score\", \"opponent_score\"])\n",
    "    .set_index([\"season_x\", \"team_x\"])\n",
    "    .index.unique()\n",
    ")\n",
    "teams_df[\"is_active\"] = teams_df.set_index([\"season_x\", \"team_x\"]).index.isin(\n",
    "    active_teams_index\n",
    ")\n",
    "\n",
    "# --- MODIFIED STEP E: Calculate Ranks for Active Teams Only ---\n",
    "rank_cols = []\n",
    "\n",
    "# Rank \"good\" stats: higher is better (wins, goals scored)\n",
    "for col in [\"cumulative_team_score\", \"cumulative_win\"]:\n",
    "    rank_col_name = f\"{col}_rank\"\n",
    "    temp_col = teams_df[col].where(teams_df[\"is_active\"], -np.inf)\n",
    "    ranks = temp_col.groupby([teams_df[\"season_x\"], teams_df[\"GW\"]]).rank(\n",
    "        method=\"min\", ascending=False\n",
    "    )\n",
    "    teams_df[rank_col_name] = ranks.where(teams_df[\"is_active\"])\n",
    "    rank_cols.append(rank_col_name)\n",
    "\n",
    "# Rank \"bad\" stats: lower is better (losses, goals conceded)\n",
    "for col in [\"cumulative_opponent_score\", \"cumulative_loss\", \"cumulative_draw\"]:\n",
    "    rank_col_name = f\"{col}_rank\"\n",
    "    temp_col = teams_df[col].where(teams_df[\"is_active\"], np.inf)\n",
    "    ranks = temp_col.groupby([teams_df[\"season_x\"], teams_df[\"GW\"]]).rank(\n",
    "        method=\"min\", ascending=True\n",
    "    )\n",
    "    teams_df[rank_col_name] = ranks.where(teams_df[\"is_active\"])\n",
    "    rank_cols.append(rank_col_name)\n",
    "\n",
    "# Drop helper column\n",
    "teams_df = teams_df.drop(columns=[\"is_active\"])\n",
    "\n",
    "# Step F: Calculate Rolling Averages (Form over last last_number_gws GWs)\n",
    "rolling_avg_cols = []\n",
    "cols_for_rolling = [\"team_score\", \"opponent_score\", \"win\", \"loss\", \"draw\"]\n",
    "for col in cols_for_rolling:\n",
    "    avg_col_name = f\"avg_{col}_last_{last_number_gws}\"\n",
    "    teams_df[avg_col_name] = teams_df.groupby([\"season_x\", \"team_x\"])[col].transform(\n",
    "        lambda x: x.shift(1).rolling(window=last_number_gws, min_periods=1).mean()\n",
    "    )\n",
    "    rolling_avg_cols.append(avg_col_name)\n",
    "\n",
    "# --- 3. Final Cleanup and Display ---\n",
    "teams_df = teams_df.rename(\n",
    "    columns={\n",
    "        \"cumulative_team_score\": \"cumulative_goals_scored\",\n",
    "        \"cumulative_opponent_score\": \"cumulative_goals_conceded\",\n",
    "        \"cumulative_win\": \"cumulative_wins\",\n",
    "        \"cumulative_loss\": \"cumulative_losses\",\n",
    "        \"cumulative_draw\": \"cumulative_draws\",\n",
    "    }\n",
    ")\n",
    "\n",
    "pd.set_option(\"display.max_columns\", None)\n",
    "pd.set_option(\"display.width\", 200)\n",
    "\n",
    "# Ensure ranks don’t exceed 20, and fill rolling averages\n",
    "teams_df[rank_cols] = teams_df[rank_cols].clip(upper=20)\n",
    "teams_df[rolling_avg_cols] = teams_df[rolling_avg_cols].fillna(0.0)\n",
    "\n",
    "print(teams_df.shape)\n",
    "teams_df.head()"
   ]
  },
  {
   "cell_type": "code",
   "execution_count": null,
   "id": "01a66a89",
   "metadata": {
    "execution": {
     "iopub.execute_input": "2025-10-23T23:28:54.757694Z",
     "iopub.status.busy": "2025-10-23T23:28:54.757370Z",
     "iopub.status.idle": "2025-10-23T23:28:54.765176Z",
     "shell.execute_reply": "2025-10-23T23:28:54.764175Z"
    },
    "papermill": {
     "duration": 0.068306,
     "end_time": "2025-10-23T23:28:54.766898",
     "exception": false,
     "start_time": "2025-10-23T23:28:54.698592",
     "status": "completed"
    },
    "tags": []
   },
   "outputs": [],
   "source": [
    "teams_df.columns"
   ]
  },
  {
   "cell_type": "code",
   "execution_count": null,
   "id": "50c03646",
   "metadata": {
    "execution": {
     "iopub.execute_input": "2025-10-23T23:28:54.886235Z",
     "iopub.status.busy": "2025-10-23T23:28:54.885847Z",
     "iopub.status.idle": "2025-10-23T23:28:54.901539Z",
     "shell.execute_reply": "2025-10-23T23:28:54.899759Z"
    },
    "papermill": {
     "duration": 0.077639,
     "end_time": "2025-10-23T23:28:54.903979",
     "exception": false,
     "start_time": "2025-10-23T23:28:54.826340",
     "status": "completed"
    },
    "tags": []
   },
   "outputs": [],
   "source": [
    "teams_df.info()"
   ]
  },
  {
   "cell_type": "markdown",
   "id": "c1063d42",
   "metadata": {
    "papermill": {
     "duration": 0.054191,
     "end_time": "2025-10-23T23:28:55.013425",
     "exception": false,
     "start_time": "2025-10-23T23:28:54.959234",
     "status": "completed"
    },
    "tags": []
   },
   "source": [
    "## Columns Handling\n"
   ]
  },
  {
   "cell_type": "markdown",
   "id": "b0d87c7d",
   "metadata": {
    "papermill": {
     "duration": 0.053834,
     "end_time": "2025-10-23T23:28:55.123485",
     "exception": false,
     "start_time": "2025-10-23T23:28:55.069651",
     "status": "completed"
    },
    "tags": []
   },
   "source": [
    "#### Column definitions\n"
   ]
  },
  {
   "cell_type": "code",
   "execution_count": null,
   "id": "12cfd4b0",
   "metadata": {
    "execution": {
     "iopub.execute_input": "2025-10-23T23:28:55.235817Z",
     "iopub.status.busy": "2025-10-23T23:28:55.234614Z",
     "iopub.status.idle": "2025-10-23T23:28:55.244366Z",
     "shell.execute_reply": "2025-10-23T23:28:55.242121Z"
    },
    "papermill": {
     "duration": 0.067398,
     "end_time": "2025-10-23T23:28:55.246485",
     "exception": false,
     "start_time": "2025-10-23T23:28:55.179087",
     "status": "completed"
    },
    "tags": []
   },
   "outputs": [],
   "source": [
    "# group by player and season, sort by gw, then get cumulative sum of set columns\n",
    "cumulative_columns = [\n",
    "    \"assists\",\n",
    "    \"bonus\",\n",
    "    \"bps\",\n",
    "    \"clean_sheets\",\n",
    "    \"goals_conceded\",\n",
    "    \"goals_scored\",\n",
    "    \"minutes\",\n",
    "    \"own_goals\",\n",
    "    \"penalties_missed\",\n",
    "    \"penalties_saved\",\n",
    "    \"red_cards\",\n",
    "    \"saves\",\n",
    "    \"total_points\",\n",
    "    \"yellow_cards\",\n",
    "]\n",
    "\n",
    "# \"creativity\", \"ict_index\", \"influence\", \"threat\", # DK to put\n",
    "minimum_90_minutes = 90  # To prevent anomalous values\n",
    "per_90_columns = [\n",
    "    \"assists\",\n",
    "    \"bonus\",\n",
    "    \"bps\",\n",
    "    \"clean_sheets\",\n",
    "    \"goals_conceded\",\n",
    "    \"goals_scored\",\n",
    "    # \"own_goals\",  # Dont think matters\n",
    "    # \"penalties_missed\",  # Dont think matters\n",
    "    # \"penalties_saved\",  # Dont think matters\n",
    "    # \"red_cards\",  # Dont think matters\n",
    "    \"saves\",\n",
    "    \"total_points\",\n",
    "    # \"yellow_cards\",  # Dont think matters\n",
    "]\n",
    "\n",
    "rolling_columns = [\n",
    "    \"assists\",\n",
    "    \"bonus\",\n",
    "    \"bps\",\n",
    "    \"clean_sheets\",\n",
    "    \"goals_conceded\",\n",
    "    \"goals_scored\",\n",
    "    # \"own_goals\", # Dont think matters\n",
    "    # \"penalties_missed\", # Dont think matters\n",
    "    # \"penalties_saved\", # Dont think matters\n",
    "    # \"red_cards\", # Dont think matters\n",
    "    \"saves\",\n",
    "    \"total_points\",\n",
    "    # \"yellow_cards\",  # Dont think matters\n",
    "]"
   ]
  },
  {
   "cell_type": "code",
   "execution_count": null,
   "id": "2cddf2e8",
   "metadata": {
    "execution": {
     "iopub.execute_input": "2025-10-23T23:28:55.395290Z",
     "iopub.status.busy": "2025-10-23T23:28:55.394872Z",
     "iopub.status.idle": "2025-10-23T23:28:55.403835Z",
     "shell.execute_reply": "2025-10-23T23:28:55.402418Z"
    },
    "papermill": {
     "duration": 0.087279,
     "end_time": "2025-10-23T23:28:55.406083",
     "exception": false,
     "start_time": "2025-10-23T23:28:55.318804",
     "status": "completed"
    },
    "tags": []
   },
   "outputs": [],
   "source": [
    "def add_columns(\n",
    "    df,\n",
    "    cumulative_cols,\n",
    "    rolling_cols,\n",
    "    per_90_columns,\n",
    "    last_number_gws,\n",
    "    minimum_90_minutes,\n",
    "):\n",
    "    # Make a copy of the original DataFrame to avoid modifying it directly\n",
    "    df_temp = df.copy()\n",
    "\n",
    "    # Sort the data by season, player (element), and gameweek to ensure proper cumulative/rolling order\n",
    "    df_temp = df_temp.sort_values([\"season_x\", \"element\", \"GW\"])\n",
    "\n",
    "    # --- 1️⃣ Cumulative feature computation ---\n",
    "    # Compute cumulative sums for all columns in `cumulative_cols` within each player-season group\n",
    "    df_temp[[f\"{c}_cum\" for c in cumulative_cols]] = df_temp.groupby(\n",
    "        [\"season_x\", \"element\"], group_keys=False\n",
    "    )[cumulative_cols].cumsum()\n",
    "\n",
    "    # --- 2️⃣ Rolling (last N gameweeks) feature computation ---\n",
    "    # For each player-season group, calculate rolling sums over the last `last_number_gws` gameweeks\n",
    "    df_temp[[f\"{c}_last_{last_number_gws}\" for c in rolling_cols]] = (\n",
    "        df_temp.groupby([\"season_x\", \"element\"], group_keys=False)[rolling_cols]\n",
    "        # Apply a rolling window of `last_number_gws` size with at least 1 valid entry\n",
    "        .rolling(window=last_number_gws, min_periods=1)\n",
    "        # Sum values within each rolling window\n",
    "        .sum()\n",
    "        # Drop the extra multi-index created by groupby + rolling\n",
    "        .reset_index(level=[0, 1], drop=True)\n",
    "    )\n",
    "\n",
    "    # --- 3️⃣ Per-90 stats with a capped denominator ---\n",
    "    # For selected columns, compute per-90-minute values, capping low minute totals to avoid inflation\n",
    "    for c in per_90_columns:\n",
    "        df_temp[f\"{c}_cum_per90\"] = (\n",
    "            # Divide cumulative value by cumulative minutes (clipped to at least `minimum_90_minutes`)\n",
    "            df_temp[f\"{c}_cum\"]\n",
    "            / df_temp[\"minutes_cum\"].clip(lower=minimum_90_minutes)\n",
    "            # Scale to a per-90-minute rate\n",
    "            * 90\n",
    "        )\n",
    "\n",
    "    # Return the transformed DataFrame with cumulative, rolling, and per-90 features\n",
    "    return df_temp"
   ]
  },
  {
   "cell_type": "code",
   "execution_count": null,
   "id": "fbf65aab",
   "metadata": {
    "execution": {
     "iopub.execute_input": "2025-10-23T23:28:55.531326Z",
     "iopub.status.busy": "2025-10-23T23:28:55.530921Z",
     "iopub.status.idle": "2025-10-23T23:28:56.137940Z",
     "shell.execute_reply": "2025-10-23T23:28:56.136348Z"
    },
    "papermill": {
     "duration": 0.667119,
     "end_time": "2025-10-23T23:28:56.140341",
     "exception": false,
     "start_time": "2025-10-23T23:28:55.473222",
     "status": "completed"
    },
    "tags": []
   },
   "outputs": [],
   "source": [
    "df_addcolumns = add_columns(\n",
    "    df,\n",
    "    cumulative_columns,\n",
    "    rolling_columns,\n",
    "    per_90_columns,\n",
    "    last_number_gws,\n",
    "    minimum_90_minutes,\n",
    ")"
   ]
  },
  {
   "cell_type": "code",
   "execution_count": null,
   "id": "f2d908fa",
   "metadata": {
    "execution": {
     "iopub.execute_input": "2025-10-23T23:28:56.265099Z",
     "iopub.status.busy": "2025-10-23T23:28:56.264540Z",
     "iopub.status.idle": "2025-10-23T23:28:56.284629Z",
     "shell.execute_reply": "2025-10-23T23:28:56.283337Z"
    },
    "papermill": {
     "duration": 0.086725,
     "end_time": "2025-10-23T23:28:56.286709",
     "exception": false,
     "start_time": "2025-10-23T23:28:56.199984",
     "status": "completed"
    },
    "tags": []
   },
   "outputs": [],
   "source": [
    "df_addcolumns[\n",
    "    [\n",
    "        \"total_points\",\n",
    "        \"total_points_cum\",\n",
    "        \"total_points_cum_per90\",\n",
    "        \"minutes\",\n",
    "        \"total_points_last_4\",\n",
    "    ]\n",
    "].iloc[0:50]"
   ]
  },
  {
   "cell_type": "code",
   "execution_count": null,
   "id": "fde98bf9",
   "metadata": {
    "execution": {
     "iopub.execute_input": "2025-10-23T23:28:56.399403Z",
     "iopub.status.busy": "2025-10-23T23:28:56.399063Z",
     "iopub.status.idle": "2025-10-23T23:28:56.405525Z",
     "shell.execute_reply": "2025-10-23T23:28:56.404610Z"
    },
    "papermill": {
     "duration": 0.065474,
     "end_time": "2025-10-23T23:28:56.407687",
     "exception": false,
     "start_time": "2025-10-23T23:28:56.342213",
     "status": "completed"
    },
    "tags": []
   },
   "outputs": [],
   "source": [
    "df_addcolumns.columns"
   ]
  },
  {
   "cell_type": "code",
   "execution_count": null,
   "id": "c57f2eb6",
   "metadata": {
    "execution": {
     "iopub.execute_input": "2025-10-23T23:28:56.523605Z",
     "iopub.status.busy": "2025-10-23T23:28:56.523291Z",
     "iopub.status.idle": "2025-10-23T23:28:56.651157Z",
     "shell.execute_reply": "2025-10-23T23:28:56.650128Z"
    },
    "papermill": {
     "duration": 0.186323,
     "end_time": "2025-10-23T23:28:56.652825",
     "exception": false,
     "start_time": "2025-10-23T23:28:56.466502",
     "status": "completed"
    },
    "tags": []
   },
   "outputs": [],
   "source": [
    "df = df_addcolumns.copy()\n",
    "print(df.shape)\n",
    "df.head()"
   ]
  },
  {
   "cell_type": "markdown",
   "id": "d76d4638",
   "metadata": {
    "papermill": {
     "duration": 0.05518,
     "end_time": "2025-10-23T23:28:56.764791",
     "exception": false,
     "start_time": "2025-10-23T23:28:56.709611",
     "status": "completed"
    },
    "tags": []
   },
   "source": [
    "## Shift columns\n"
   ]
  },
  {
   "cell_type": "code",
   "execution_count": null,
   "id": "ac91a5d8",
   "metadata": {
    "execution": {
     "iopub.execute_input": "2025-10-23T23:28:56.878179Z",
     "iopub.status.busy": "2025-10-23T23:28:56.877829Z",
     "iopub.status.idle": "2025-10-23T23:28:56.882437Z",
     "shell.execute_reply": "2025-10-23T23:28:56.881485Z"
    },
    "papermill": {
     "duration": 0.062669,
     "end_time": "2025-10-23T23:28:56.883831",
     "exception": false,
     "start_time": "2025-10-23T23:28:56.821162",
     "status": "completed"
    },
    "tags": []
   },
   "outputs": [],
   "source": [
    "columns_to_shift = [\"team_x\", \"opp_team_name\", \"kickoff_time\", \"was_home\", \"GW\"]"
   ]
  },
  {
   "cell_type": "code",
   "execution_count": null,
   "id": "325a3181",
   "metadata": {
    "execution": {
     "iopub.execute_input": "2025-10-23T23:28:56.998452Z",
     "iopub.status.busy": "2025-10-23T23:28:56.998130Z",
     "iopub.status.idle": "2025-10-23T23:28:57.082505Z",
     "shell.execute_reply": "2025-10-23T23:28:57.081417Z"
    },
    "papermill": {
     "duration": 0.144224,
     "end_time": "2025-10-23T23:28:57.084231",
     "exception": false,
     "start_time": "2025-10-23T23:28:56.940007",
     "status": "completed"
    },
    "tags": []
   },
   "outputs": [],
   "source": [
    "def shift_columns(df, columns_to_shift):\n",
    "    df_temp = df.copy()\n",
    "    df_temp = df_temp.sort_values([\"season_x\", \"element\", \"GW\"])\n",
    "\n",
    "    df_temp[[f\"{col}_next\" for col in columns_to_shift]] = df_temp.groupby(\n",
    "        [\"season_x\", \"element\"], group_keys=False\n",
    "    )[columns_to_shift].shift(-1)  # shift up by 1 row\n",
    "\n",
    "    return df_temp\n",
    "\n",
    "\n",
    "df_shiftcolumns = shift_columns(df, columns_to_shift)"
   ]
  },
  {
   "cell_type": "code",
   "execution_count": null,
   "id": "5cb477f8",
   "metadata": {
    "execution": {
     "iopub.execute_input": "2025-10-23T23:28:57.200089Z",
     "iopub.status.busy": "2025-10-23T23:28:57.198983Z",
     "iopub.status.idle": "2025-10-23T23:28:57.292316Z",
     "shell.execute_reply": "2025-10-23T23:28:57.291418Z"
    },
    "papermill": {
     "duration": 0.153209,
     "end_time": "2025-10-23T23:28:57.294267",
     "exception": false,
     "start_time": "2025-10-23T23:28:57.141058",
     "status": "completed"
    },
    "tags": []
   },
   "outputs": [],
   "source": [
    "df = df_shiftcolumns.copy()\n",
    "print(df.shape)\n",
    "df.head()"
   ]
  },
  {
   "cell_type": "markdown",
   "id": "edf8cddd",
   "metadata": {
    "papermill": {
     "duration": 0.057245,
     "end_time": "2025-10-23T23:28:57.408197",
     "exception": false,
     "start_time": "2025-10-23T23:28:57.350952",
     "status": "completed"
    },
    "tags": []
   },
   "source": [
    "## Finalize columns\n"
   ]
  },
  {
   "cell_type": "code",
   "execution_count": null,
   "id": "c2f69e85",
   "metadata": {
    "execution": {
     "iopub.execute_input": "2025-10-23T23:28:57.526067Z",
     "iopub.status.busy": "2025-10-23T23:28:57.525573Z",
     "iopub.status.idle": "2025-10-23T23:28:57.612221Z",
     "shell.execute_reply": "2025-10-23T23:28:57.611145Z"
    },
    "papermill": {
     "duration": 0.147493,
     "end_time": "2025-10-23T23:28:57.614206",
     "exception": false,
     "start_time": "2025-10-23T23:28:57.466713",
     "status": "completed"
    },
    "tags": []
   },
   "outputs": [],
   "source": [
    "df = pd.get_dummies(df, columns=[\"position\"], prefix=\"position\")"
   ]
  },
  {
   "cell_type": "code",
   "execution_count": null,
   "id": "457db211",
   "metadata": {
    "execution": {
     "iopub.execute_input": "2025-10-23T23:28:57.731437Z",
     "iopub.status.busy": "2025-10-23T23:28:57.731119Z",
     "iopub.status.idle": "2025-10-23T23:28:57.738154Z",
     "shell.execute_reply": "2025-10-23T23:28:57.736988Z"
    },
    "papermill": {
     "duration": 0.066598,
     "end_time": "2025-10-23T23:28:57.739745",
     "exception": false,
     "start_time": "2025-10-23T23:28:57.673147",
     "status": "completed"
    },
    "tags": []
   },
   "outputs": [],
   "source": [
    "columns_needed = [\n",
    "    \"position_GK\",\n",
    "    \"position_DEF\",\n",
    "    \"position_MID\",\n",
    "    \"position_FWD\",\n",
    "    # Unknown values\n",
    "    \"creativity\",\n",
    "    \"ict_index\",\n",
    "    \"influence\",\n",
    "    \"threat\",\n",
    "    \"value\",\n",
    "    \"form\",\n",
    "    # Cumulative\n",
    "    \"assists_cum\",\n",
    "    \"bonus_cum\",\n",
    "    \"bps_cum\",\n",
    "    \"clean_sheets_cum\",\n",
    "    \"goals_conceded_cum\",\n",
    "    \"goals_scored_cum\",\n",
    "    \"minutes_cum\",\n",
    "    \"own_goals_cum\",\n",
    "    \"penalties_missed_cum\",\n",
    "    \"penalties_saved_cum\",\n",
    "    \"red_cards_cum\",\n",
    "    \"saves_cum\",\n",
    "    \"total_points_cum\",\n",
    "    \"yellow_cards_cum\",\n",
    "    # Last x\n",
    "    f\"assists_last_{last_number_gws}\",\n",
    "    f\"bonus_last_{last_number_gws}\",\n",
    "    f\"bps_last_{last_number_gws}\",\n",
    "    f\"clean_sheets_last_{last_number_gws}\",\n",
    "    f\"goals_conceded_last_{last_number_gws}\",\n",
    "    f\"goals_scored_last_{last_number_gws}\",\n",
    "    f\"saves_last_{last_number_gws}\",\n",
    "    f\"total_points_last_{last_number_gws}\",\n",
    "    # Per 90\n",
    "    \"assists_cum_per90\",\n",
    "    \"bonus_cum_per90\",\n",
    "    \"bps_cum_per90\",\n",
    "    \"clean_sheets_cum_per90\",\n",
    "    \"goals_conceded_cum_per90\",\n",
    "    \"goals_scored_cum_per90\",\n",
    "    \"saves_cum_per90\",\n",
    "    \"total_points_cum_per90\",\n",
    "    # Use to get team values\n",
    "    \"team_x_next\",\n",
    "    \"opp_team_name_next\",\n",
    "    \"kickoff_time_next\",\n",
    "    \"kickoff_time\",\n",
    "    \"season_x\",\n",
    "    \"was_home_next\",\n",
    "    \"GW_next\",  # ??\n",
    "    \"GW\",\n",
    "    # y predict\n",
    "    \"upcoming_total_points\",\n",
    "]"
   ]
  },
  {
   "cell_type": "code",
   "execution_count": null,
   "id": "cca6cfd6",
   "metadata": {
    "execution": {
     "iopub.execute_input": "2025-10-23T23:28:57.859948Z",
     "iopub.status.busy": "2025-10-23T23:28:57.859562Z",
     "iopub.status.idle": "2025-10-23T23:28:57.888592Z",
     "shell.execute_reply": "2025-10-23T23:28:57.887555Z"
    },
    "papermill": {
     "duration": 0.088949,
     "end_time": "2025-10-23T23:28:57.890498",
     "exception": false,
     "start_time": "2025-10-23T23:28:57.801549",
     "status": "completed"
    },
    "tags": []
   },
   "outputs": [],
   "source": [
    "# Removes rows where 'GW_next' is NaN (rows that are at GW38 therefore no GW39 to predict)\n",
    "df = df.dropna(subset=[\"GW_next\"])"
   ]
  },
  {
   "cell_type": "code",
   "execution_count": null,
   "id": "1d90c352",
   "metadata": {
    "execution": {
     "iopub.execute_input": "2025-10-23T23:28:58.019462Z",
     "iopub.status.busy": "2025-10-23T23:28:58.017968Z",
     "iopub.status.idle": "2025-10-23T23:28:58.066862Z",
     "shell.execute_reply": "2025-10-23T23:28:58.065755Z"
    },
    "papermill": {
     "duration": 0.115314,
     "end_time": "2025-10-23T23:28:58.068609",
     "exception": false,
     "start_time": "2025-10-23T23:28:57.953295",
     "status": "completed"
    },
    "tags": []
   },
   "outputs": [],
   "source": [
    "df = df[columns_needed]\n",
    "print(df.shape)\n",
    "df.head()"
   ]
  },
  {
   "cell_type": "code",
   "execution_count": null,
   "id": "8cef92fb",
   "metadata": {
    "execution": {
     "iopub.execute_input": "2025-10-23T23:28:58.187610Z",
     "iopub.status.busy": "2025-10-23T23:28:58.187291Z",
     "iopub.status.idle": "2025-10-23T23:28:58.194563Z",
     "shell.execute_reply": "2025-10-23T23:28:58.193306Z"
    },
    "papermill": {
     "duration": 0.068959,
     "end_time": "2025-10-23T23:28:58.196458",
     "exception": false,
     "start_time": "2025-10-23T23:28:58.127499",
     "status": "completed"
    },
    "tags": []
   },
   "outputs": [],
   "source": [
    "df.columns"
   ]
  },
  {
   "cell_type": "code",
   "execution_count": null,
   "id": "daa7b933",
   "metadata": {
    "execution": {
     "iopub.execute_input": "2025-10-23T23:28:58.317602Z",
     "iopub.status.busy": "2025-10-23T23:28:58.316433Z",
     "iopub.status.idle": "2025-10-23T23:28:58.370641Z",
     "shell.execute_reply": "2025-10-23T23:28:58.369424Z"
    },
    "papermill": {
     "duration": 0.116543,
     "end_time": "2025-10-23T23:28:58.372695",
     "exception": false,
     "start_time": "2025-10-23T23:28:58.256152",
     "status": "completed"
    },
    "tags": []
   },
   "outputs": [],
   "source": [
    "df.info()"
   ]
  },
  {
   "cell_type": "markdown",
   "id": "3286c9cc",
   "metadata": {
    "papermill": {
     "duration": 0.056801,
     "end_time": "2025-10-23T23:28:58.488569",
     "exception": false,
     "start_time": "2025-10-23T23:28:58.431768",
     "status": "completed"
    },
    "tags": []
   },
   "source": [
    "## Joining df to teams_df\n"
   ]
  },
  {
   "cell_type": "markdown",
   "id": "99a53254",
   "metadata": {
    "papermill": {
     "duration": 0.058898,
     "end_time": "2025-10-23T23:28:58.605510",
     "exception": false,
     "start_time": "2025-10-23T23:28:58.546612",
     "status": "completed"
    },
    "tags": []
   },
   "source": [
    "### Rename Team Columns\n"
   ]
  },
  {
   "cell_type": "markdown",
   "id": "e880300f",
   "metadata": {
    "papermill": {
     "duration": 0.064523,
     "end_time": "2025-10-23T23:28:58.729743",
     "exception": false,
     "start_time": "2025-10-23T23:28:58.665220",
     "status": "completed"
    },
    "tags": []
   },
   "source": [
    "Done to make sure difference between player and team stats\n"
   ]
  },
  {
   "cell_type": "code",
   "execution_count": null,
   "id": "8621293b",
   "metadata": {
    "execution": {
     "iopub.execute_input": "2025-10-23T23:28:58.856783Z",
     "iopub.status.busy": "2025-10-23T23:28:58.856465Z",
     "iopub.status.idle": "2025-10-23T23:28:58.863766Z",
     "shell.execute_reply": "2025-10-23T23:28:58.862784Z"
    },
    "papermill": {
     "duration": 0.076356,
     "end_time": "2025-10-23T23:28:58.865556",
     "exception": false,
     "start_time": "2025-10-23T23:28:58.789200",
     "status": "completed"
    },
    "tags": []
   },
   "outputs": [],
   "source": [
    "teams_df.columns"
   ]
  },
  {
   "cell_type": "code",
   "execution_count": null,
   "id": "7193b369",
   "metadata": {
    "execution": {
     "iopub.execute_input": "2025-10-23T23:28:58.988656Z",
     "iopub.status.busy": "2025-10-23T23:28:58.988313Z",
     "iopub.status.idle": "2025-10-23T23:28:58.997323Z",
     "shell.execute_reply": "2025-10-23T23:28:58.996157Z"
    },
    "papermill": {
     "duration": 0.076418,
     "end_time": "2025-10-23T23:28:59.000854",
     "exception": false,
     "start_time": "2025-10-23T23:28:58.924436",
     "status": "completed"
    },
    "tags": []
   },
   "outputs": [],
   "source": [
    "new_team_column_names = {\n",
    "    col: f\"team_{col}\"\n",
    "    for col in teams_df.columns\n",
    "    if col not in [\"season_x\", \"team_x\", \"GW\", \"kickoff_time\"]\n",
    "}\n",
    "new_team_column_names"
   ]
  },
  {
   "cell_type": "code",
   "execution_count": null,
   "id": "e276f082",
   "metadata": {
    "execution": {
     "iopub.execute_input": "2025-10-23T23:28:59.141451Z",
     "iopub.status.busy": "2025-10-23T23:28:59.141107Z",
     "iopub.status.idle": "2025-10-23T23:28:59.147393Z",
     "shell.execute_reply": "2025-10-23T23:28:59.146158Z"
    },
    "papermill": {
     "duration": 0.074667,
     "end_time": "2025-10-23T23:28:59.149448",
     "exception": false,
     "start_time": "2025-10-23T23:28:59.074781",
     "status": "completed"
    },
    "tags": []
   },
   "outputs": [],
   "source": [
    "df.shape"
   ]
  },
  {
   "cell_type": "code",
   "execution_count": null,
   "id": "56bb6be1",
   "metadata": {
    "execution": {
     "iopub.execute_input": "2025-10-23T23:28:59.270561Z",
     "iopub.status.busy": "2025-10-23T23:28:59.270204Z",
     "iopub.status.idle": "2025-10-23T23:28:59.622495Z",
     "shell.execute_reply": "2025-10-23T23:28:59.621554Z"
    },
    "papermill": {
     "duration": 0.414145,
     "end_time": "2025-10-23T23:28:59.624262",
     "exception": false,
     "start_time": "2025-10-23T23:28:59.210117",
     "status": "completed"
    },
    "tags": []
   },
   "outputs": [],
   "source": [
    "joined_df = df.merge(\n",
    "    teams_df,\n",
    "    how=\"left\",\n",
    "    left_on=[\"season_x\", \"kickoff_time\", \"team_x_next\"],\n",
    "    right_on=[\"season_x\", \"kickoff_time\", \"team_x\"],\n",
    "    suffixes=(\"\", \"_team\"),\n",
    ")\n",
    "\n",
    "# Drop redundant columns (avoid duplicate GW/team_x columns)\n",
    "joined_df = joined_df.drop(\n",
    "    columns=[\"GW_team\", \"team_x_team\", \"GW_opp\", \"team_x_opp\"], errors=\"ignore\"\n",
    ")\n",
    "\n",
    "joined_df = joined_df.rename(columns=new_team_column_names)\n",
    "\n",
    "# Check result\n",
    "print(joined_df.shape)\n",
    "joined_df.head()"
   ]
  },
  {
   "cell_type": "code",
   "execution_count": null,
   "id": "2886c67d",
   "metadata": {
    "execution": {
     "iopub.execute_input": "2025-10-23T23:28:59.743833Z",
     "iopub.status.busy": "2025-10-23T23:28:59.742969Z",
     "iopub.status.idle": "2025-10-23T23:28:59.750392Z",
     "shell.execute_reply": "2025-10-23T23:28:59.748987Z"
    },
    "papermill": {
     "duration": 0.069011,
     "end_time": "2025-10-23T23:28:59.752290",
     "exception": false,
     "start_time": "2025-10-23T23:28:59.683279",
     "status": "completed"
    },
    "tags": []
   },
   "outputs": [],
   "source": [
    "joined_df.columns"
   ]
  },
  {
   "cell_type": "code",
   "execution_count": null,
   "id": "7e4227e6",
   "metadata": {
    "execution": {
     "iopub.execute_input": "2025-10-23T23:28:59.873767Z",
     "iopub.status.busy": "2025-10-23T23:28:59.873414Z",
     "iopub.status.idle": "2025-10-23T23:28:59.973688Z",
     "shell.execute_reply": "2025-10-23T23:28:59.972461Z"
    },
    "papermill": {
     "duration": 0.162239,
     "end_time": "2025-10-23T23:28:59.975530",
     "exception": false,
     "start_time": "2025-10-23T23:28:59.813291",
     "status": "completed"
    },
    "tags": []
   },
   "outputs": [],
   "source": [
    "joined_df.info()"
   ]
  },
  {
   "cell_type": "code",
   "execution_count": null,
   "id": "e3e39057",
   "metadata": {
    "execution": {
     "iopub.execute_input": "2025-10-23T23:29:00.096216Z",
     "iopub.status.busy": "2025-10-23T23:29:00.095844Z",
     "iopub.status.idle": "2025-10-23T23:29:00.163425Z",
     "shell.execute_reply": "2025-10-23T23:29:00.162493Z"
    },
    "papermill": {
     "duration": 0.129305,
     "end_time": "2025-10-23T23:29:00.165313",
     "exception": false,
     "start_time": "2025-10-23T23:29:00.036008",
     "status": "completed"
    },
    "tags": []
   },
   "outputs": [],
   "source": [
    "df = joined_df.copy()\n",
    "print(df.shape)\n",
    "df.head()"
   ]
  },
  {
   "cell_type": "code",
   "execution_count": null,
   "id": "87094fd6",
   "metadata": {
    "execution": {
     "iopub.execute_input": "2025-10-23T23:29:00.286882Z",
     "iopub.status.busy": "2025-10-23T23:29:00.286549Z",
     "iopub.status.idle": "2025-10-23T23:29:00.348543Z",
     "shell.execute_reply": "2025-10-23T23:29:00.347414Z"
    },
    "papermill": {
     "duration": 0.124873,
     "end_time": "2025-10-23T23:29:00.350275",
     "exception": false,
     "start_time": "2025-10-23T23:29:00.225402",
     "status": "completed"
    },
    "tags": []
   },
   "outputs": [],
   "source": [
    "# label encode was_home_next\n",
    "df[\"was_home_next\"] = (\n",
    "    df[\"was_home_next\"].map({\"True\": 1, \"False\": 0, True: 1, False: 0}).fillna(0)\n",
    ")\n",
    "# Convert all boolean columns to 0/1\n",
    "bool_cols = df.select_dtypes(include=[\"bool\"]).columns\n",
    "df[bool_cols] = df[bool_cols].astype(int)\n",
    "print(df.shape)\n",
    "df.head()"
   ]
  },
  {
   "cell_type": "markdown",
   "id": "14485d5d",
   "metadata": {
    "papermill": {
     "duration": 0.060765,
     "end_time": "2025-10-23T23:29:00.474398",
     "exception": false,
     "start_time": "2025-10-23T23:29:00.413633",
     "status": "completed"
    },
    "tags": []
   },
   "source": [
    "# Encapsulating Preprocessing\n"
   ]
  },
  {
   "cell_type": "code",
   "execution_count": null,
   "id": "e697c117",
   "metadata": {
    "execution": {
     "iopub.execute_input": "2025-10-23T23:29:00.601615Z",
     "iopub.status.busy": "2025-10-23T23:29:00.600627Z",
     "iopub.status.idle": "2025-10-23T23:29:00.631832Z",
     "shell.execute_reply": "2025-10-23T23:29:00.630882Z"
    },
    "papermill": {
     "duration": 0.097782,
     "end_time": "2025-10-23T23:29:00.633631",
     "exception": false,
     "start_time": "2025-10-23T23:29:00.535849",
     "status": "completed"
    },
    "tags": []
   },
   "outputs": [],
   "source": [
    "# Dropping unnecessary columns\n",
    "drop_cols = [\n",
    "    \"team_x_next\",\n",
    "    \"opp_team_name_next\",\n",
    "    \"kickoff_time_next\",\n",
    "    \"kickoff_time\",\n",
    "    \"kickoff_time_opp\",\n",
    "    \"season_x\",\n",
    "    \"team_x\",\n",
    "    \"GW\",\n",
    "    \"GW_next\",\n",
    "    \"kickoff_time_opp\",\n",
    "]\n",
    "\n",
    "df = df.drop(columns=drop_cols, errors=\"ignore\")\n",
    "print(df.shape)"
   ]
  },
  {
   "cell_type": "code",
   "execution_count": null,
   "id": "d3e9ef0e",
   "metadata": {
    "execution": {
     "iopub.execute_input": "2025-10-23T23:29:00.759953Z",
     "iopub.status.busy": "2025-10-23T23:29:00.759378Z",
     "iopub.status.idle": "2025-10-23T23:29:00.851318Z",
     "shell.execute_reply": "2025-10-23T23:29:00.850090Z"
    },
    "papermill": {
     "duration": 0.157594,
     "end_time": "2025-10-23T23:29:00.853026",
     "exception": false,
     "start_time": "2025-10-23T23:29:00.695432",
     "status": "completed"
    },
    "tags": []
   },
   "outputs": [],
   "source": [
    "df = df.dropna()\n",
    "print(df.shape)\n",
    "df.head()"
   ]
  },
  {
   "cell_type": "code",
   "execution_count": null,
   "id": "f6630735",
   "metadata": {
    "execution": {
     "iopub.execute_input": "2025-10-23T23:29:00.979640Z",
     "iopub.status.busy": "2025-10-23T23:29:00.979341Z",
     "iopub.status.idle": "2025-10-23T23:29:07.713761Z",
     "shell.execute_reply": "2025-10-23T23:29:07.712102Z"
    },
    "papermill": {
     "duration": 6.800085,
     "end_time": "2025-10-23T23:29:07.715825",
     "exception": false,
     "start_time": "2025-10-23T23:29:00.915740",
     "status": "completed"
    },
    "tags": []
   },
   "outputs": [],
   "source": [
    "from sklearn.feature_selection import SelectKBest, f_regression, mutual_info_regression\n",
    "from sklearn.ensemble import RandomForestRegressor\n",
    "from sklearn.preprocessing import StandardScaler\n",
    "from pathlib import Path\n",
    "\n",
    "from sklearn.model_selection import train_test_split\n",
    "from sklearn.preprocessing import StandardScaler\n",
    "import torch\n",
    "import torch.nn as nn\n",
    "from torch.utils.data import DataLoader, TensorDataset\n",
    "\n",
    "last_number_gws = 4\n",
    "minimum_gws = 2  # Can change according to performance\n",
    "\n",
    "# Define all position updates in one place\n",
    "position_updates = [\n",
    "    {\n",
    "        \"names\": [\"Jeffrey Schlupp\", \"Jairo Riedewald\", \"Declan Rice\"],\n",
    "        \"seasons\": [\"2016-17\", \"2017-18\"],\n",
    "        \"position\": \"DEF\",\n",
    "    },\n",
    "    {\n",
    "        \"names\": [\"James Milner\"],\n",
    "        \"seasons\": [\"2017-18\"],\n",
    "        \"position\": \"DEF\",\n",
    "    },\n",
    "    {\n",
    "        \"names\": [\n",
    "            \"Eric Dier\",\n",
    "            \"Fernando Luiz Rosa\",\n",
    "            \"Ashley Young\",\n",
    "            \"Daniel Amartey\",\n",
    "            \"Robert Kenedy Nunes do Nascimento\",\n",
    "            \"Ainsley Maitland-Niles\",\n",
    "            \"Aaron Wan-Bissaka\",\n",
    "            \"Oleksandr Zinchenko\",\n",
    "            \"Anthony Martial\",\n",
    "            \"Michail Antonio\",\n",
    "            \"Richarlison de Andrade\",\n",
    "        ],\n",
    "        \"seasons\": [\"2016-17\", \"2017-18\"],\n",
    "        \"position\": \"MID\",\n",
    "    },\n",
    "    {\n",
    "        \"names\": [\"Roberto Firmino\", \"Jay Rodriguez\", \"Joshua King\"],\n",
    "        \"seasons\": [\"2016-17\"],\n",
    "        \"position\": \"MID\",\n",
    "    },\n",
    "    {\n",
    "        \"names\": [\"Marcus Rashford\", \"Ayoze Pérez\", \"Pierre-Emerick Aubameyang\"],\n",
    "        \"seasons\": [\"2016-17\", \"2017-18\"],\n",
    "        \"position\": \"FWD\",\n",
    "    },\n",
    "]\n",
    "\n",
    "# ------- Column Definitions-------\n",
    "cumulative_columns = [\n",
    "    \"assists\",\n",
    "    \"bonus\",\n",
    "    \"bps\",\n",
    "    \"clean_sheets\",\n",
    "    \"goals_conceded\",\n",
    "    \"goals_scored\",\n",
    "    \"minutes\",\n",
    "    \"own_goals\",\n",
    "    \"penalties_missed\",\n",
    "    \"penalties_saved\",\n",
    "    \"red_cards\",\n",
    "    \"saves\",\n",
    "    \"total_points\",\n",
    "    \"yellow_cards\",\n",
    "]\n",
    "\n",
    "# \"creativity\", \"ict_index\", \"influence\", \"threat\", # DK to put\n",
    "minimum_90_minutes = 90  # To prevent anomalous values\n",
    "per_90_columns = [\n",
    "    \"assists\",\n",
    "    \"bonus\",\n",
    "    \"bps\",\n",
    "    \"clean_sheets\",\n",
    "    \"goals_conceded\",\n",
    "    \"goals_scored\",\n",
    "    # \"own_goals\",  # Dont think matters\n",
    "    # \"penalties_missed\",  # Dont think matters\n",
    "    # \"penalties_saved\",  # Dont think matters\n",
    "    # \"red_cards\",  # Dont think matters\n",
    "    \"saves\",\n",
    "    \"total_points\",\n",
    "    # \"yellow_cards\",  # Dont think matters\n",
    "]\n",
    "\n",
    "rolling_columns = [\n",
    "    \"assists\",\n",
    "    \"bonus\",\n",
    "    \"bps\",\n",
    "    \"clean_sheets\",\n",
    "    \"goals_conceded\",\n",
    "    \"goals_scored\",\n",
    "    # \"own_goals\", # Dont think matters\n",
    "    # \"penalties_missed\", # Dont think matters\n",
    "    # \"penalties_saved\", # Dont think matters\n",
    "    # \"red_cards\", # Dont think matters\n",
    "    \"saves\",\n",
    "    \"total_points\",\n",
    "    # \"yellow_cards\",  # Dont think matters\n",
    "]\n",
    "\n",
    "\n",
    "columns_needed = [\n",
    "    \"position_GK\",\n",
    "    \"position_DEF\",\n",
    "    \"position_MID\",\n",
    "    \"position_FWD\",\n",
    "    # Unknown values\n",
    "    \"creativity\",\n",
    "    \"ict_index\",\n",
    "    \"influence\",\n",
    "    \"threat\",\n",
    "    \"value\",\n",
    "    \"form\",\n",
    "    # Cumulative\n",
    "    \"assists_cum\",\n",
    "    \"bonus_cum\",\n",
    "    \"bps_cum\",\n",
    "    \"clean_sheets_cum\",\n",
    "    \"goals_conceded_cum\",\n",
    "    \"goals_scored_cum\",\n",
    "    \"minutes_cum\",\n",
    "    \"own_goals_cum\",\n",
    "    \"penalties_missed_cum\",\n",
    "    \"penalties_saved_cum\",\n",
    "    \"red_cards_cum\",\n",
    "    \"saves_cum\",\n",
    "    \"total_points_cum\",\n",
    "    \"yellow_cards_cum\",\n",
    "    # Last x\n",
    "    f\"assists_last_{last_number_gws}\",\n",
    "    f\"bonus_last_{last_number_gws}\",\n",
    "    f\"bps_last_{last_number_gws}\",\n",
    "    f\"clean_sheets_last_{last_number_gws}\",\n",
    "    f\"goals_conceded_last_{last_number_gws}\",\n",
    "    f\"goals_scored_last_{last_number_gws}\",\n",
    "    f\"saves_last_{last_number_gws}\",\n",
    "    f\"total_points_last_{last_number_gws}\",\n",
    "    # Per 90\n",
    "    \"assists_cum_per90\",\n",
    "    \"bonus_cum_per90\",\n",
    "    \"bps_cum_per90\",\n",
    "    \"clean_sheets_cum_per90\",\n",
    "    \"goals_conceded_cum_per90\",\n",
    "    \"goals_scored_cum_per90\",\n",
    "    \"saves_cum_per90\",\n",
    "    \"total_points_cum_per90\",\n",
    "    # Use to get team values\n",
    "    \"team_x_next\",\n",
    "    \"opp_team_name_next\",\n",
    "    \"kickoff_time_next\",\n",
    "    \"kickoff_time\",\n",
    "    \"season_x\",\n",
    "    \"was_home_next\",\n",
    "    \"GW_next\",  # ??\n",
    "    \"GW\",\n",
    "    # y predict\n",
    "    \"upcoming_total_points\",\n",
    "]\n",
    "\n",
    "drop_cols = [\n",
    "    \"team_x_next\",\n",
    "    \"opp_team_name_next\",\n",
    "    \"kickoff_time_next\",\n",
    "    \"kickoff_time\",\n",
    "    \"kickoff_time_opp\",\n",
    "    \"season_x\",\n",
    "    \"team_x\",\n",
    "    \"GW\",\n",
    "    \"GW_next\",\n",
    "    \"kickoff_time_opp\",\n",
    "]\n",
    "\n",
    "top_features = [\n",
    "    \"form\",\n",
    "    \"bps_last_4\",\n",
    "    \"total_points_last_4\",\n",
    "    \"ict_index\",\n",
    "    \"influence\",\n",
    "    \"total_points_cum\",\n",
    "    \"upcoming_total_points\",\n",
    "    \"bps_cum\",\n",
    "    \"bps_cum_per90\",\n",
    "    \"minutes_cum\",\n",
    "    \"clean_sheets_last_4\",\n",
    "    \"goals_conceded_last_4\",\n",
    "    \"clean_sheets_cum\",\n",
    "    \"total_points_cum_per90\",\n",
    "    \"bonus_cum\",\n",
    "    \"creativity\",\n",
    "    \"clean_sheets_cum_per90\",\n",
    "    \"threat\",\n",
    "    \"value\",\n",
    "    \"goals_conceded_cum\",\n",
    "    \"bonus_last_4\",\n",
    "]\n",
    "\n",
    "target_col = \"upcoming_total_points\"\n",
    "\n",
    "best_params = {\n",
    "    \"n_layers\": 4,\n",
    "    \"n_units_l0\": 510,\n",
    "    \"n_units_l1\": 241,\n",
    "    \"n_units_l2\": 222,\n",
    "    \"dropout_rate\": 0.281975287168578,\n",
    "    \"lr\": 0.00019165928146882533,\n",
    "}\n",
    "\n",
    "\n",
    "def teams_in_group(g):\n",
    "    return set(g[\"opp_team_name\"].dropna().astype(str).unique())\n",
    "\n",
    "\n",
    "def populate_team_x(df):\n",
    "    # Populating team_x for missing rows\n",
    "    df_copy = df.copy()\n",
    "\n",
    "    # force keys to be strings to make sure datatypes are compatible when joining\n",
    "    for c in [\"season_x\", \"GW\", \"fixture\"]:\n",
    "        df_copy[c] = df_copy[c].astype(str)\n",
    "\n",
    "    fixture_teams = (\n",
    "        df_copy.groupby([\"season_x\", \"GW\", \"fixture\"])\n",
    "        # FIX: Added include_groups=False to silence the DeprecationWarning\n",
    "        .apply(teams_in_group, include_groups=False)\n",
    "        .reset_index(name=\"teams\")\n",
    "    )\n",
    "\n",
    "    # Keep only fixtures with exactly 2 distinct teams\n",
    "    fixture_teams = fixture_teams[fixture_teams[\"teams\"].apply(lambda s: len(s) == 2)]\n",
    "\n",
    "    fixture_teams[[\"team_a\", \"team_b\"]] = fixture_teams[\"teams\"].apply(\n",
    "        lambda s: pd.Series(sorted(list(s)))\n",
    "    )\n",
    "\n",
    "    df_merged = df_copy.merge(\n",
    "        fixture_teams[[\"season_x\", \"GW\", \"fixture\", \"team_a\", \"team_b\"]],\n",
    "        on=[\"season_x\", \"GW\", \"fixture\"],\n",
    "        how=\"left\",\n",
    "    )\n",
    "\n",
    "    # mask to manage only rows who have team_x as null\n",
    "    mask_null_teamx = df_merged[\"team_x\"].isna() & df_merged[\"team_a\"].notna()\n",
    "\n",
    "    # FIX: Initialize the column with a string-compatible dtype ('object')\n",
    "    # to silence the FutureWarning when assigning team names (strings) later.\n",
    "    df_merged[\"team_x_inferred\"] = np.nan\n",
    "    df_merged[\"team_x_inferred\"] = df_merged[\"team_x_inferred\"].astype(\"object\")\n",
    "\n",
    "    # where opponent == team_a -> set to team_b\n",
    "    mask_a = mask_null_teamx & (\n",
    "        df_merged[\"opp_team_name\"].astype(str) == df_merged[\"team_a\"]\n",
    "    )\n",
    "    df_merged.loc[mask_a, \"team_x_inferred\"] = df_merged.loc[mask_a, \"team_b\"]\n",
    "\n",
    "    # where opponent == team_b -> set to team_a\n",
    "    mask_b = mask_null_teamx & (\n",
    "        df_merged[\"opp_team_name\"].astype(str) == df_merged[\"team_b\"]\n",
    "    )\n",
    "    df_merged.loc[mask_b, \"team_x_inferred\"] = df_merged.loc[mask_b, \"team_a\"]\n",
    "\n",
    "    df_merged[\"team_x_filled\"] = df_merged[\"team_x\"].fillna(\n",
    "        df_merged[\"team_x_inferred\"]\n",
    "    )\n",
    "\n",
    "    df_result = df.copy()\n",
    "    # replace nulls in original team_x with filled values\n",
    "    df_result[\"team_x\"] = df_result[\"team_x\"].fillna(df_merged[\"team_x_filled\"])\n",
    "\n",
    "    return df\n",
    "\n",
    "\n",
    "def apply_position_updates(df, updates):\n",
    "    df_temp = df.copy()\n",
    "    for update in updates:\n",
    "        condition = df[\"name\"].isin(update[\"names\"]) & df[\"season_x\"].isin(\n",
    "            update[\"seasons\"]\n",
    "        )\n",
    "        df_temp.loc[condition, \"position\"] = update[\"position\"]\n",
    "    return df_temp\n",
    "\n",
    "\n",
    "def add_team_scores(df: pd.DataFrame) -> pd.DataFrame:\n",
    "    df = df.copy()\n",
    "\n",
    "    df[\"team_score\"] = np.where(df[\"was_home\"], df[\"team_h_score\"], df[\"team_a_score\"])\n",
    "    df[\"opponent_score\"] = np.where(\n",
    "        df[\"was_home\"], df[\"team_a_score\"], df[\"team_h_score\"]\n",
    "    )\n",
    "\n",
    "    return df\n",
    "\n",
    "\n",
    "def calculate_form(group):\n",
    "    # Aggregate per GW (combine DGWs)\n",
    "    gw_points = group.groupby(\"GW\", as_index=False)[\"total_points\"].sum()\n",
    "\n",
    "    # Compute rolling sum of last 4 GWs (excluding current GW)\n",
    "    gw_points[\"form\"] = (\n",
    "        gw_points[\"total_points\"]\n",
    "        # .shift(1)  # exclude current GW\n",
    "        .rolling(window=4, min_periods=1)  # use up to 4 previous GWs\n",
    "        .sum()\n",
    "        .fillna(0)\n",
    "        / 10  # scale like FPL (divided by 10)\n",
    "    )\n",
    "\n",
    "    # Merge back so both DGW rows share same form\n",
    "    return group.merge(gw_points[[\"GW\", \"form\"]], on=\"GW\", how=\"left\")\n",
    "\n",
    "\n",
    "def get_teams_data(df):\n",
    "    # Step A: Isolate team-match data and remove duplicates, include kickoff_time\n",
    "    team_match_data = (\n",
    "        df[[\"season_x\", \"team_x\", \"GW\", \"kickoff_time\", \"team_score\", \"opponent_score\"]]\n",
    "        .drop_duplicates()\n",
    "        .copy()\n",
    "    )\n",
    "\n",
    "    # Step B: Sort values to ensure correct cumulative/rolling calculation order\n",
    "    team_match_data = team_match_data.sort_values(\n",
    "        by=[\"season_x\", \"team_x\", \"kickoff_time\", \"GW\"]\n",
    "    )\n",
    "\n",
    "    # Step C: Determine win, loss, or draw for each individual match\n",
    "    conditions = [\n",
    "        team_match_data[\"team_score\"] > team_match_data[\"opponent_score\"],\n",
    "        team_match_data[\"team_score\"] < team_match_data[\"opponent_score\"],\n",
    "        team_match_data[\"team_score\"] == team_match_data[\"opponent_score\"],\n",
    "    ]\n",
    "    team_match_data[\"win\"] = np.select(conditions, [1, 0, 0], default=0)\n",
    "    team_match_data[\"loss\"] = np.select(conditions, [0, 1, 0], default=0)\n",
    "    team_match_data[\"draw\"] = np.select(conditions, [0, 0, 1], default=0)\n",
    "\n",
    "    # --- Create the final DataFrame, starting with the base data ---\n",
    "    teams_df = team_match_data.copy()\n",
    "\n",
    "    # Step D: Calculate Cumulative Stats\n",
    "    cols_to_sum = [\"team_score\", \"opponent_score\", \"win\", \"loss\", \"draw\"]\n",
    "    cumulative_cols = [f\"cumulative_{col}\" for col in cols_to_sum]\n",
    "    teams_df[cumulative_cols] = teams_df.groupby([\"season_x\", \"team_x\"])[\n",
    "        cols_to_sum\n",
    "    ].cumsum()\n",
    "\n",
    "    # --- NEW STEP D.5: Identify which teams are active in each season ---\n",
    "    active_teams_index = (\n",
    "        df.dropna(subset=[\"team_score\", \"opponent_score\"])\n",
    "        .set_index([\"season_x\", \"team_x\"])\n",
    "        .index.unique()\n",
    "    )\n",
    "    teams_df[\"is_active\"] = teams_df.set_index([\"season_x\", \"team_x\"]).index.isin(\n",
    "        active_teams_index\n",
    "    )\n",
    "\n",
    "    # --- MODIFIED STEP E: Calculate Ranks for Active Teams Only ---\n",
    "    rank_cols = []\n",
    "\n",
    "    # Rank \"good\" stats: higher is better (wins, goals scored)\n",
    "    for col in [\"cumulative_team_score\", \"cumulative_win\"]:\n",
    "        rank_col_name = f\"{col}_rank\"\n",
    "        temp_col = teams_df[col].where(teams_df[\"is_active\"], -np.inf)\n",
    "        ranks = temp_col.groupby([teams_df[\"season_x\"], teams_df[\"GW\"]]).rank(\n",
    "            method=\"min\", ascending=False\n",
    "        )\n",
    "        teams_df[rank_col_name] = ranks.where(teams_df[\"is_active\"])\n",
    "        rank_cols.append(rank_col_name)\n",
    "\n",
    "    # Rank \"bad\" stats: lower is better (losses, goals conceded)\n",
    "    for col in [\"cumulative_opponent_score\", \"cumulative_loss\", \"cumulative_draw\"]:\n",
    "        rank_col_name = f\"{col}_rank\"\n",
    "        temp_col = teams_df[col].where(teams_df[\"is_active\"], np.inf)\n",
    "        ranks = temp_col.groupby([teams_df[\"season_x\"], teams_df[\"GW\"]]).rank(\n",
    "            method=\"min\", ascending=True\n",
    "        )\n",
    "        teams_df[rank_col_name] = ranks.where(teams_df[\"is_active\"])\n",
    "        rank_cols.append(rank_col_name)\n",
    "\n",
    "    # Drop helper column\n",
    "    teams_df = teams_df.drop(columns=[\"is_active\"])\n",
    "\n",
    "    # Step F: Calculate Rolling Averages (Form over last last_number_gws GWs)\n",
    "    rolling_avg_cols = []\n",
    "    cols_for_rolling = [\"team_score\", \"opponent_score\", \"win\", \"loss\", \"draw\"]\n",
    "    for col in cols_for_rolling:\n",
    "        avg_col_name = f\"avg_{col}_last_{last_number_gws}\"\n",
    "        teams_df[avg_col_name] = teams_df.groupby([\"season_x\", \"team_x\"])[\n",
    "            col\n",
    "        ].transform(\n",
    "            lambda x: x.shift(1).rolling(window=last_number_gws, min_periods=1).mean()\n",
    "        )\n",
    "        rolling_avg_cols.append(avg_col_name)\n",
    "\n",
    "    # --- 3. Final Cleanup and Display ---\n",
    "    teams_df = teams_df.rename(\n",
    "        columns={\n",
    "            \"cumulative_team_score\": \"cumulative_goals_scored\",\n",
    "            \"cumulative_opponent_score\": \"cumulative_goals_conceded\",\n",
    "            \"cumulative_win\": \"cumulative_wins\",\n",
    "            \"cumulative_loss\": \"cumulative_losses\",\n",
    "            \"cumulative_draw\": \"cumulative_draws\",\n",
    "        }\n",
    "    )\n",
    "\n",
    "    # Ensure ranks don’t exceed 20, and fill rolling averages\n",
    "    teams_df[rank_cols] = teams_df[rank_cols].clip(upper=20)\n",
    "    teams_df[rolling_avg_cols] = teams_df[rolling_avg_cols].fillna(0.0)\n",
    "\n",
    "    return teams_df\n",
    "\n",
    "\n",
    "def add_columns(\n",
    "    df,\n",
    "    cumulative_cols,\n",
    "    rolling_cols,\n",
    "    per_90_columns,\n",
    "    last_number_gws,\n",
    "    minimum_90_minutes,\n",
    "):\n",
    "    # Make a copy of the original DataFrame to avoid modifying it directly\n",
    "    df_temp = df.copy()\n",
    "\n",
    "    # Sort the data by season, player (element), and gameweek to ensure proper cumulative/rolling order\n",
    "    df_temp = df_temp.sort_values([\"season_x\", \"element\", \"GW\"])\n",
    "\n",
    "    # --- 1️⃣ Cumulative feature computation ---\n",
    "    # Compute cumulative sums for all columns in `cumulative_cols` within each player-season group\n",
    "    df_temp[[f\"{c}_cum\" for c in cumulative_cols]] = df_temp.groupby(\n",
    "        [\"season_x\", \"element\"], group_keys=False\n",
    "    )[cumulative_cols].cumsum()\n",
    "\n",
    "    # --- 2️⃣ Rolling (last N gameweeks) feature computation ---\n",
    "    # For each player-season group, calculate rolling sums over the last `last_number_gws` gameweeks\n",
    "    df_temp[[f\"{c}_last_{last_number_gws}\" for c in rolling_cols]] = (\n",
    "        df_temp.groupby([\"season_x\", \"element\"], group_keys=False)[rolling_cols]\n",
    "        # Apply a rolling window of `last_number_gws` size with at least 1 valid entry\n",
    "        .rolling(window=last_number_gws, min_periods=1)\n",
    "        # Sum values within each rolling window\n",
    "        .sum()\n",
    "        # Drop the extra multi-index created by groupby + rolling\n",
    "        .reset_index(level=[0, 1], drop=True)\n",
    "    )\n",
    "\n",
    "    # --- 3️⃣ Per-90 stats with a capped denominator ---\n",
    "    # For selected columns, compute per-90-minute values, capping low minute totals to avoid inflation\n",
    "    for c in per_90_columns:\n",
    "        df_temp[f\"{c}_cum_per90\"] = (\n",
    "            # Divide cumulative value by cumulative minutes (clipped to at least `minimum_90_minutes`)\n",
    "            df_temp[f\"{c}_cum\"]\n",
    "            / df_temp[\"minutes_cum\"].clip(lower=minimum_90_minutes)\n",
    "            # Scale to a per-90-minute rate\n",
    "            * 90\n",
    "        )\n",
    "\n",
    "    # Return the transformed DataFrame with cumulative, rolling, and per-90 features\n",
    "    return df_temp\n",
    "\n",
    "\n",
    "def shift_columns(df, columns_to_shift):\n",
    "    df_temp = df.copy()\n",
    "    df_temp = df_temp.sort_values([\"season_x\", \"element\", \"GW\"])\n",
    "\n",
    "    df_temp[[f\"{col}_next\" for col in columns_to_shift]] = df_temp.groupby(\n",
    "        [\"season_x\", \"element\"], group_keys=False\n",
    "    )[columns_to_shift].shift(-1)  # shift up by 1 row\n",
    "\n",
    "    return df_temp\n",
    "\n",
    "\n",
    "def prepare_data(\n",
    "    path: Path = Path(path_global),\n",
    "    split_scale: bool = True,\n",
    "    top_features=top_features,\n",
    "    is_drop_columns=False,\n",
    ") -> pd.DataFrame:\n",
    "    df = pd.read_csv(path)\n",
    "\n",
    "    # ------ Data Cleaning ------\n",
    "    # Impute missing team_x values\n",
    "    df = populate_team_x(df)\n",
    "\n",
    "    # Convert GKP to GK for consistency\n",
    "    df[\"position\"] = df[\"position\"].replace({\"GKP\": \"GK\"})\n",
    "\n",
    "    # Handle Minimum Number of GWS\n",
    "    df = df[\n",
    "        df.groupby([\"season_x\", \"element\"])[\"element\"].transform(\"size\") >= minimum_gws\n",
    "    ]\n",
    "\n",
    "    df_positions = apply_position_updates(df, position_updates)\n",
    "    df = df_positions.copy()\n",
    "\n",
    "    df.sort_values(by=[\"season_x\", \"element\", \"kickoff_time\"], inplace=True)\n",
    "    df[\"upcoming_total_points\"] = df.groupby([\"season_x\", \"element\"])[\n",
    "        \"total_points\"\n",
    "    ].shift(-1)\n",
    "    mask_gw_38 = df[\"GW\"] == 38\n",
    "    df.loc[mask_gw_38, \"upcoming_total_points\"] = df.loc[mask_gw_38, \"total_points\"]\n",
    "\n",
    "    df = add_team_scores(df)\n",
    "\n",
    "    form_df = df.copy()\n",
    "\n",
    "    form_df = form_df.sort_values(\n",
    "        by=[\"season_x\", \"element\", \"GW\", \"kickoff_time\"]\n",
    "    ).reset_index(drop=True)\n",
    "\n",
    "    # Apply to each player (element) per season\n",
    "    form_df = form_df.groupby([\"season_x\", \"element\"], group_keys=False).apply(\n",
    "        calculate_form\n",
    "    )\n",
    "\n",
    "    # Optional: fill NaN (shouldn’t appear except for first GW)\n",
    "    form_df[\"form\"] = form_df[\"form\"].fillna(0)\n",
    "\n",
    "    df = form_df.copy()\n",
    "\n",
    "    teams_df = get_teams_data(df)\n",
    "\n",
    "    df_addcolumns = add_columns(\n",
    "        df,\n",
    "        cumulative_columns,\n",
    "        rolling_columns,\n",
    "        per_90_columns,\n",
    "        last_number_gws,\n",
    "        minimum_90_minutes,\n",
    "    )\n",
    "\n",
    "    df = df_addcolumns.copy()\n",
    "\n",
    "    df_shiftcolumns = shift_columns(df, columns_to_shift)\n",
    "    df = df_shiftcolumns.copy()\n",
    "\n",
    "    # One-Hot Encoding for position\n",
    "    df = pd.get_dummies(df, columns=[\"position\"], prefix=\"position\")\n",
    "\n",
    "    # Removes rows where 'GW_next' is NaN (rows that are at GW38 therefore no GW39 to predict)\n",
    "    df = df.dropna(subset=[\"GW_next\"])\n",
    "\n",
    "    # Merge with team stats\n",
    "    joined_df = df.merge(\n",
    "        teams_df,\n",
    "        how=\"left\",\n",
    "        left_on=[\"season_x\", \"kickoff_time\", \"team_x_next\"],\n",
    "        right_on=[\"season_x\", \"kickoff_time\", \"team_x\"],\n",
    "        suffixes=(\"\", \"_team\"),\n",
    "    )\n",
    "\n",
    "    # Drop redundant columns (avoid duplicate GW/team_x columns)\n",
    "    joined_df = joined_df.drop(\n",
    "        columns=[\"GW_team\", \"team_x_team\", \"GW_opp\", \"team_x_opp\"], errors=\"ignore\"\n",
    "    )\n",
    "\n",
    "    # Rename team columns to make it different than player stats\n",
    "    new_team_column_names = {\n",
    "        col: f\"team_{col}\"\n",
    "        for col in teams_df.columns\n",
    "        if col not in [\"season_x\", \"team_x\", \"GW\", \"kickoff_time\"]\n",
    "    }\n",
    "    joined_df = joined_df.rename(columns=new_team_column_names)\n",
    "\n",
    "    df = joined_df.copy()\n",
    "\n",
    "    # label encode was_home_next\n",
    "    df[\"was_home_next\"] = (\n",
    "        df[\"was_home_next\"].map({\"True\": 1, \"False\": 0, True: 1, False: 0}).fillna(0)\n",
    "    )\n",
    "\n",
    "    # Convert all boolean columns to 0/1\n",
    "    bool_cols = df.select_dtypes(include=[\"bool\"]).columns\n",
    "    df[bool_cols] = df[bool_cols].astype(int)\n",
    "\n",
    "    if is_drop_columns:\n",
    "        df = df.drop(columns=drop_cols, errors=\"ignore\")\n",
    "\n",
    "    df = df.dropna()\n",
    "\n",
    "    if not split_scale:\n",
    "        if top_features is not None:\n",
    "            return df[top_features]\n",
    "        else:\n",
    "            return df\n",
    "\n",
    "    X = df.drop(columns=[target_col])\n",
    "    y = df[target_col]\n",
    "\n",
    "    # Standardize (important for some methods)\n",
    "    scaler = StandardScaler()\n",
    "    X_scaled = scaler.fit_transform(X)\n",
    "    X_scaled = pd.DataFrame(X_scaled, columns=X.columns)\n",
    "\n",
    "    corr = df.corr()[target_col].sort_values(ascending=False)\n",
    "\n",
    "    # 3. UNIVARIATE FEATURE SELECTION (F-test)\n",
    "    selector = SelectKBest(score_func=f_regression, k=20)\n",
    "    selector.fit(X_scaled, y)\n",
    "    scores = pd.Series(selector.scores_, index=X.columns).sort_values(ascending=False)\n",
    "\n",
    "    # 4. CONSOLIDATE RESULTS\n",
    "    results = pd.DataFrame(\n",
    "        {\n",
    "            \"Correlation\": corr,\n",
    "            \"F_test\": scores,\n",
    "        }\n",
    "    ).fillna(0)\n",
    "\n",
    "    # Normalize scores to compare\n",
    "    results = results.apply(lambda x: (x - x.min()) / (x.max() - x.min()))\n",
    "    results[\"Combined_Score\"] = results.mean(axis=1)\n",
    "    results = results.sort_values(\"Combined_Score\", ascending=False)\n",
    "\n",
    "    # 5. SELECT TOP FEATURES AND CREATE NEW DF\n",
    "    top_features = results.head(21).index.tolist()  # select top 20\n",
    "    df_selected = df[top_features]\n",
    "\n",
    "    df = df_selected.copy()\n",
    "\n",
    "    return df"
   ]
  },
  {
   "cell_type": "code",
   "execution_count": null,
   "id": "2c5e33ff",
   "metadata": {
    "execution": {
     "iopub.execute_input": "2025-10-23T23:29:07.846634Z",
     "iopub.status.busy": "2025-10-23T23:29:07.846068Z",
     "iopub.status.idle": "2025-10-23T23:29:22.237649Z",
     "shell.execute_reply": "2025-10-23T23:29:22.236415Z"
    },
    "papermill": {
     "duration": 14.457926,
     "end_time": "2025-10-23T23:29:22.239674",
     "exception": false,
     "start_time": "2025-10-23T23:29:07.781748",
     "status": "completed"
    },
    "tags": []
   },
   "outputs": [],
   "source": [
    "df_compare = prepare_data(path=path_global, split_scale=False)"
   ]
  },
  {
   "cell_type": "code",
   "execution_count": null,
   "id": "33ba4419",
   "metadata": {
    "execution": {
     "iopub.execute_input": "2025-10-23T23:29:22.375555Z",
     "iopub.status.busy": "2025-10-23T23:29:22.375237Z",
     "iopub.status.idle": "2025-10-23T23:29:22.399851Z",
     "shell.execute_reply": "2025-10-23T23:29:22.398799Z"
    },
    "papermill": {
     "duration": 0.091813,
     "end_time": "2025-10-23T23:29:22.401505",
     "exception": false,
     "start_time": "2025-10-23T23:29:22.309692",
     "status": "completed"
    },
    "tags": []
   },
   "outputs": [],
   "source": [
    "for column in df_compare.columns:\n",
    "    mask = df_compare[column] != df[column]\n",
    "    different_rows = df.loc[\n",
    "        mask\n",
    "    ]  # or df_compare.loc[mask], depending on which you want to see\n",
    "    if len(different_rows) > 0:\n",
    "        print(different_rows)"
   ]
  },
  {
   "cell_type": "markdown",
   "id": "2efac5d8",
   "metadata": {
    "papermill": {
     "duration": 0.061784,
     "end_time": "2025-10-23T23:29:22.527564",
     "exception": false,
     "start_time": "2025-10-23T23:29:22.465780",
     "status": "completed"
    },
    "tags": []
   },
   "source": [
    "# Feature Selection\n"
   ]
  },
  {
   "cell_type": "code",
   "execution_count": null,
   "id": "7757202d",
   "metadata": {
    "execution": {
     "iopub.execute_input": "2025-10-23T23:29:22.656549Z",
     "iopub.status.busy": "2025-10-23T23:29:22.656238Z",
     "iopub.status.idle": "2025-10-23T23:29:22.683277Z",
     "shell.execute_reply": "2025-10-23T23:29:22.681910Z"
    },
    "papermill": {
     "duration": 0.09217,
     "end_time": "2025-10-23T23:29:22.684909",
     "exception": false,
     "start_time": "2025-10-23T23:29:22.592739",
     "status": "completed"
    },
    "tags": []
   },
   "outputs": [],
   "source": [
    "df.info()"
   ]
  },
  {
   "cell_type": "code",
   "execution_count": null,
   "id": "aacfc249",
   "metadata": {
    "execution": {
     "iopub.execute_input": "2025-10-23T23:29:22.813081Z",
     "iopub.status.busy": "2025-10-23T23:29:22.812626Z",
     "iopub.status.idle": "2025-10-23T23:29:22.817183Z",
     "shell.execute_reply": "2025-10-23T23:29:22.816217Z"
    },
    "papermill": {
     "duration": 0.070881,
     "end_time": "2025-10-23T23:29:22.818936",
     "exception": false,
     "start_time": "2025-10-23T23:29:22.748055",
     "status": "completed"
    },
    "tags": []
   },
   "outputs": [],
   "source": [
    "n_features = 21  # (20 features + y predict)"
   ]
  },
  {
   "cell_type": "markdown",
   "id": "c2b29f19",
   "metadata": {
    "papermill": {
     "duration": 0.063218,
     "end_time": "2025-10-23T23:29:22.947060",
     "exception": false,
     "start_time": "2025-10-23T23:29:22.883842",
     "status": "completed"
    },
    "tags": []
   },
   "source": [
    "`n_features` was decided upon iterative function -> check `auto_feature_selection_fn.txt`\n"
   ]
  },
  {
   "cell_type": "code",
   "execution_count": null,
   "id": "28080dcf",
   "metadata": {
    "execution": {
     "iopub.execute_input": "2025-10-23T23:29:23.076319Z",
     "iopub.status.busy": "2025-10-23T23:29:23.075932Z",
     "iopub.status.idle": "2025-10-23T23:29:25.401838Z",
     "shell.execute_reply": "2025-10-23T23:29:25.400415Z"
    },
    "papermill": {
     "duration": 2.391573,
     "end_time": "2025-10-23T23:29:25.403659",
     "exception": false,
     "start_time": "2025-10-23T23:29:23.012086",
     "status": "completed"
    },
    "tags": []
   },
   "outputs": [],
   "source": [
    "from sklearn.feature_selection import SelectKBest, f_regression, mutual_info_regression\n",
    "from sklearn.ensemble import RandomForestRegressor\n",
    "from sklearn.preprocessing import StandardScaler\n",
    "\n",
    "# ==========================================\n",
    "# 1. DATA PREPARATION\n",
    "# ==========================================\n",
    "target_col = \"upcoming_total_points\"\n",
    "\n",
    "X = df.drop(columns=[target_col])\n",
    "y = df[target_col]\n",
    "\n",
    "# Standardize (important for some methods)\n",
    "scaler = StandardScaler()\n",
    "X_scaled = scaler.fit_transform(X)\n",
    "X_scaled = pd.DataFrame(X_scaled, columns=X.columns)\n",
    "\n",
    "# ==========================================\n",
    "# 2. CORRELATION ANALYSIS\n",
    "# ==========================================\n",
    "corr = df.corr()[target_col].sort_values(ascending=False)\n",
    "plt.figure(figsize=(6, 12))\n",
    "sns.barplot(x=corr.values[:20], y=corr.index[:20], palette=\"viridis\")\n",
    "plt.title(\"Top 20 Features by Pearson Correlation with Target\")\n",
    "plt.xlabel(\"Correlation Coefficient\")\n",
    "plt.tight_layout()\n",
    "plt.show()\n",
    "\n",
    "print(\"\\nTop correlated features:\")\n",
    "print(corr.head(10))\n",
    "\n",
    "# ==========================================\n",
    "# 3. UNIVARIATE FEATURE SELECTION (F-test)\n",
    "# ==========================================\n",
    "selector = SelectKBest(score_func=f_regression, k=20)\n",
    "selector.fit(X_scaled, y)\n",
    "scores = pd.Series(selector.scores_, index=X.columns).sort_values(ascending=False)\n",
    "\n",
    "plt.figure(figsize=(6, 12))\n",
    "sns.barplot(x=scores.values[:20], y=scores.index[:20], palette=\"magma\")\n",
    "plt.title(\"Top 20 Features by F-test (Linear Relationship)\")\n",
    "plt.xlabel(\"F-score\")\n",
    "plt.tight_layout()\n",
    "plt.show()\n",
    "\n",
    "print(\"\\nTop F-test features:\")\n",
    "print(scores.head(10))\n",
    "\n",
    "# ==========================================\n",
    "# 4. CONSOLIDATE RESULTS\n",
    "# ==========================================\n",
    "results = pd.DataFrame(\n",
    "    {\n",
    "        \"Correlation\": corr,\n",
    "        \"F_test\": scores,\n",
    "    }\n",
    ").fillna(0)\n",
    "\n",
    "# Normalize scores to compare\n",
    "results = results.apply(lambda x: (x - x.min()) / (x.max() - x.min()))\n",
    "results[\"Combined_Score\"] = results.mean(axis=1)\n",
    "results = results.sort_values(\"Combined_Score\", ascending=False)\n",
    "\n",
    "plt.figure(figsize=(7, 12))\n",
    "sns.barplot(x=results[\"Combined_Score\"][:20], y=results.index[:20], palette=\"plasma\")\n",
    "plt.title(\"Top 20 Features (Combined Importance Score)\")\n",
    "plt.xlabel(\"Normalized Importance\")\n",
    "plt.tight_layout()\n",
    "plt.show()\n",
    "\n",
    "print(\"\\n===== Top Features (Combined Score) =====\")\n",
    "print(results.head(n_features))\n",
    "\n",
    "# ==========================================\n",
    "# 5. SELECT TOP FEATURES AND CREATE NEW DF\n",
    "# ==========================================\n",
    "top_features = results.head(n_features).index.tolist()  # select top 20\n",
    "df_selected = df[top_features]\n",
    "\n",
    "print(f\"\\n✅ df_selected created with {len(top_features)} features + target column.\")\n",
    "print(f\"Shape: {df_selected.shape}\")\n",
    "print(\"Selected features:\")\n",
    "print(top_features)\n",
    "df_selected.head()"
   ]
  },
  {
   "cell_type": "code",
   "execution_count": null,
   "id": "bd6ace4d",
   "metadata": {
    "execution": {
     "iopub.execute_input": "2025-10-23T23:29:25.544458Z",
     "iopub.status.busy": "2025-10-23T23:29:25.544159Z",
     "iopub.status.idle": "2025-10-23T23:29:25.569182Z",
     "shell.execute_reply": "2025-10-23T23:29:25.567863Z"
    },
    "papermill": {
     "duration": 0.097071,
     "end_time": "2025-10-23T23:29:25.570873",
     "exception": false,
     "start_time": "2025-10-23T23:29:25.473802",
     "status": "completed"
    },
    "tags": []
   },
   "outputs": [],
   "source": [
    "df = df_selected.copy()\n",
    "print(df.shape)\n",
    "df.head()"
   ]
  },
  {
   "cell_type": "code",
   "execution_count": null,
   "id": "cce671a9",
   "metadata": {
    "execution": {
     "iopub.execute_input": "2025-10-23T23:29:25.711934Z",
     "iopub.status.busy": "2025-10-23T23:29:25.711510Z",
     "iopub.status.idle": "2025-10-23T23:29:25.728202Z",
     "shell.execute_reply": "2025-10-23T23:29:25.726864Z"
    },
    "papermill": {
     "duration": 0.088034,
     "end_time": "2025-10-23T23:29:25.729796",
     "exception": false,
     "start_time": "2025-10-23T23:29:25.641762",
     "status": "completed"
    },
    "tags": []
   },
   "outputs": [],
   "source": [
    "df.info()"
   ]
  },
  {
   "cell_type": "markdown",
   "id": "531ea7d5",
   "metadata": {
    "papermill": {
     "duration": 0.068493,
     "end_time": "2025-10-23T23:29:25.868757",
     "exception": false,
     "start_time": "2025-10-23T23:29:25.800264",
     "status": "completed"
    },
    "tags": []
   },
   "source": [
    "# Full EDA after preprocessing\n"
   ]
  },
  {
   "cell_type": "code",
   "execution_count": null,
   "id": "359725f7",
   "metadata": {
    "execution": {
     "iopub.execute_input": "2025-10-23T23:29:26.012107Z",
     "iopub.status.busy": "2025-10-23T23:29:26.011620Z",
     "iopub.status.idle": "2025-10-23T23:29:35.952302Z",
     "shell.execute_reply": "2025-10-23T23:29:35.951358Z"
    },
    "papermill": {
     "duration": 10.018276,
     "end_time": "2025-10-23T23:29:35.956404",
     "exception": false,
     "start_time": "2025-10-23T23:29:25.938128",
     "status": "completed"
    },
    "tags": []
   },
   "outputs": [],
   "source": [
    "full_eda(df)"
   ]
  },
  {
   "cell_type": "markdown",
   "id": "c92364e2",
   "metadata": {
    "papermill": {
     "duration": 0.089514,
     "end_time": "2025-10-23T23:29:36.138241",
     "exception": false,
     "start_time": "2025-10-23T23:29:36.048727",
     "status": "completed"
    },
    "tags": []
   },
   "source": [
    "# Training the FFNN Model\n"
   ]
  },
  {
   "cell_type": "code",
   "execution_count": null,
   "id": "df56d7ad",
   "metadata": {
    "execution": {
     "iopub.execute_input": "2025-10-23T23:29:36.318215Z",
     "iopub.status.busy": "2025-10-23T23:29:36.317185Z",
     "iopub.status.idle": "2025-10-23T23:29:36.322756Z",
     "shell.execute_reply": "2025-10-23T23:29:36.321702Z"
    },
    "papermill": {
     "duration": 0.097347,
     "end_time": "2025-10-23T23:29:36.324496",
     "exception": false,
     "start_time": "2025-10-23T23:29:36.227149",
     "status": "completed"
    },
    "tags": []
   },
   "outputs": [],
   "source": [
    "from sklearn.model_selection import train_test_split\n",
    "from sklearn.preprocessing import StandardScaler\n",
    "import torch\n",
    "import torch.nn as nn\n",
    "from torch.utils.data import DataLoader, TensorDataset"
   ]
  },
  {
   "cell_type": "code",
   "execution_count": null,
   "id": "915bb6f7",
   "metadata": {
    "execution": {
     "iopub.execute_input": "2025-10-23T23:29:36.504421Z",
     "iopub.status.busy": "2025-10-23T23:29:36.504126Z",
     "iopub.status.idle": "2025-10-23T23:29:36.514954Z",
     "shell.execute_reply": "2025-10-23T23:29:36.513839Z"
    },
    "papermill": {
     "duration": 0.103367,
     "end_time": "2025-10-23T23:29:36.516679",
     "exception": false,
     "start_time": "2025-10-23T23:29:36.413312",
     "status": "completed"
    },
    "tags": []
   },
   "outputs": [],
   "source": [
    "# separate features & target\n",
    "y = df[\"upcoming_total_points\"].values\n",
    "X_temp = df.drop(columns=[\"upcoming_total_points\"])\n",
    "X_columns = X_temp.columns\n",
    "X = X_temp.values"
   ]
  },
  {
   "cell_type": "code",
   "execution_count": null,
   "id": "4788db6f",
   "metadata": {
    "execution": {
     "iopub.execute_input": "2025-10-23T23:29:36.695556Z",
     "iopub.status.busy": "2025-10-23T23:29:36.694731Z",
     "iopub.status.idle": "2025-10-23T23:29:36.719684Z",
     "shell.execute_reply": "2025-10-23T23:29:36.718813Z"
    },
    "papermill": {
     "duration": 0.116005,
     "end_time": "2025-10-23T23:29:36.721347",
     "exception": false,
     "start_time": "2025-10-23T23:29:36.605342",
     "status": "completed"
    },
    "tags": []
   },
   "outputs": [],
   "source": [
    "# Train/Test split\n",
    "X_train, X_test, y_train, y_test = train_test_split(\n",
    "    X, y, test_size=0.2, random_state=42\n",
    ")"
   ]
  },
  {
   "cell_type": "code",
   "execution_count": null,
   "id": "80120652",
   "metadata": {
    "execution": {
     "iopub.execute_input": "2025-10-23T23:29:36.901829Z",
     "iopub.status.busy": "2025-10-23T23:29:36.901501Z",
     "iopub.status.idle": "2025-10-23T23:29:36.934293Z",
     "shell.execute_reply": "2025-10-23T23:29:36.932908Z"
    },
    "papermill": {
     "duration": 0.125711,
     "end_time": "2025-10-23T23:29:36.936352",
     "exception": false,
     "start_time": "2025-10-23T23:29:36.810641",
     "status": "completed"
    },
    "tags": []
   },
   "outputs": [],
   "source": [
    "# Scale data\n",
    "scaler = StandardScaler()\n",
    "X_train = scaler.fit_transform(X_train)\n",
    "X_test = scaler.transform(X_test)"
   ]
  },
  {
   "cell_type": "code",
   "execution_count": null,
   "id": "0dc0ee09",
   "metadata": {
    "execution": {
     "iopub.execute_input": "2025-10-23T23:29:37.121289Z",
     "iopub.status.busy": "2025-10-23T23:29:37.120894Z",
     "iopub.status.idle": "2025-10-23T23:29:37.127854Z",
     "shell.execute_reply": "2025-10-23T23:29:37.126853Z"
    },
    "papermill": {
     "duration": 0.100053,
     "end_time": "2025-10-23T23:29:37.129384",
     "exception": false,
     "start_time": "2025-10-23T23:29:37.029331",
     "status": "completed"
    },
    "tags": []
   },
   "outputs": [],
   "source": [
    "import pickle\n",
    "import os\n",
    "\n",
    "# Define a file path for your scaler\n",
    "scaler_filename = \"model/ffnn_feature_scaler.pkl\"\n",
    "\n",
    "# Save the trained scaler\n",
    "with open(scaler_filename, \"wb\") as file:\n",
    "    pickle.dump(scaler, file)\n",
    "\n",
    "print(f\"Scaler saved successfully to {scaler_filename}\")"
   ]
  },
  {
   "cell_type": "code",
   "execution_count": null,
   "id": "1381d809",
   "metadata": {
    "execution": {
     "iopub.execute_input": "2025-10-23T23:29:37.309625Z",
     "iopub.status.busy": "2025-10-23T23:29:37.308175Z",
     "iopub.status.idle": "2025-10-23T23:29:37.363875Z",
     "shell.execute_reply": "2025-10-23T23:29:37.363038Z"
    },
    "papermill": {
     "duration": 0.146879,
     "end_time": "2025-10-23T23:29:37.365595",
     "exception": false,
     "start_time": "2025-10-23T23:29:37.218716",
     "status": "completed"
    },
    "tags": []
   },
   "outputs": [],
   "source": [
    "# Convert to torch tensors\n",
    "X_train_t = torch.tensor(X_train, dtype=torch.float32)\n",
    "X_test_t = torch.tensor(X_test, dtype=torch.float32)\n",
    "y_train_t = torch.tensor(y_train, dtype=torch.float32).view(-1, 1)\n",
    "y_test_t = torch.tensor(y_test, dtype=torch.float32).view(-1, 1)"
   ]
  },
  {
   "cell_type": "code",
   "execution_count": null,
   "id": "4326a70b",
   "metadata": {
    "execution": {
     "iopub.execute_input": "2025-10-23T23:29:37.545545Z",
     "iopub.status.busy": "2025-10-23T23:29:37.545201Z",
     "iopub.status.idle": "2025-10-23T23:29:37.551922Z",
     "shell.execute_reply": "2025-10-23T23:29:37.550679Z"
    },
    "papermill": {
     "duration": 0.09926,
     "end_time": "2025-10-23T23:29:37.553834",
     "exception": false,
     "start_time": "2025-10-23T23:29:37.454574",
     "status": "completed"
    },
    "tags": []
   },
   "outputs": [],
   "source": [
    "print(\"X_train_t shape:\", X_train_t.shape)\n",
    "print(\"y_train_t shape:\", y_train_t.shape)\n",
    "print(\"X_test_t shape:\", X_test_t.shape)\n",
    "print(\"y_test_t shape:\", y_test_t.shape)"
   ]
  },
  {
   "cell_type": "code",
   "execution_count": null,
   "id": "66b3bdfb",
   "metadata": {
    "execution": {
     "iopub.execute_input": "2025-10-23T23:29:37.735676Z",
     "iopub.status.busy": "2025-10-23T23:29:37.735107Z",
     "iopub.status.idle": "2025-10-23T23:29:37.743442Z",
     "shell.execute_reply": "2025-10-23T23:29:37.742368Z"
    },
    "papermill": {
     "duration": 0.100923,
     "end_time": "2025-10-23T23:29:37.745226",
     "exception": false,
     "start_time": "2025-10-23T23:29:37.644303",
     "status": "completed"
    },
    "tags": []
   },
   "outputs": [],
   "source": [
    "# Create Dataloaders\n",
    "train_data = TensorDataset(X_train_t, y_train_t)\n",
    "test_data = TensorDataset(X_test_t, y_test_t)\n",
    "train_loader = DataLoader(train_data, batch_size=64, shuffle=True)\n",
    "test_loader = DataLoader(test_data, batch_size=64, shuffle=False)"
   ]
  },
  {
   "cell_type": "code",
   "execution_count": null,
   "id": "36b96f65",
   "metadata": {
    "execution": {
     "iopub.execute_input": "2025-10-23T23:29:37.926875Z",
     "iopub.status.busy": "2025-10-23T23:29:37.926418Z",
     "iopub.status.idle": "2025-10-23T23:29:37.933357Z",
     "shell.execute_reply": "2025-10-23T23:29:37.932325Z"
    },
    "papermill": {
     "duration": 0.098689,
     "end_time": "2025-10-23T23:29:37.934798",
     "exception": false,
     "start_time": "2025-10-23T23:29:37.836109",
     "status": "completed"
    },
    "tags": []
   },
   "outputs": [],
   "source": [
    "class FFNN(nn.Module):\n",
    "    def __init__(\n",
    "        self,\n",
    "        input_dim,\n",
    "        n_layers=3,\n",
    "        n_units_l0=218,\n",
    "        n_units_l1=233,\n",
    "        n_units_l2=70,\n",
    "        dropout_rate=0.10236066118288575,\n",
    "    ):\n",
    "        super(FFNN, self).__init__()\n",
    "\n",
    "        layers = []\n",
    "        in_dim = input_dim\n",
    "        hidden_units = [n_units_l0, n_units_l1, n_units_l2][:n_layers]\n",
    "\n",
    "        for h in hidden_units:\n",
    "            layers.append(nn.Linear(in_dim, h))\n",
    "            layers.append(nn.ReLU())\n",
    "            layers.append(nn.Dropout(dropout_rate))\n",
    "            in_dim = h\n",
    "\n",
    "        layers.append(nn.Linear(in_dim, 1))  # output layer\n",
    "        self.net = nn.Sequential(*layers)\n",
    "\n",
    "    def forward(self, x):\n",
    "        return self.net(x)"
   ]
  },
  {
   "cell_type": "markdown",
   "id": "01958684",
   "metadata": {
    "papermill": {
     "duration": 0.090611,
     "end_time": "2025-10-23T23:29:38.116760",
     "exception": false,
     "start_time": "2025-10-23T23:29:38.026149",
     "status": "completed"
    },
    "tags": []
   },
   "source": [
    "We used Optuna library for HPO, it takes long time to run so it shouldn't be run every time. Here are the `best_trial` outputs:<br><br>\n",
    "Tuned HPs: {'n_layers': 4, 'n_units_l0': 510, 'n_units_l1': 241, 'n_units_l2': 222, 'n_units_l3': 296, 'dropout_rate': 0.281975287168578, 'lr': 0.00019165928146882533, 'batch_size': 32} <br>\n",
    "\n",
    "Check `optuna_train_cell.txt` for more details.\n"
   ]
  },
  {
   "cell_type": "code",
   "execution_count": null,
   "id": "7740d6c9",
   "metadata": {
    "execution": {
     "iopub.execute_input": "2025-10-23T23:29:38.296410Z",
     "iopub.status.busy": "2025-10-23T23:29:38.296071Z",
     "iopub.status.idle": "2025-10-23T23:29:44.917101Z",
     "shell.execute_reply": "2025-10-23T23:29:44.916027Z"
    },
    "papermill": {
     "duration": 6.71216,
     "end_time": "2025-10-23T23:29:44.918905",
     "exception": false,
     "start_time": "2025-10-23T23:29:38.206745",
     "status": "completed"
    },
    "tags": []
   },
   "outputs": [],
   "source": [
    "# Initialize model, loss, optimizer, batch_size\n",
    "best_params = {\n",
    "    \"n_layers\": 4,\n",
    "    \"n_units_l0\": 510,\n",
    "    \"n_units_l1\": 241,\n",
    "    \"n_units_l2\": 222,\n",
    "    \"dropout_rate\": 0.281975287168578,\n",
    "    \"lr\": 0.00019165928146882533,\n",
    "}\n",
    "\n",
    "model = FFNN(\n",
    "    input_dim=X_train.shape[1],\n",
    "    n_layers=best_params[\"n_layers\"],\n",
    "    n_units_l0=best_params[\"n_units_l0\"],\n",
    "    n_units_l1=best_params[\"n_units_l1\"],\n",
    "    n_units_l2=best_params[\"n_units_l2\"],\n",
    "    dropout_rate=best_params[\"dropout_rate\"],\n",
    ")\n",
    "\n",
    "optimizer = torch.optim.Adam(model.parameters(), lr=best_params[\"lr\"])\n",
    "criterion = nn.MSELoss()"
   ]
  },
  {
   "cell_type": "code",
   "execution_count": null,
   "id": "7a82cf1c",
   "metadata": {
    "execution": {
     "iopub.execute_input": "2025-10-23T23:29:45.098968Z",
     "iopub.status.busy": "2025-10-23T23:29:45.097824Z",
     "iopub.status.idle": "2025-10-23T23:30:30.210583Z",
     "shell.execute_reply": "2025-10-23T23:30:30.209244Z"
    },
    "papermill": {
     "duration": 45.205322,
     "end_time": "2025-10-23T23:30:30.212388",
     "exception": false,
     "start_time": "2025-10-23T23:29:45.007066",
     "status": "completed"
    },
    "tags": []
   },
   "outputs": [],
   "source": [
    "epochs = 30\n",
    "train_losses = []\n",
    "val_losses = []\n",
    "\n",
    "best_val_loss = float(\"inf\")\n",
    "patience = 5  # how many epochs to wait after no improvement\n",
    "tolerance = 0.001  # minimum improvement in val_loss to count as progress\n",
    "no_improve_count = 0\n",
    "best_model_state = None\n",
    "\n",
    "for epoch in range(epochs):\n",
    "    # ---- Training ----\n",
    "    model.train()\n",
    "    total_train_loss = 0\n",
    "    for xb, yb in train_loader:\n",
    "        optimizer.zero_grad()\n",
    "        preds = model(xb)\n",
    "        loss = criterion(preds, yb)\n",
    "        loss.backward()\n",
    "        optimizer.step()\n",
    "        total_train_loss += loss.item()\n",
    "\n",
    "    avg_train_loss = total_train_loss / len(train_loader)\n",
    "    train_losses.append(avg_train_loss)\n",
    "\n",
    "    # ---- Validation ----\n",
    "    model.eval()\n",
    "    total_val_loss = 0\n",
    "    with torch.no_grad():\n",
    "        for xb, yb in test_loader:\n",
    "            preds = model(xb)\n",
    "            loss = criterion(preds, yb)\n",
    "            total_val_loss += loss.item()\n",
    "\n",
    "    avg_val_loss = total_val_loss / len(test_loader)\n",
    "    val_losses.append(avg_val_loss)\n",
    "\n",
    "    print(\n",
    "        f\"Epoch [{epoch + 1}/{epochs}] | \"\n",
    "        f\"Train Loss: {avg_train_loss:.4f} | \"\n",
    "        f\"Val Loss: {avg_val_loss:.4f}\"\n",
    "    )\n",
    "\n",
    "    # ---- Early Stopping Logic ----\n",
    "    if best_val_loss - avg_val_loss > tolerance:\n",
    "        best_val_loss = avg_val_loss\n",
    "        best_model_state = model.state_dict()  # save best weights\n",
    "        no_improve_count = 0\n",
    "    else:\n",
    "        no_improve_count += 1\n",
    "        if no_improve_count >= patience:\n",
    "            print(\n",
    "                f\"\\nEarly stopping at epoch {epoch + 1} \"\n",
    "                f\"(no improvement in val loss for {patience} epochs).\"\n",
    "            )\n",
    "            break\n",
    "\n",
    "# ---- Load best model ----\n",
    "if best_model_state is not None:\n",
    "    model.load_state_dict(best_model_state)"
   ]
  },
  {
   "cell_type": "code",
   "execution_count": null,
   "id": "afb7efba",
   "metadata": {},
   "outputs": [],
   "source": [
    "# Save the trained model\n",
    "model_filename = \"model/ffnn_fpl_model.pth\"\n",
    "torch.save(model, model_filename)"
   ]
  },
  {
   "cell_type": "code",
   "execution_count": null,
   "id": "02c82d70",
   "metadata": {
    "execution": {
     "iopub.execute_input": "2025-10-23T23:30:30.394537Z",
     "iopub.status.busy": "2025-10-23T23:30:30.393849Z",
     "iopub.status.idle": "2025-10-23T23:30:30.713241Z",
     "shell.execute_reply": "2025-10-23T23:30:30.711952Z"
    },
    "papermill": {
     "duration": 0.410114,
     "end_time": "2025-10-23T23:30:30.715023",
     "exception": false,
     "start_time": "2025-10-23T23:30:30.304909",
     "status": "completed"
    },
    "tags": []
   },
   "outputs": [],
   "source": [
    "plt.figure(figsize=(8, 5))\n",
    "plt.plot(\n",
    "    range(1, len(train_losses) + 1), train_losses, marker=\"o\", label=\"Training Loss\"\n",
    ")\n",
    "plt.plot(range(1, len(val_losses) + 1), val_losses, marker=\"s\", label=\"Validation Loss\")\n",
    "plt.title(\"Training & Validation Loss with Early Stopping\")\n",
    "plt.xlabel(\"Epoch\")\n",
    "plt.ylabel(\"MSE Loss\")\n",
    "plt.legend()\n",
    "plt.grid(True)\n",
    "plt.show()"
   ]
  },
  {
   "cell_type": "code",
   "execution_count": null,
   "id": "5aecc940",
   "metadata": {
    "execution": {
     "iopub.execute_input": "2025-10-23T23:30:30.905211Z",
     "iopub.status.busy": "2025-10-23T23:30:30.904848Z",
     "iopub.status.idle": "2025-10-23T23:30:30.985012Z",
     "shell.execute_reply": "2025-10-23T23:30:30.983662Z"
    },
    "papermill": {
     "duration": 0.172975,
     "end_time": "2025-10-23T23:30:30.986712",
     "exception": false,
     "start_time": "2025-10-23T23:30:30.813737",
     "status": "completed"
    },
    "tags": []
   },
   "outputs": [],
   "source": [
    "from sklearn.metrics import mean_absolute_error, mean_squared_error, r2_score\n",
    "\n",
    "# Evaluate\n",
    "model.eval()\n",
    "with torch.no_grad():\n",
    "    preds = model(X_test_t)\n",
    "    preds_np = preds.cpu().numpy()\n",
    "    y_test_np = y_test_t.cpu().numpy()\n",
    "\n",
    "    # Compute metrics\n",
    "    mse = mean_squared_error(y_test_np, preds_np)\n",
    "    rmse = np.sqrt(mse)\n",
    "    mae = mean_absolute_error(y_test_np, preds_np)\n",
    "    r2 = r2_score(y_test_np, preds_np)\n",
    "\n",
    "    # Print all\n",
    "    print(\"\\nModel Evaluation Metrics:\")\n",
    "    print(f\"MAE  (Mean Absolute Error): {mae:.4f}\")\n",
    "    print(f\"MSE  (Mean Squared Error):  {mse:.4f}\")\n",
    "    print(f\"RMSE (Root MSE):            {rmse:.4f}\")\n",
    "    print(f\"R²   (R-squared):           {r2:.4f}\")\n"
   ]
  },
  {
   "cell_type": "markdown",
   "id": "580853aa",
   "metadata": {
    "papermill": {
     "duration": 0.090739,
     "end_time": "2025-10-23T23:30:31.174455",
     "exception": false,
     "start_time": "2025-10-23T23:30:31.083716",
     "status": "completed"
    },
    "tags": []
   },
   "source": [
    "# Baseline Model (LR)\n"
   ]
  },
  {
   "cell_type": "code",
   "execution_count": null,
   "id": "e49c80bc",
   "metadata": {
    "execution": {
     "iopub.execute_input": "2025-10-23T23:30:31.361470Z",
     "iopub.status.busy": "2025-10-23T23:30:31.361117Z",
     "iopub.status.idle": "2025-10-23T23:30:31.450505Z",
     "shell.execute_reply": "2025-10-23T23:30:31.447640Z"
    },
    "papermill": {
     "duration": 0.186126,
     "end_time": "2025-10-23T23:30:31.454440",
     "exception": false,
     "start_time": "2025-10-23T23:30:31.268314",
     "status": "completed"
    },
    "tags": []
   },
   "outputs": [],
   "source": [
    "from sklearn.linear_model import LinearRegression\n",
    "\n",
    "# ==========================================\n",
    "# BASELINE MODEL - LINEAR REGRESSION\n",
    "# ==========================================\n",
    "baseline_model = LinearRegression()\n",
    "\n",
    "# Train\n",
    "baseline_model.fit(X_train, y_train)\n",
    "\n",
    "# Predict\n",
    "y_pred_baseline = baseline_model.predict(X_test)\n",
    "\n",
    "# Compute metrics\n",
    "mse_b = mean_squared_error(y_test, y_pred_baseline)\n",
    "rmse_b = np.sqrt(mse_b)\n",
    "mae_b = mean_absolute_error(y_test, y_pred_baseline)\n",
    "r2_b = r2_score(y_test, y_pred_baseline)\n",
    "\n",
    "print(\"\\n===== Baseline Model Evaluation =====\")\n",
    "print(f\"MAE  (Mean Absolute Error): {mae_b:.4f}\")\n",
    "print(f\"MSE  (Mean Squared Error):  {mse_b:.4f}\")\n",
    "print(f\"RMSE (Root MSE):            {rmse_b:.4f}\")\n",
    "print(f\"R²   (R-squared):           {r2_b:.4f}\")"
   ]
  },
  {
   "cell_type": "markdown",
   "id": "cd88bf68",
   "metadata": {
    "papermill": {
     "duration": 0.089531,
     "end_time": "2025-10-23T23:30:31.680142",
     "exception": false,
     "start_time": "2025-10-23T23:30:31.590611",
     "status": "completed"
    },
    "tags": []
   },
   "source": [
    "# XAI\n"
   ]
  },
  {
   "cell_type": "code",
   "execution_count": null,
   "id": "ac3ad6a1",
   "metadata": {
    "execution": {
     "iopub.execute_input": "2025-10-23T23:30:31.864635Z",
     "iopub.status.busy": "2025-10-23T23:30:31.864268Z",
     "iopub.status.idle": "2025-10-23T23:30:31.871055Z",
     "shell.execute_reply": "2025-10-23T23:30:31.869888Z"
    },
    "papermill": {
     "duration": 0.101271,
     "end_time": "2025-10-23T23:30:31.872905",
     "exception": false,
     "start_time": "2025-10-23T23:30:31.771634",
     "status": "completed"
    },
    "tags": []
   },
   "outputs": [],
   "source": [
    "X_train_np = X_train.values if isinstance(X_train, pd.DataFrame) else X_train\n",
    "X_test_np = X_test.values if isinstance(X_test, pd.DataFrame) else X_test\n",
    "\n",
    "X_train_np = X_train_np.astype(np.float32)\n",
    "X_test_np = X_test_np.astype(np.float32)"
   ]
  },
  {
   "cell_type": "markdown",
   "id": "ad52deeb",
   "metadata": {
    "papermill": {
     "duration": 0.091257,
     "end_time": "2025-10-23T23:30:32.055724",
     "exception": false,
     "start_time": "2025-10-23T23:30:31.964467",
     "status": "completed"
    },
    "tags": []
   },
   "source": [
    "### SHAP\n"
   ]
  },
  {
   "cell_type": "code",
   "execution_count": null,
   "id": "cef69a1f",
   "metadata": {
    "execution": {
     "iopub.execute_input": "2025-10-23T23:30:32.240581Z",
     "iopub.status.busy": "2025-10-23T23:30:32.240242Z",
     "iopub.status.idle": "2025-10-23T23:30:42.903830Z",
     "shell.execute_reply": "2025-10-23T23:30:42.902730Z"
    },
    "papermill": {
     "duration": 10.758956,
     "end_time": "2025-10-23T23:30:42.906017",
     "exception": false,
     "start_time": "2025-10-23T23:30:32.147061",
     "status": "completed"
    },
    "tags": []
   },
   "outputs": [],
   "source": [
    "import shap\n",
    "import torch\n",
    "\n",
    "shap.initjs()\n",
    "\n",
    "\n",
    "# Define a wrapper to convert numpy -> torch -> model output\n",
    "def ffnn_predict(x_numpy):\n",
    "    with torch.no_grad():\n",
    "        x_tensor = torch.tensor(x_numpy, dtype=torch.float32)\n",
    "        preds = model(x_tensor).numpy()\n",
    "    return preds.flatten()  # <--- flatten keeps it 1D, safe for SHAP\n",
    "\n",
    "\n",
    "# Create SHAP explainer using KernelExplainer (model-agnostic)\n",
    "background = X_train_np[np.random.choice(X_train_np.shape[0], 100, replace=False)]\n",
    "explainer = shap.KernelExplainer(ffnn_predict, background)\n",
    "\n",
    "print(\"X_train_np:\", X_train_np.shape)\n",
    "print(\"X_test_np:\", X_test_np.shape)\n",
    "print(\"background:\", background.shape)\n",
    "\n",
    "with torch.no_grad():\n",
    "    sample_pred = model(torch.tensor(X_test_np[:1], dtype=torch.float32))\n",
    "print(\"Model output shape:\", sample_pred.shape)\n",
    "\n",
    "# Explain a subset of test samples\n",
    "shap_values = explainer.shap_values(X_test_np[:50], nsamples=100)\n",
    "\n",
    "# Plot summary of global feature importance\n",
    "if isinstance(X_temp, pd.DataFrame):\n",
    "    feature_names = X_temp.columns.tolist()\n",
    "else:\n",
    "    feature_names = [f\"feature_{i}\" for i in range(X_test_np.shape[1])]\n",
    "\n",
    "shap.summary_plot(shap_values, X_test_np[:50], feature_names=feature_names)"
   ]
  },
  {
   "cell_type": "code",
   "execution_count": null,
   "id": "634414a8",
   "metadata": {
    "execution": {
     "iopub.execute_input": "2025-10-23T23:30:43.115339Z",
     "iopub.status.busy": "2025-10-23T23:30:43.114938Z",
     "iopub.status.idle": "2025-10-23T23:30:43.133831Z",
     "shell.execute_reply": "2025-10-23T23:30:43.132395Z"
    },
    "papermill": {
     "duration": 0.128842,
     "end_time": "2025-10-23T23:30:43.141906",
     "exception": false,
     "start_time": "2025-10-23T23:30:43.013064",
     "status": "completed"
    },
    "tags": []
   },
   "outputs": [],
   "source": [
    "# If shap_values is a list (of one element), unwrap it\n",
    "if isinstance(shap_values, list):\n",
    "    shap_values = shap_values[0]  # unwrap first element\n",
    "\n",
    "import shap\n",
    "\n",
    "shap.initjs()  # enables interactive HTML plots\n",
    "\n",
    "i = 0\n",
    "shap.force_plot(\n",
    "    explainer.expected_value,\n",
    "    shap_values[i, :],\n",
    "    X_test_np[i, :],\n",
    "    feature_names=feature_names,\n",
    "    matplotlib=False,  # important for interactive HTML\n",
    ")"
   ]
  },
  {
   "cell_type": "code",
   "execution_count": null,
   "id": "390d39e0",
   "metadata": {
    "execution": {
     "iopub.execute_input": "2025-10-23T23:30:43.363713Z",
     "iopub.status.busy": "2025-10-23T23:30:43.363401Z",
     "iopub.status.idle": "2025-10-23T23:30:43.648767Z",
     "shell.execute_reply": "2025-10-23T23:30:43.647762Z"
    },
    "papermill": {
     "duration": 0.397242,
     "end_time": "2025-10-23T23:30:43.650202",
     "exception": false,
     "start_time": "2025-10-23T23:30:43.252960",
     "status": "completed"
    },
    "tags": []
   },
   "outputs": [],
   "source": [
    "shap.plots.bar(\n",
    "    shap.Explanation(\n",
    "        values=shap_values[i, :],\n",
    "        base_values=explainer.expected_value,\n",
    "        data=X_test_np[i, :],\n",
    "        feature_names=feature_names,\n",
    "    )\n",
    ")"
   ]
  },
  {
   "cell_type": "markdown",
   "id": "c7ebebf7",
   "metadata": {
    "papermill": {
     "duration": 0.108312,
     "end_time": "2025-10-23T23:30:43.881919",
     "exception": false,
     "start_time": "2025-10-23T23:30:43.773607",
     "status": "completed"
    },
    "tags": []
   },
   "source": [
    "### LIME\n"
   ]
  },
  {
   "cell_type": "code",
   "execution_count": null,
   "id": "9bac8cf6",
   "metadata": {
    "execution": {
     "iopub.execute_input": "2025-10-23T23:30:44.106246Z",
     "iopub.status.busy": "2025-10-23T23:30:44.105822Z",
     "iopub.status.idle": "2025-10-23T23:30:44.631371Z",
     "shell.execute_reply": "2025-10-23T23:30:44.630243Z"
    },
    "papermill": {
     "duration": 0.663937,
     "end_time": "2025-10-23T23:30:44.656885",
     "exception": false,
     "start_time": "2025-10-23T23:30:43.992948",
     "status": "completed"
    },
    "tags": []
   },
   "outputs": [],
   "source": [
    "from lime import lime_tabular\n",
    "import IPython.display\n",
    "import lime.explanation\n",
    "\n",
    "from IPython.display import display, HTML\n",
    "\n",
    "# Initialize LIME explainer\n",
    "lime_explainer = lime_tabular.LimeTabularExplainer(\n",
    "    training_data=X_train_np, feature_names=feature_names, mode=\"regression\"\n",
    ")\n",
    "\n",
    "# Explain one test instance\n",
    "i = 5  # index of test sample to explain\n",
    "exp = lime_explainer.explain_instance(X_test_np[i], ffnn_predict, num_features=10)\n",
    "\n",
    "\n",
    "html_exp = exp.as_html()\n",
    "display(HTML(html_exp))"
   ]
  },
  {
   "cell_type": "markdown",
   "id": "4dace680",
   "metadata": {},
   "source": [
    "# Inference Function\n"
   ]
  },
  {
   "cell_type": "code",
   "execution_count": null,
   "id": "e617370a",
   "metadata": {},
   "outputs": [],
   "source": [
    "df_final = prepare_data(\n",
    "    path=Path(path_global),\n",
    "    split_scale=False,\n",
    "    top_features=None,\n",
    "    is_drop_columns=False,\n",
    ")"
   ]
  },
  {
   "cell_type": "code",
   "execution_count": null,
   "id": "03ae8b20",
   "metadata": {},
   "outputs": [],
   "source": [
    "df_final[df_final[\"name\"] == \"Kevin De Bruyne\"][\n",
    "    [\n",
    "        \"GW\",\n",
    "        \"upcoming_total_points\",\n",
    "        \"total_points\",\n",
    "        \"total_points_cum\",\n",
    "        \"total_points_cum_per90\",\n",
    "        \"opp_team_name\",\n",
    "        \"opp_team_name_next\",\n",
    "    ]\n",
    "].iloc[4:26]"
   ]
  },
  {
   "cell_type": "code",
   "execution_count": null,
   "id": "a775d898",
   "metadata": {},
   "outputs": [],
   "source": [
    "df_final[df_final[\"name\"] == \"Mohamed Salah\"][\n",
    "    [\n",
    "        \"GW\",\n",
    "        \"upcoming_total_points\",\n",
    "        \"total_points\",\n",
    "        \"total_points_cum\",\n",
    "        \"total_points_cum_per90\",\n",
    "        \"opp_team_name\",\n",
    "        \"opp_team_name_next\",\n",
    "        \"season_x\",\n",
    "    ]\n",
    "].iloc[-26:]"
   ]
  },
  {
   "cell_type": "code",
   "execution_count": null,
   "id": "a9517e0e",
   "metadata": {},
   "outputs": [],
   "source": [
    "def run_pipeline(\n",
    "    raw_data_path: Path = Path(path_global),\n",
    "    model_path: Path = Path(\"model/ffnn_fpl_model.pth\"),\n",
    "    scaler_path: Path = Path(\"model/ffnn_feature_scaler.pkl\"),\n",
    "    gw_to_predict: int | None = None,\n",
    "    name: str | None = None,\n",
    "    season_x: str | None = None,\n",
    "    target_col: str = \"upcoming_total_points\",\n",
    "    top_features: list = top_features,\n",
    "):\n",
    "    # 1. Prepare data\n",
    "    df_raw = prepare_data(path=raw_data_path, split_scale=False, top_features=None)\n",
    "\n",
    "    if gw_to_predict is not None:\n",
    "        raw_rows = df_raw[\n",
    "            (df_raw[\"GW_next\"] == gw_to_predict)\n",
    "            & (df_raw[\"name\"] == name)\n",
    "            & (df_raw[\"season_x\"] == season_x)\n",
    "        ]\n",
    "    else:\n",
    "        raw_rows = df_raw\n",
    "\n",
    "    df_prepared = df_raw[top_features + [target_col]]\n",
    "\n",
    "    # Select specific row if index provided\n",
    "    if gw_to_predict is not None:\n",
    "        df_prepared = df_prepared[\n",
    "            (df_raw[\"GW_next\"] == gw_to_predict)\n",
    "            & (df_raw[\"name\"] == name)\n",
    "            & (df_raw[\"season_x\"] == season_x)\n",
    "        ]\n",
    "\n",
    "    # 2. Load scaler\n",
    "    with open(scaler_path, \"rb\") as file:\n",
    "        scaler = pickle.load(file)\n",
    "\n",
    "    # 3. Scale features\n",
    "    X = df_prepared.drop(columns=[target_col])\n",
    "    X = scaler.transform(X)\n",
    "\n",
    "    model = torch.load(model_path, weights_only=False)\n",
    "\n",
    "    model.eval()\n",
    "    with torch.no_grad():\n",
    "        x_tensor = torch.tensor(X, dtype=torch.float32)\n",
    "        preds = model(x_tensor)\n",
    "        preds_np = preds.cpu().numpy()\n",
    "\n",
    "    for i, pred in enumerate(preds_np):\n",
    "        raw_row = raw_rows.iloc[i]\n",
    "        print(\n",
    "            f\"Predicted upcoming_total_points for GW {raw_row['GW_next']} for player {raw_row['name']} vs {raw_row['opp_team_name_next']}: {pred[0]:.2f}, while the actual points are {raw_row['upcoming_total_points']}, with an error of {abs(pred[0] - raw_row['upcoming_total_points']):.2f}\"\n",
    "        )"
   ]
  },
  {
   "cell_type": "code",
   "execution_count": null,
   "id": "44933cc7",
   "metadata": {},
   "outputs": [],
   "source": [
    "with warnings.catch_warnings():\n",
    "    warnings.simplefilter(\"ignore\")\n",
    "\n",
    "    run_pipeline(\n",
    "        raw_data_path=Path(path_global),\n",
    "        model_path=Path(\"model/ffnn_fpl_model.pth\"),\n",
    "        scaler_path=Path(\"model/ffnn_feature_scaler.pkl\"),\n",
    "        gw_to_predict=8,  # 24 for a DGW example\n",
    "        season_x=\"2020-21\",\n",
    "        name=\"Kevin De Bruyne\",\n",
    "        target_col=\"upcoming_total_points\",\n",
    "        top_features=top_features,\n",
    "    )"
   ]
  },
  {
   "cell_type": "code",
   "execution_count": null,
   "id": "1b742b11",
   "metadata": {},
   "outputs": [],
   "source": [
    "with warnings.catch_warnings():\n",
    "    warnings.simplefilter(\"ignore\")\n",
    "\n",
    "    run_pipeline(\n",
    "        raw_data_path=Path(path_global),\n",
    "        model_path=Path(\"model/ffnn_fpl_model.pth\"),\n",
    "        scaler_path=Path(\"model/ffnn_feature_scaler.pkl\"),\n",
    "        gw_to_predict=24,  # 24 for a DGW example\n",
    "        season_x=\"2022-23\",\n",
    "        name=\"Mohamed Salah\",\n",
    "        target_col=\"upcoming_total_points\",\n",
    "        top_features=top_features,\n",
    "    )"
   ]
  }
 ],
 "metadata": {
  "kaggle": {
   "accelerator": "none",
   "dataSources": [
    {
     "datasetId": 3677153,
     "sourceId": 6380645,
     "sourceType": "datasetVersion"
    }
   ],
   "dockerImageVersionId": 31153,
   "isGpuEnabled": false,
   "isInternetEnabled": true,
   "language": "python",
   "sourceType": "notebook"
  },
  "kernelspec": {
   "display_name": "venv",
   "language": "python",
   "name": "python3"
  },
  "language_info": {
   "codemirror_mode": {
    "name": "ipython",
    "version": 3
   },
   "file_extension": ".py",
   "mimetype": "text/x-python",
   "name": "python",
   "nbconvert_exporter": "python",
   "pygments_lexer": "ipython3",
   "version": "3.13.5"
  },
  "papermill": {
   "default_parameters": {},
   "duration": 159.115462,
   "end_time": "2025-10-23T23:30:47.708372",
   "environment_variables": {},
   "exception": null,
   "input_path": "__notebook__.ipynb",
   "output_path": "__notebook__.ipynb",
   "parameters": {},
   "start_time": "2025-10-23T23:28:08.592910",
   "version": "2.6.0"
  },
  "widgets": {
   "application/vnd.jupyter.widget-state+json": {
    "state": {
     "09a45934b9d342689787ed07bfa19462": {
      "model_module": "@jupyter-widgets/controls",
      "model_module_version": "2.0.0",
      "model_name": "HTMLStyleModel",
      "state": {
       "_model_module": "@jupyter-widgets/controls",
       "_model_module_version": "2.0.0",
       "_model_name": "HTMLStyleModel",
       "_view_count": null,
       "_view_module": "@jupyter-widgets/base",
       "_view_module_version": "2.0.0",
       "_view_name": "StyleView",
       "background": null,
       "description_width": "",
       "font_size": null,
       "text_color": null
      }
     },
     "229634555507444bae4aa74902cd03db": {
      "model_module": "@jupyter-widgets/base",
      "model_module_version": "2.0.0",
      "model_name": "LayoutModel",
      "state": {
       "_model_module": "@jupyter-widgets/base",
       "_model_module_version": "2.0.0",
       "_model_name": "LayoutModel",
       "_view_count": null,
       "_view_module": "@jupyter-widgets/base",
       "_view_module_version": "2.0.0",
       "_view_name": "LayoutView",
       "align_content": null,
       "align_items": null,
       "align_self": null,
       "border_bottom": null,
       "border_left": null,
       "border_right": null,
       "border_top": null,
       "bottom": null,
       "display": null,
       "flex": null,
       "flex_flow": null,
       "grid_area": null,
       "grid_auto_columns": null,
       "grid_auto_flow": null,
       "grid_auto_rows": null,
       "grid_column": null,
       "grid_gap": null,
       "grid_row": null,
       "grid_template_areas": null,
       "grid_template_columns": null,
       "grid_template_rows": null,
       "height": null,
       "justify_content": null,
       "justify_items": null,
       "left": null,
       "margin": null,
       "max_height": null,
       "max_width": null,
       "min_height": null,
       "min_width": null,
       "object_fit": null,
       "object_position": null,
       "order": null,
       "overflow": null,
       "padding": null,
       "right": null,
       "top": null,
       "visibility": null,
       "width": null
      }
     },
     "301ea0e8a39b4f77bb10038776825abc": {
      "model_module": "@jupyter-widgets/controls",
      "model_module_version": "2.0.0",
      "model_name": "ProgressStyleModel",
      "state": {
       "_model_module": "@jupyter-widgets/controls",
       "_model_module_version": "2.0.0",
       "_model_name": "ProgressStyleModel",
       "_view_count": null,
       "_view_module": "@jupyter-widgets/base",
       "_view_module_version": "2.0.0",
       "_view_name": "StyleView",
       "bar_color": null,
       "description_width": ""
      }
     },
     "4219c68b9d794b48bc0935f4464a9e07": {
      "model_module": "@jupyter-widgets/controls",
      "model_module_version": "2.0.0",
      "model_name": "HTMLStyleModel",
      "state": {
       "_model_module": "@jupyter-widgets/controls",
       "_model_module_version": "2.0.0",
       "_model_name": "HTMLStyleModel",
       "_view_count": null,
       "_view_module": "@jupyter-widgets/base",
       "_view_module_version": "2.0.0",
       "_view_name": "StyleView",
       "background": null,
       "description_width": "",
       "font_size": null,
       "text_color": null
      }
     },
     "736017ba6ad047358497881af067e97c": {
      "model_module": "@jupyter-widgets/controls",
      "model_module_version": "2.0.0",
      "model_name": "HTMLModel",
      "state": {
       "_dom_classes": [],
       "_model_module": "@jupyter-widgets/controls",
       "_model_module_version": "2.0.0",
       "_model_name": "HTMLModel",
       "_view_count": null,
       "_view_module": "@jupyter-widgets/controls",
       "_view_module_version": "2.0.0",
       "_view_name": "HTMLView",
       "description": "",
       "description_allow_html": false,
       "layout": "IPY_MODEL_7e12ccaa067f4a3394e3370d761deef4",
       "placeholder": "​",
       "style": "IPY_MODEL_4219c68b9d794b48bc0935f4464a9e07",
       "tabbable": null,
       "tooltip": null,
       "value": " 50/50 [00:07&lt;00:00,  7.06it/s]"
      }
     },
     "7e12ccaa067f4a3394e3370d761deef4": {
      "model_module": "@jupyter-widgets/base",
      "model_module_version": "2.0.0",
      "model_name": "LayoutModel",
      "state": {
       "_model_module": "@jupyter-widgets/base",
       "_model_module_version": "2.0.0",
       "_model_name": "LayoutModel",
       "_view_count": null,
       "_view_module": "@jupyter-widgets/base",
       "_view_module_version": "2.0.0",
       "_view_name": "LayoutView",
       "align_content": null,
       "align_items": null,
       "align_self": null,
       "border_bottom": null,
       "border_left": null,
       "border_right": null,
       "border_top": null,
       "bottom": null,
       "display": null,
       "flex": null,
       "flex_flow": null,
       "grid_area": null,
       "grid_auto_columns": null,
       "grid_auto_flow": null,
       "grid_auto_rows": null,
       "grid_column": null,
       "grid_gap": null,
       "grid_row": null,
       "grid_template_areas": null,
       "grid_template_columns": null,
       "grid_template_rows": null,
       "height": null,
       "justify_content": null,
       "justify_items": null,
       "left": null,
       "margin": null,
       "max_height": null,
       "max_width": null,
       "min_height": null,
       "min_width": null,
       "object_fit": null,
       "object_position": null,
       "order": null,
       "overflow": null,
       "padding": null,
       "right": null,
       "top": null,
       "visibility": null,
       "width": null
      }
     },
     "bb1de3ec1c6d4cbbb08e4bb690fd0386": {
      "model_module": "@jupyter-widgets/base",
      "model_module_version": "2.0.0",
      "model_name": "LayoutModel",
      "state": {
       "_model_module": "@jupyter-widgets/base",
       "_model_module_version": "2.0.0",
       "_model_name": "LayoutModel",
       "_view_count": null,
       "_view_module": "@jupyter-widgets/base",
       "_view_module_version": "2.0.0",
       "_view_name": "LayoutView",
       "align_content": null,
       "align_items": null,
       "align_self": null,
       "border_bottom": null,
       "border_left": null,
       "border_right": null,
       "border_top": null,
       "bottom": null,
       "display": null,
       "flex": null,
       "flex_flow": null,
       "grid_area": null,
       "grid_auto_columns": null,
       "grid_auto_flow": null,
       "grid_auto_rows": null,
       "grid_column": null,
       "grid_gap": null,
       "grid_row": null,
       "grid_template_areas": null,
       "grid_template_columns": null,
       "grid_template_rows": null,
       "height": null,
       "justify_content": null,
       "justify_items": null,
       "left": null,
       "margin": null,
       "max_height": null,
       "max_width": null,
       "min_height": null,
       "min_width": null,
       "object_fit": null,
       "object_position": null,
       "order": null,
       "overflow": null,
       "padding": null,
       "right": null,
       "top": null,
       "visibility": null,
       "width": null
      }
     },
     "ce96aaf0908e4817b5280c7809c62b7d": {
      "model_module": "@jupyter-widgets/base",
      "model_module_version": "2.0.0",
      "model_name": "LayoutModel",
      "state": {
       "_model_module": "@jupyter-widgets/base",
       "_model_module_version": "2.0.0",
       "_model_name": "LayoutModel",
       "_view_count": null,
       "_view_module": "@jupyter-widgets/base",
       "_view_module_version": "2.0.0",
       "_view_name": "LayoutView",
       "align_content": null,
       "align_items": null,
       "align_self": null,
       "border_bottom": null,
       "border_left": null,
       "border_right": null,
       "border_top": null,
       "bottom": null,
       "display": null,
       "flex": null,
       "flex_flow": null,
       "grid_area": null,
       "grid_auto_columns": null,
       "grid_auto_flow": null,
       "grid_auto_rows": null,
       "grid_column": null,
       "grid_gap": null,
       "grid_row": null,
       "grid_template_areas": null,
       "grid_template_columns": null,
       "grid_template_rows": null,
       "height": null,
       "justify_content": null,
       "justify_items": null,
       "left": null,
       "margin": null,
       "max_height": null,
       "max_width": null,
       "min_height": null,
       "min_width": null,
       "object_fit": null,
       "object_position": null,
       "order": null,
       "overflow": null,
       "padding": null,
       "right": null,
       "top": null,
       "visibility": null,
       "width": null
      }
     },
     "e7552b290b704689a4d2e032a363b2c3": {
      "model_module": "@jupyter-widgets/controls",
      "model_module_version": "2.0.0",
      "model_name": "HTMLModel",
      "state": {
       "_dom_classes": [],
       "_model_module": "@jupyter-widgets/controls",
       "_model_module_version": "2.0.0",
       "_model_name": "HTMLModel",
       "_view_count": null,
       "_view_module": "@jupyter-widgets/controls",
       "_view_module_version": "2.0.0",
       "_view_name": "HTMLView",
       "description": "",
       "description_allow_html": false,
       "layout": "IPY_MODEL_ce96aaf0908e4817b5280c7809c62b7d",
       "placeholder": "​",
       "style": "IPY_MODEL_09a45934b9d342689787ed07bfa19462",
       "tabbable": null,
       "tooltip": null,
       "value": "100%"
      }
     },
     "ee5cab5b9fb144369622fd2bbf37eb78": {
      "model_module": "@jupyter-widgets/controls",
      "model_module_version": "2.0.0",
      "model_name": "FloatProgressModel",
      "state": {
       "_dom_classes": [],
       "_model_module": "@jupyter-widgets/controls",
       "_model_module_version": "2.0.0",
       "_model_name": "FloatProgressModel",
       "_view_count": null,
       "_view_module": "@jupyter-widgets/controls",
       "_view_module_version": "2.0.0",
       "_view_name": "ProgressView",
       "bar_style": "success",
       "description": "",
       "description_allow_html": false,
       "layout": "IPY_MODEL_229634555507444bae4aa74902cd03db",
       "max": 50,
       "min": 0,
       "orientation": "horizontal",
       "style": "IPY_MODEL_301ea0e8a39b4f77bb10038776825abc",
       "tabbable": null,
       "tooltip": null,
       "value": 50
      }
     },
     "f203618e179c49879f2c1567f0f2e8fc": {
      "model_module": "@jupyter-widgets/controls",
      "model_module_version": "2.0.0",
      "model_name": "HBoxModel",
      "state": {
       "_dom_classes": [],
       "_model_module": "@jupyter-widgets/controls",
       "_model_module_version": "2.0.0",
       "_model_name": "HBoxModel",
       "_view_count": null,
       "_view_module": "@jupyter-widgets/controls",
       "_view_module_version": "2.0.0",
       "_view_name": "HBoxView",
       "box_style": "",
       "children": [
        "IPY_MODEL_e7552b290b704689a4d2e032a363b2c3",
        "IPY_MODEL_ee5cab5b9fb144369622fd2bbf37eb78",
        "IPY_MODEL_736017ba6ad047358497881af067e97c"
       ],
       "layout": "IPY_MODEL_bb1de3ec1c6d4cbbb08e4bb690fd0386",
       "tabbable": null,
       "tooltip": null
      }
     }
    },
    "version_major": 2,
    "version_minor": 0
   }
  }
 },
 "nbformat": 4,
 "nbformat_minor": 5
}
